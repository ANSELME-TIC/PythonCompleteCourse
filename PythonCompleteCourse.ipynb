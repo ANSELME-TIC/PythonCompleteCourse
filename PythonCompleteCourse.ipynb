{
 "cells": [
  {
   "cell_type": "markdown",
   "id": "94c4ae42-8ce1-4e77-b6d7-ba586ffc40a6",
   "metadata": {},
   "source": [
    "# Variables and Constantes"
   ]
  },
  {
   "cell_type": "code",
   "execution_count": null,
   "id": "ba12bdd9-1bae-498a-ac51-f734f5a96082",
   "metadata": {},
   "outputs": [],
   "source": [
    "# Declaring and assigning value to constant\n",
    "PI = 3.14\n",
    "GRAVITY = 9.8"
   ]
  },
  {
   "cell_type": "code",
   "execution_count": 2,
   "id": "dc7059e4-6cf1-45f5-bba6-3b1c8c252b4d",
   "metadata": {},
   "outputs": [
    {
     "name": "stdout",
     "output_type": "stream",
     "text": [
      "Apple\n",
      "Aeroplane\n",
      "100\n",
      "1 2.5 Hello\n",
      "5 5 5\n"
     ]
    }
   ],
   "source": [
    "# Declaring and assigning value to constant\n",
    "\n",
    "a = \"Apple\"\n",
    "print(a)\n",
    "\n",
    "# Changing value of a variable\n",
    "\n",
    "a = \"Aeroplane\"\n",
    "print(a)\n",
    "\n",
    "a = 100\n",
    "print(a)\n",
    "\n",
    "# Python is a dynamic type language\n",
    "\n",
    "#Assigning Multiple values to a variable\n",
    "\n",
    "b,c,d = 1,2.5, \"Hello\"\n",
    "print(b,c,d)\n",
    "\n",
    "# Assigning same value to multiple variables\n",
    "b = c = d = 5\n",
    "print(b,c,d)"
   ]
  },
  {
   "cell_type": "markdown",
   "id": "138917f5-e8bb-4a08-ac9c-fe9c3bead7a9",
   "metadata": {},
   "source": [
    "# Class and Object"
   ]
  },
  {
   "cell_type": "code",
   "execution_count": 12,
   "id": "4b63aef2-2819-4bec-af93-949cd3101c16",
   "metadata": {},
   "outputs": [],
   "source": [
    "#Learn Class and object\n",
    "class MyComplexNumber:\n",
    "    #Constructor methods\n",
    "    def __init__(self,real = 0, imag = 0):\n",
    "        print(\"MyComplexNumber constructor executing....\")\n",
    "        self.real_part = real\n",
    "        self.imag_part = imag\n",
    "        \n",
    "    def displayComplex(self):\n",
    "        print(\"{0} + {1}j\".format(self.real_part,self.imag_part))"
   ]
  },
  {
   "cell_type": "code",
   "execution_count": 13,
   "id": "6f0f5f29-9787-47fa-a4d6-15d096afcd47",
   "metadata": {},
   "outputs": [
    {
     "name": "stdout",
     "output_type": "stream",
     "text": [
      "MyComplexNumber constructor executing....\n",
      "40 + 50j\n"
     ]
    }
   ],
   "source": [
    "# Create a new object against MyComplexNumber class\n",
    "cmplx1 = MyComplexNumber(40,50)\n",
    "\n",
    "#Calling displayComplex() function\n",
    "#Output: 40 + 50j\n",
    "\n",
    "cmplx1.displayComplex()"
   ]
  },
  {
   "cell_type": "code",
   "execution_count": 14,
   "id": "1a3420d9-8cca-4236-9511-f11cc511726b",
   "metadata": {},
   "outputs": [
    {
     "name": "stdout",
     "output_type": "stream",
     "text": [
      "MyComplexNumber constructor executing....\n",
      "60 + 75j\n",
      "(60, 75, 90)\n"
     ]
    }
   ],
   "source": [
    "# Create another object against MyComplexNumber class\n",
    "# and create a new attribute 'new_attribute'\n",
    "\n",
    "cmplx2 = MyComplexNumber(60,75)\n",
    "cmplx2.new_attribute = 90\n",
    "cmplx2.displayComplex()\n",
    "#Output: (60, 75, 90 )\n",
    "print((cmplx2.real_part,cmplx2.imag_part,cmplx2.new_attribute))"
   ]
  },
  {
   "cell_type": "code",
   "execution_count": 15,
   "id": "6b16b42a-0516-4a20-8caf-eb3afd89a242",
   "metadata": {},
   "outputs": [
    {
     "ename": "AttributeError",
     "evalue": "'MyComplexNumber' object has no attribute 'new_attribute'",
     "output_type": "error",
     "traceback": [
      "\u001b[1;31m---------------------------------------------------------------------------\u001b[0m",
      "\u001b[1;31mAttributeError\u001b[0m                            Traceback (most recent call last)",
      "\u001b[1;32m~\\AppData\\Local\\Temp\\ipykernel_12776\\3914347207.py\u001b[0m in \u001b[0;36m<module>\u001b[1;34m\u001b[0m\n\u001b[0;32m      1\u001b[0m \u001b[1;31m#But cmpx1 doesn't new attribute 'new_attribute'\u001b[0m\u001b[1;33m\u001b[0m\u001b[1;33m\u001b[0m\u001b[1;33m\u001b[0m\u001b[0m\n\u001b[0;32m      2\u001b[0m \u001b[1;31m# AttributeError: 'MyComplexNumber' object has no attribute 'new_attribute'\u001b[0m\u001b[1;33m\u001b[0m\u001b[1;33m\u001b[0m\u001b[1;33m\u001b[0m\u001b[0m\n\u001b[1;32m----> 3\u001b[1;33m \u001b[0mcmplx1\u001b[0m\u001b[1;33m.\u001b[0m\u001b[0mnew_attribute\u001b[0m\u001b[1;33m\u001b[0m\u001b[1;33m\u001b[0m\u001b[0m\n\u001b[0m",
      "\u001b[1;31mAttributeError\u001b[0m: 'MyComplexNumber' object has no attribute 'new_attribute'"
     ]
    }
   ],
   "source": [
    "#But cmpx1 doesn't new attribute 'new_attribute'\n",
    "# AttributeError: 'MyComplexNumber' object has no attribute 'new_attribute'\n",
    "cmplx1.new_attribute"
   ]
  },
  {
   "cell_type": "code",
   "execution_count": 16,
   "id": "d5ea2782-78ef-4e19-91d5-c9fa096ddee5",
   "metadata": {},
   "outputs": [],
   "source": [
    "# Deleting object attributes and the object\n",
    "del cmplx1.real_part\n",
    "del cmplx1"
   ]
  },
  {
   "cell_type": "code",
   "execution_count": 17,
   "id": "d8e57e94-5fbd-4722-a779-b174c460f437",
   "metadata": {},
   "outputs": [
    {
     "ename": "NameError",
     "evalue": "name 'cmplx1' is not defined",
     "output_type": "error",
     "traceback": [
      "\u001b[1;31m---------------------------------------------------------------------------\u001b[0m",
      "\u001b[1;31mNameError\u001b[0m                                 Traceback (most recent call last)",
      "\u001b[1;32m~\\AppData\\Local\\Temp\\ipykernel_12776\\787859639.py\u001b[0m in \u001b[0;36m<module>\u001b[1;34m\u001b[0m\n\u001b[1;32m----> 1\u001b[1;33m \u001b[0mprint\u001b[0m\u001b[1;33m(\u001b[0m\u001b[0mcmplx1\u001b[0m\u001b[1;33m)\u001b[0m\u001b[1;33m\u001b[0m\u001b[1;33m\u001b[0m\u001b[0m\n\u001b[0m",
      "\u001b[1;31mNameError\u001b[0m: name 'cmplx1' is not defined"
     ]
    }
   ],
   "source": [
    "print(cmplx1)"
   ]
  },
  {
   "cell_type": "markdown",
   "id": "57c7aff7-d776-440c-8766-424acc85c1dc",
   "metadata": {},
   "source": [
    "# Array .. List"
   ]
  },
  {
   "cell_type": "code",
   "execution_count": 19,
   "id": "ba107e15-a120-440e-bafc-0a26bf82d588",
   "metadata": {},
   "outputs": [
    {
     "name": "stdout",
     "output_type": "stream",
     "text": [
      "[10, 20, 30, 40, 50]\n",
      "10\n",
      "20\n",
      "30\n",
      "50\n",
      "40\n"
     ]
    }
   ],
   "source": [
    "# Defining and declaring and array\n",
    "arr = [10,20,30,40,50]\n",
    "print(arr)\n",
    "\n",
    "# Accessing Array elements\n",
    "print(arr[0])\n",
    "print(arr[1])\n",
    "print(arr[2])\n",
    "print(arr[-1]) # Negative index\n",
    "print(arr[-2]) # Negative index\n"
   ]
  },
  {
   "cell_type": "code",
   "execution_count": 20,
   "id": "847d5e00-2aa0-40a5-ae0c-29c017d885b1",
   "metadata": {},
   "outputs": [
    {
     "name": "stdout",
     "output_type": "stream",
     "text": [
      "['cake', 'Apple', 'Google', 'Microsoft', 'Toyota']\n",
      "5\n",
      "['cake', 'Apple', 'Google', 'Microsoft', 'Toyota', 'Intel']\n"
     ]
    }
   ],
   "source": [
    "brands = [\"cake\",\"Apple\",\"Google\",\"Microsoft\",\"Toyota\"]\n",
    "print(brands)\n",
    "\n",
    "# Finding the length of array\n",
    "num_brands = len(brands)\n",
    "print(num_brands)\n",
    "\n",
    "# Adding an element to an array using append ()\n",
    "brands.append(\"Intel\")\n",
    "print(brands)"
   ]
  },
  {
   "cell_type": "code",
   "execution_count": 22,
   "id": "e5654aa0-2ca6-4ef0-ab02-b8d6ff4d57ea",
   "metadata": {},
   "outputs": [
    {
     "name": "stdout",
     "output_type": "stream",
     "text": [
      "['violet', 'indigo', 'blue', 'green', 'orange', 'red']\n",
      "['violet', 'indigo', 'green', 'orange', 'red']\n",
      "['violet', 'indigo', 'green', 'red']\n"
     ]
    }
   ],
   "source": [
    "# Removing elements from an array\n",
    "colors = [\"violet\",\"indigo\",\"blue\",\"green\",\"yellow\",\"orange\",\"red\"]\n",
    "del colors[4]\n",
    "print(colors)\n",
    "\n",
    "colors.remove(\"blue\")\n",
    "print(colors)\n",
    "\n",
    "colors.pop(3)\n",
    "print(colors)\n",
    "\n",
    "\n",
    "# Output [\"violet\",\"indigo\",\"green\",\"red\"]"
   ]
  },
  {
   "cell_type": "code",
   "execution_count": 24,
   "id": "b837f2b7-62f2-48c5-b937-7f51886331c6",
   "metadata": {},
   "outputs": [
    {
     "name": "stdout",
     "output_type": "stream",
     "text": [
      "['Apple', 'Banana', 'Mango', 'Grapes', 'Orange']\n",
      "['Apple', 'Pineapple', 'Mango', 'Grapes', 'Orange']\n",
      "['Apple', 'Pineapple', 'Mango', 'Grapes', 'Guava']\n"
     ]
    }
   ],
   "source": [
    "# Modifying elements of an array using indexing\n",
    "fruits = [\"Apple\",\"Banana\",\"Mango\",\"Grapes\",\"Orange\"]\n",
    "print(fruits)\n",
    "\n",
    "fruits[1] = \"Pineapple\"\n",
    "print(fruits)\n",
    "\n",
    "fruits[-1] = \"Guava\"\n",
    "print(fruits)"
   ]
  },
  {
   "cell_type": "code",
   "execution_count": 26,
   "id": "1f71e981-b6dc-4e7b-9807-560bf3e40c79",
   "metadata": {},
   "outputs": [
    {
     "name": "stdout",
     "output_type": "stream",
     "text": [
      "[1, 2, 3]\n",
      "[1, 2, 3]\n",
      "[1, 2, 3, 4, 5, 6]\n"
     ]
    }
   ],
   "source": [
    "# Concatenating two arrays using the + operator\n",
    "concat = [1,2,3]\n",
    "print (concat)\n",
    "\n",
    "concat + [4,5,6]\n",
    "print (concat)\n",
    "\n",
    "#updating variable concat\n",
    "concat = concat + [4,5,6]\n",
    "print (concat)"
   ]
  },
  {
   "cell_type": "code",
   "execution_count": 27,
   "id": "d7a1701e-054e-4a56-9dfc-c3b3e41c5e2f",
   "metadata": {},
   "outputs": [
    {
     "name": "stdout",
     "output_type": "stream",
     "text": [
      "['a']\n",
      "['a', 'a', 'a', 'a', 'a']\n"
     ]
    }
   ],
   "source": [
    "# Repeating element in an array\n",
    "repeat = [\"a\"]\n",
    "print(repeat)\n",
    "\n",
    "#updating variable repeat\n",
    "repeat = repeat * 5\n",
    "print(repeat)"
   ]
  },
  {
   "cell_type": "code",
   "execution_count": 32,
   "id": "a6fc29b6-0ca3-4ddd-9eaa-e343e6dfab63",
   "metadata": {},
   "outputs": [
    {
     "name": "stdout",
     "output_type": "stream",
     "text": [
      "['Apple', 'Banana', 'Mango', 'Grapes', 'Orange']\n",
      "['Banana', 'Mango', 'Grapes']\n",
      "['Apple', 'Banana', 'Mango']\n",
      "['Banana', 'Mango', 'Grapes', 'Orange']\n",
      "['Mango', 'Grapes']\n"
     ]
    }
   ],
   "source": [
    "#Slicing (couper en tranche) an array\n",
    "fruits = [\"Apple\",\"Banana\",\"Mango\",\"Grapes\",\"Orange\"]\n",
    "print(fruits)\n",
    "print(fruits[1:4])\n",
    "print(fruits[:3]) # [0:3]\n",
    "print(fruits[-4:])\n",
    "print(fruits[-3:-1]) # -1 End element"
   ]
  },
  {
   "cell_type": "code",
   "execution_count": 36,
   "id": "c0f5544b-8750-4015-826e-516a016d2048",
   "metadata": {},
   "outputs": [
    {
     "name": "stdout",
     "output_type": "stream",
     "text": [
      "[[1, 2], [3, 4], [5, 6], [7, 8]]\n",
      "[1, 2]\n",
      "[7, 8]\n",
      "6\n",
      "7\n"
     ]
    }
   ],
   "source": [
    "#Declaring and defininf=g multidimentional array\n",
    "multd = [[1,2], [3,4], [5,6], [7,8]]\n",
    "print(multd)\n",
    "print(multd[0])\n",
    "print(multd[3])\n",
    "print(multd[2][1])\n",
    "print(multd[3][0])"
   ]
  },
  {
   "cell_type": "markdown",
   "id": "0f16c120-ef1a-4363-aa89-68bd3072a0a0",
   "metadata": {},
   "source": [
    "# Python keywords"
   ]
  },
  {
   "cell_type": "code",
   "execution_count": 39,
   "id": "a2199de2-e24d-426a-8d10-d45bab3b2d9a",
   "metadata": {},
   "outputs": [
    {
     "name": "stdout",
     "output_type": "stream",
     "text": [
      "True\n",
      "False\n"
     ]
    }
   ],
   "source": [
    "#True False\n",
    "print(5 == 5)\n",
    "print(5>5)"
   ]
  },
  {
   "cell_type": "code",
   "execution_count": 41,
   "id": "aee57c19-eac2-4b2d-b1ab-3f3169de3b58",
   "metadata": {},
   "outputs": [
    {
     "name": "stdout",
     "output_type": "stream",
     "text": [
      "False\n",
      "True\n"
     ]
    }
   ],
   "source": [
    "# None\n",
    "print(None == 0)\n",
    "print(None == None)"
   ]
  },
  {
   "cell_type": "code",
   "execution_count": 43,
   "id": "edb953d4-9d4d-43bb-8ccf-8d6c8214c4ce",
   "metadata": {},
   "outputs": [
    {
     "name": "stdout",
     "output_type": "stream",
     "text": [
      "None\n"
     ]
    }
   ],
   "source": [
    "#function \n",
    "def a_void_function():\n",
    "    a = 1\n",
    "    b = 2\n",
    "    c = a + b\n",
    "x = a_void_function()\n",
    "print(x)"
   ]
  },
  {
   "cell_type": "code",
   "execution_count": 46,
   "id": "faa0759e-2f16-4ae6-9ea2-9a47768b0940",
   "metadata": {},
   "outputs": [
    {
     "name": "stdout",
     "output_type": "stream",
     "text": [
      "False\n",
      "True\n",
      "True\n"
     ]
    }
   ],
   "source": [
    "#and or not\n",
    "print(True and False)\n",
    "print(True or False)\n",
    "print(not False)"
   ]
  },
  {
   "cell_type": "code",
   "execution_count": 47,
   "id": "e9aa1de9-324d-49d3-ba17-1a092d71b9c3",
   "metadata": {},
   "outputs": [
    {
     "name": "stdout",
     "output_type": "stream",
     "text": [
      "-1.0\n"
     ]
    }
   ],
   "source": [
    "# as\n",
    "import math as myMath\n",
    "print(myMath.cos(myMath.pi))"
   ]
  },
  {
   "cell_type": "code",
   "execution_count": 50,
   "id": "328845c1-025e-4ba7-83c6-5c138cbfc587",
   "metadata": {},
   "outputs": [],
   "source": [
    "# assert\n",
    "\n",
    "assert 5 > 4\n",
    "assert 5 == 5"
   ]
  },
  {
   "cell_type": "code",
   "execution_count": 52,
   "id": "b923a922-618c-424c-b1f5-e27f099a2645",
   "metadata": {},
   "outputs": [
    {
     "name": "stdout",
     "output_type": "stream",
     "text": [
      "1\n",
      "2\n",
      "3\n",
      "4\n",
      "5\n",
      "6\n"
     ]
    }
   ],
   "source": [
    "#break\n",
    "for i in range(1,11):\n",
    "    if i == 7:\n",
    "        break # terminate loop\n",
    "    print(i)"
   ]
  },
  {
   "cell_type": "code",
   "execution_count": 54,
   "id": "442cf7eb-ddd3-49d7-ad3b-18fac6bc995d",
   "metadata": {},
   "outputs": [
    {
     "name": "stdout",
     "output_type": "stream",
     "text": [
      "1\n",
      "2\n",
      "3\n",
      "4\n",
      "6\n",
      "7\n"
     ]
    }
   ],
   "source": [
    "# continue\n",
    "for i in range(1,8):\n",
    "    if i == 5:\n",
    "       continue # saute une execution de boucle\n",
    "    print(i)"
   ]
  },
  {
   "cell_type": "code",
   "execution_count": 55,
   "id": "ffa113ca-a4aa-41c3-b8d1-340d79f66541",
   "metadata": {},
   "outputs": [
    {
     "name": "stdout",
     "output_type": "stream",
     "text": [
      "function1() executing...\n",
      "function2() executing...\n"
     ]
    }
   ],
   "source": [
    "# class\n",
    "class ExampleClass:\n",
    "    def function1(parameters):\n",
    "        print(\"function1() executing...\")\n",
    "    def function2(parameters):\n",
    "        print(\"function2() executing...\")\n",
    "ob1 = ExampleClass()\n",
    "ob1.function1()\n",
    "ob1.function2()"
   ]
  },
  {
   "cell_type": "code",
   "execution_count": 57,
   "id": "cde8fbbd-1c9a-456a-9e2c-ea6b57830bc3",
   "metadata": {},
   "outputs": [],
   "source": [
    "#def\n",
    "def function_name(parameters):\n",
    "    pass # not outcome\n",
    "function_name(10)"
   ]
  },
  {
   "cell_type": "code",
   "execution_count": 58,
   "id": "a85c58cb-7a80-4fab-a030-98a394e37716",
   "metadata": {},
   "outputs": [
    {
     "name": "stdout",
     "output_type": "stream",
     "text": [
      "10\n"
     ]
    },
    {
     "ename": "NameError",
     "evalue": "name 'a' is not defined",
     "output_type": "error",
     "traceback": [
      "\u001b[1;31m---------------------------------------------------------------------------\u001b[0m",
      "\u001b[1;31mNameError\u001b[0m                                 Traceback (most recent call last)",
      "\u001b[1;32m~\\AppData\\Local\\Temp\\ipykernel_12776\\236235000.py\u001b[0m in \u001b[0;36m<module>\u001b[1;34m\u001b[0m\n\u001b[0;32m      3\u001b[0m \u001b[0mprint\u001b[0m\u001b[1;33m(\u001b[0m\u001b[0ma\u001b[0m\u001b[1;33m)\u001b[0m\u001b[1;33m\u001b[0m\u001b[1;33m\u001b[0m\u001b[0m\n\u001b[0;32m      4\u001b[0m \u001b[1;32mdel\u001b[0m \u001b[0ma\u001b[0m\u001b[1;33m\u001b[0m\u001b[1;33m\u001b[0m\u001b[0m\n\u001b[1;32m----> 5\u001b[1;33m \u001b[0mprint\u001b[0m\u001b[1;33m(\u001b[0m\u001b[0ma\u001b[0m\u001b[1;33m)\u001b[0m\u001b[1;33m\u001b[0m\u001b[1;33m\u001b[0m\u001b[0m\n\u001b[0m",
      "\u001b[1;31mNameError\u001b[0m: name 'a' is not defined"
     ]
    }
   ],
   "source": [
    "#del\n",
    "a = 10\n",
    "print(a)\n",
    "del a\n",
    "print(a)"
   ]
  },
  {
   "cell_type": "code",
   "execution_count": 59,
   "id": "bc4e1a00-1dd9-4df8-b4fa-212ef7e68555",
   "metadata": {},
   "outputs": [
    {
     "name": "stdout",
     "output_type": "stream",
     "text": [
      "Two\n"
     ]
    }
   ],
   "source": [
    "# if... elif..else\n",
    "num = 2\n",
    "if num == 1:\n",
    "    print('one')\n",
    "elif num == 2:\n",
    "    print(\"Two\")\n",
    "else:\n",
    "    print('Something else')"
   ]
  },
  {
   "cell_type": "code",
   "execution_count": 61,
   "id": "75cf9622-4d52-47f9-9be4-b707ee77c59f",
   "metadata": {},
   "outputs": [
    {
     "name": "stdout",
     "output_type": "stream",
     "text": [
      "Execution Successfully\n"
     ]
    }
   ],
   "source": [
    "#try ...raise .. catch .. finally\n",
    "\n",
    "try:\n",
    "    x = 9\n",
    "    #raise ZeroDivisionError\n",
    "except ZeroDivisionError:\n",
    "    print(\"Division cannot be performed\")\n",
    "finally:\n",
    "    print(\"Execution Successfully\")"
   ]
  },
  {
   "cell_type": "code",
   "execution_count": 65,
   "id": "15b43932-a813-4994-bf8a-af152113e453",
   "metadata": {},
   "outputs": [
    {
     "name": "stdout",
     "output_type": "stream",
     "text": [
      "1\n",
      "2\n",
      "3\n",
      "4\n",
      "5\n",
      "6\n",
      "7\n",
      "8\n",
      "9\n"
     ]
    }
   ],
   "source": [
    "# for\n",
    "for i in range(1,10):\n",
    "    print(i)"
   ]
  },
  {
   "cell_type": "code",
   "execution_count": 66,
   "id": "b5492991-9c13-48f5-836a-2823bc928656",
   "metadata": {},
   "outputs": [
    {
     "data": {
      "text/plain": [
       "-1.0"
      ]
     },
     "execution_count": 66,
     "metadata": {},
     "output_type": "execute_result"
    }
   ],
   "source": [
    "# from .. import\n",
    "\n",
    "import math\n",
    "\n",
    "from math import cos,pi # use function directly\n",
    "\n",
    "cos(pi)"
   ]
  },
  {
   "cell_type": "raw",
   "id": "26fccd39-945b-4709-abdf-574376ef99ec",
   "metadata": {},
   "source": []
  },
  {
   "cell_type": "code",
   "execution_count": null,
   "id": "d32bbcbd-9d93-439b-aa0f-2b341df107d5",
   "metadata": {},
   "outputs": [],
   "source": []
  },
  {
   "cell_type": "code",
   "execution_count": 70,
   "id": "15e9da43-51d2-4939-8fff-309862119cf1",
   "metadata": {},
   "outputs": [
    {
     "name": "stdout",
     "output_type": "stream",
     "text": [
      "10\n",
      "5\n",
      "5\n"
     ]
    }
   ],
   "source": [
    "# global\n",
    "globvar = 10\n",
    "def read1():\n",
    "    print(globvar)\n",
    "def write1():\n",
    "    global globvar\n",
    "    globvar = 5\n",
    "def write2():\n",
    "    globvar = 15\n",
    "\n",
    "read1()\n",
    "write1()\n",
    "read1()\n",
    "write2()\n",
    "read1()"
   ]
  },
  {
   "cell_type": "code",
   "execution_count": 73,
   "id": "12c28c3d-0edf-4e43-aa5c-93e0bef86435",
   "metadata": {},
   "outputs": [
    {
     "name": "stdout",
     "output_type": "stream",
     "text": [
      "True\n"
     ]
    }
   ],
   "source": [
    "# in use to see one element match in the list\n",
    "a = [1,2,3,4]\n",
    "print(4 in a)"
   ]
  },
  {
   "cell_type": "code",
   "execution_count": 76,
   "id": "d418c702-56a5-4405-9265-907ca4e17fa6",
   "metadata": {},
   "outputs": [
    {
     "name": "stdout",
     "output_type": "stream",
     "text": [
      "True\n"
     ]
    }
   ],
   "source": [
    "#is\n",
    "print (True is True)"
   ]
  },
  {
   "cell_type": "code",
   "execution_count": 79,
   "id": "76d2e88d-7635-47a8-b0cb-ec1b1d7075ed",
   "metadata": {},
   "outputs": [
    {
     "name": "stdout",
     "output_type": "stream",
     "text": [
      "2\n",
      "4\n",
      "6\n",
      "8\n",
      "10\n"
     ]
    }
   ],
   "source": [
    "# lambda # anonymous fonction no name like def\n",
    "\n",
    "a = lambda x: x*2\n",
    "for i in range(1,6):\n",
    "    print(a(i))"
   ]
  },
  {
   "cell_type": "code",
   "execution_count": 85,
   "id": "dfee4be6-80c7-4d1b-8861-4454caf18d09",
   "metadata": {},
   "outputs": [
    {
     "name": "stdout",
     "output_type": "stream",
     "text": [
      "Inner function:  10\n",
      "Outer function:  10\n"
     ]
    }
   ],
   "source": [
    "#nonlocal\n",
    "def outer_function():\n",
    "    a = 5\n",
    "    def inner_function():\n",
    "        nonlocal a # a is non local\n",
    "        a = 10\n",
    "        print(\"Inner function: \",a)\n",
    "    inner_function()\n",
    "    print('Outer function: ',a)\n",
    "outer_function()"
   ]
  },
  {
   "cell_type": "code",
   "execution_count": 87,
   "id": "d6064fbc-085d-4823-859e-28133e6b4ee7",
   "metadata": {},
   "outputs": [],
   "source": [
    "#pass\n",
    "def function(args):\n",
    "    pass\n",
    "\n",
    "#use to add more instruction later\n",
    "function(5)"
   ]
  },
  {
   "cell_type": "code",
   "execution_count": 88,
   "id": "7e833360-86af-4e76-854e-d3bdaa3e28f6",
   "metadata": {},
   "outputs": [
    {
     "name": "stdout",
     "output_type": "stream",
     "text": [
      "1\n"
     ]
    }
   ],
   "source": [
    "#return\n",
    "\n",
    "def func_return():\n",
    "    a = 1\n",
    "    return a\n",
    "print(func_return())"
   ]
  },
  {
   "cell_type": "code",
   "execution_count": 89,
   "id": "8b7f6948-05a6-4ea5-8651-54726cd8f8da",
   "metadata": {},
   "outputs": [
    {
     "name": "stdout",
     "output_type": "stream",
     "text": [
      "5\n",
      "4\n",
      "3\n",
      "2\n",
      "1\n"
     ]
    }
   ],
   "source": [
    "# while\n",
    "i = 5\n",
    "while (i>0):\n",
    "    print(i)\n",
    "    i -= 1"
   ]
  },
  {
   "cell_type": "code",
   "execution_count": 90,
   "id": "15d4fb86-82d0-4852-b426-b31b5b2ddc90",
   "metadata": {},
   "outputs": [],
   "source": [
    "# with \n",
    "\n",
    "with open('example.txt','w') as my_file:\n",
    "    my_file.write('Hello word!')"
   ]
  },
  {
   "cell_type": "code",
   "execution_count": 93,
   "id": "9661a8c4-8b81-4ce2-a8a6-24f8f4a3907a",
   "metadata": {},
   "outputs": [
    {
     "name": "stdout",
     "output_type": "stream",
     "text": [
      "0\n",
      "1\n",
      "4\n",
      "9\n",
      "16\n",
      "25\n"
     ]
    }
   ],
   "source": [
    "# yield\n",
    "def generator():\n",
    "    for i in range(6):\n",
    "        yield i*i\n",
    "g = generator()\n",
    "for i in g:\n",
    "    print(i)"
   ]
  },
  {
   "cell_type": "markdown",
   "id": "c473c2c2-a55f-4fea-825e-fb76457d0688",
   "metadata": {},
   "source": [
    "# Tuples"
   ]
  },
  {
   "cell_type": "code",
   "execution_count": 94,
   "id": "7309d839-baf6-4001-b3a5-4fc94323a37b",
   "metadata": {},
   "outputs": [
    {
     "name": "stdout",
     "output_type": "stream",
     "text": [
      "()\n",
      "(1, 2, 3)\n",
      "(103, 'Anirban', 20000.0, 'HR Dept')\n"
     ]
    }
   ],
   "source": [
    " # creating an empty tuple\n",
    "tuple1 = ()\n",
    "print(tuple1)\n",
    "\n",
    "# creating tuples with integer éléments\n",
    "tuple2 = (1,2,3)\n",
    "print(tuple2)\n",
    "\n",
    "#Tuples with mixed datatypes\n",
    "tuple3 = (103,\"Anirban\", 20000.00, \"HR Dept\")\n",
    "print(tuple3)"
   ]
  },
  {
   "cell_type": "code",
   "execution_count": 98,
   "id": "b59589ad-99af-4bfc-b92f-37ca6eee6e71",
   "metadata": {},
   "outputs": [
    {
     "name": "stdout",
     "output_type": "stream",
     "text": [
      "('points', [1, 4, 3], (7, 8, 6))\n",
      "(101, 'Anirban', 20000.0, 'HR Dep')\n",
      "101\n",
      "Anirban\n",
      "20000.0\n",
      "HR Dep\n",
      "<class 'tuple'>\n"
     ]
    }
   ],
   "source": [
    "# creation of nested tuple\n",
    "tuple4 = (\"points\",[1,4,3],(7,8,6))\n",
    "print(tuple4)\n",
    "\n",
    "# tuple can be created without any parentheses\n",
    "tuple5 = 101, \"Anirban\",20000.00,\"HR Dep\"\n",
    "print(tuple5)\n",
    "\n",
    "# tuple unpacking is also possible\n",
    "empid,empname,empsal,empdept = tuple5\n",
    "print(empid)\n",
    "print(empname)\n",
    "print(empsal)\n",
    "print(empdept)\n",
    "print(type(tuple5))"
   ]
  },
  {
   "cell_type": "code",
   "execution_count": 99,
   "id": "67b2dbda-2969-4b6a-9a39-75c6809c408f",
   "metadata": {},
   "outputs": [
    {
     "name": "stdout",
     "output_type": "stream",
     "text": [
      "('w', 'e', 'l', 'c', 'o', 'm', 'e')\n",
      "e\n",
      "l\n",
      "m\n",
      "('points', [1, 3, 4], (8, 7, 9))\n",
      "n\n",
      "4\n",
      "9\n"
     ]
    }
   ],
   "source": [
    "# accessing elements in a tuple\n",
    "tuple1 = ('w','e','l','c','o','m','e')\n",
    "print(tuple1)\n",
    "print(tuple1[1])\n",
    "print(tuple1[2])\n",
    "print(tuple1[5])\n",
    "\n",
    "# nested tuple\n",
    "\n",
    "nest_tuple2 = (\"points\",[1,3,4],(8,7,9))\n",
    "print(nest_tuple2)\n",
    "print(nest_tuple2[0][3])\n",
    "print(nest_tuple2[1][2])\n",
    "print(nest_tuple2[2][2])\n"
   ]
  },
  {
   "cell_type": "code",
   "execution_count": 100,
   "id": "d66e22c7-f02e-422e-b915-961f743db6a1",
   "metadata": {},
   "outputs": [
    {
     "name": "stdout",
     "output_type": "stream",
     "text": [
      "('e', 'l')\n",
      "('w', 'e', 'l', 'c')\n",
      "('c', 'o', 'm', 'e')\n",
      "('w', 'e', 'l', 'c', 'o', 'm', 'e')\n"
     ]
    }
   ],
   "source": [
    "# slicing tuple contents\n",
    "tuple1 = ('w','e','l','c','o','m','e')\n",
    "\n",
    "print(tuple1[1:3]) # last is not include so output 1 and 2 only\n",
    "\n",
    "print(tuple1[:-3])\n",
    "\n",
    "print(tuple1[3:])\n",
    "\n",
    "print(tuple1[:])"
   ]
  },
  {
   "cell_type": "code",
   "execution_count": 104,
   "id": "9f75d0f7-35c5-430e-9881-c93285d68182",
   "metadata": {},
   "outputs": [
    {
     "name": "stdout",
     "output_type": "stream",
     "text": [
      "('w', 'e', 'l', 'c', 'o', 'm', 'e')\n",
      "('g', 'o', 'o', 'd', 'b', 'y', 'e')\n"
     ]
    }
   ],
   "source": [
    " # tuple elements are immutable\n",
    "tuple1 = ('w','e','l','c','o','m','e')\n",
    "print(tuple1)\n",
    "#tuple1[2] = 'x'  #error\n",
    "\n",
    "# tuples can be reassigned\n",
    "\n",
    "tuple1 =('g','o','o','d','b','y','e')\n",
    "print(tuple1)"
   ]
  },
  {
   "cell_type": "code",
   "execution_count": 108,
   "id": "a6231b52-522f-49ed-9355-eb28bc54fe6a",
   "metadata": {},
   "outputs": [
    {
     "name": "stdout",
     "output_type": "stream",
     "text": [
      "('w', 'e', 'l')\n",
      "('c', 'o', 'm', 'e')\n",
      "('w', 'e', 'l', 'c', 'o', 'm', 'e')\n",
      "('again', 'again', 'again', 'again')\n"
     ]
    }
   ],
   "source": [
    "# concatenation of tuples\n",
    "\n",
    "tuple2 = ('w','e','l')\n",
    "tuple3 = ('c','o','m','e')\n",
    "print(tuple2)\n",
    "print(tuple3)\n",
    "print(tuple2+tuple3)\n",
    "print((\"again\",)*4)"
   ]
  },
  {
   "cell_type": "code",
   "execution_count": 113,
   "id": "5130463e-6c64-4326-acfc-a8e8ba45248c",
   "metadata": {},
   "outputs": [
    {
     "ename": "TypeError",
     "evalue": "'tuple' object doesn't support item deletion",
     "output_type": "error",
     "traceback": [
      "\u001b[1;31m---------------------------------------------------------------------------\u001b[0m",
      "\u001b[1;31mTypeError\u001b[0m                                 Traceback (most recent call last)",
      "\u001b[1;32m~\\AppData\\Local\\Temp\\ipykernel_12776\\2399647503.py\u001b[0m in \u001b[0;36m<module>\u001b[1;34m\u001b[0m\n\u001b[0;32m      3\u001b[0m \u001b[1;33m\u001b[0m\u001b[0m\n\u001b[0;32m      4\u001b[0m \u001b[1;31m# as immutable so elements can not be deleted\u001b[0m\u001b[1;33m\u001b[0m\u001b[1;33m\u001b[0m\u001b[1;33m\u001b[0m\u001b[0m\n\u001b[1;32m----> 5\u001b[1;33m \u001b[1;32mdel\u001b[0m \u001b[0mtuple4\u001b[0m\u001b[1;33m[\u001b[0m\u001b[1;36m2\u001b[0m\u001b[1;33m]\u001b[0m\u001b[1;33m\u001b[0m\u001b[1;33m\u001b[0m\u001b[0m\n\u001b[0m\u001b[0;32m      6\u001b[0m \u001b[1;33m\u001b[0m\u001b[0m\n\u001b[0;32m      7\u001b[0m \u001b[1;31m# but can delete entire tuple\u001b[0m\u001b[1;33m\u001b[0m\u001b[1;33m\u001b[0m\u001b[1;33m\u001b[0m\u001b[0m\n",
      "\u001b[1;31mTypeError\u001b[0m: 'tuple' object doesn't support item deletion"
     ]
    }
   ],
   "source": [
    "# deletion  operation on a tuple\n",
    "tuple4 = ('w','e','l','c','o','m','e')\n",
    "\n",
    "# as immutable so elements can not be deleted\n",
    "#del tuple4[2]\n",
    "\n",
    "# but can delete entire tuple\n",
    "\n",
    "#del tuple4\n",
    "\n",
    "print(tuple4)\n"
   ]
  },
  {
   "cell_type": "code",
   "execution_count": 115,
   "id": "f72fd89e-fcca-4b2b-8eea-257d4059978e",
   "metadata": {},
   "outputs": [
    {
     "name": "stdout",
     "output_type": "stream",
     "text": [
      "2\n",
      "3\n"
     ]
    }
   ],
   "source": [
    "# Tuple methods\n",
    "\n",
    "tuple5 = ('w','e','l','c','o','m','e')\n",
    "print(tuple5.count('e'))\n",
    "print(tuple5.index('c')) # first element found"
   ]
  },
  {
   "cell_type": "code",
   "execution_count": 117,
   "id": "7c0b8d6f-7942-4c31-bc2a-79b71179ef81",
   "metadata": {},
   "outputs": [
    {
     "name": "stdout",
     "output_type": "stream",
     "text": [
      "('w', 'e', 'l', 'c', 'o', 'm', 'e')\n",
      "True\n",
      "False\n",
      "False\n",
      "True\n"
     ]
    }
   ],
   "source": [
    "# Tuple operation\n",
    "tuple6 = ('w','e','l','c','o','m','e')\n",
    "print(tuple6)\n",
    "\n",
    "#membership\n",
    "print ('c' in tuple6)\n",
    "print ('c' not in tuple6)\n",
    "print ('a' in tuple6)\n",
    "print ('a' not in tuple6)\n",
    "\n",
    "# Output : True, False, False, True"
   ]
  },
  {
   "cell_type": "code",
   "execution_count": 118,
   "id": "3fd3e299-1464-44f0-9f8a-0079412cee4e",
   "metadata": {},
   "outputs": [
    {
     "name": "stdout",
     "output_type": "stream",
     "text": [
      "letter is ->  w\n",
      "letter is ->  e\n",
      "letter is ->  l\n",
      "letter is ->  c\n",
      "letter is ->  o\n",
      "letter is ->  m\n",
      "letter is ->  e\n"
     ]
    }
   ],
   "source": [
    "# iteration through tuple elements\n",
    "tuple6 = ('w','e','l','c','o','m','e')\n",
    "for letters in tuple6:\n",
    "    print(\"letter is -> \",letters)\n"
   ]
  },
  {
   "cell_type": "code",
   "execution_count": 122,
   "id": "66b31664-c9af-450d-b5ea-dde8a14aa93d",
   "metadata": {},
   "outputs": [
    {
     "name": "stdout",
     "output_type": "stream",
     "text": [
      "(22, 33, 55, 44, 77, 66, 11)\n",
      "77\n",
      "11\n",
      "[11, 22, 33, 44, 55, 66, 77]\n",
      "7\n",
      "308\n"
     ]
    }
   ],
   "source": [
    "# Built-in function with tuple\n",
    "tuple7 = (22,33,55,44,77,66,11)\n",
    "print(tuple7)\n",
    "\n",
    "print(max(tuple7))\n",
    "print(min(tuple7))\n",
    "print(sorted(tuple7))\n",
    "print(len(tuple7))\n",
    "print(sum(tuple7))"
   ]
  },
  {
   "cell_type": "markdown",
   "id": "c92dfc1b-6322-4c28-b504-381b54cbef31",
   "metadata": {},
   "source": [
    "# Learn Sets"
   ]
  },
  {
   "cell_type": "code",
   "execution_count": 6,
   "id": "08645b4d-15a8-4312-a631-b8875e9f48fc",
   "metadata": {},
   "outputs": [
    {
     "name": "stdout",
     "output_type": "stream",
     "text": [
      "{33, 66, 11, 44, 22, 55}\n",
      "{(21, 2, 1994), 101, 'Agnibha'}\n",
      "{33, 11, 44, 22}\n",
      "{1, 2, 3}\n",
      "<class 'set'>\n",
      "[33, 11, 44, 22]\n",
      "<class 'list'>\n"
     ]
    }
   ],
   "source": [
    "# creating sets\n",
    "# set og integers\n",
    "\n",
    "my_set1 = {11,33,66,55,44,22}\n",
    "print(my_set1)\n",
    "\n",
    "# set of mixed datatypes\n",
    "my_set2 = {101,\"Agnibha\",(21,2,1994)}\n",
    "print(my_set2)\n",
    "\n",
    "# Duplicate values are not allowed\n",
    "my_set3 = {11,22,33,33,44,22}\n",
    "print(my_set3)\n",
    "\n",
    "# set cannot have mutable items\n",
    "#my_set4 = {1,2,[3,4]}\n",
    "\n",
    "# we can make set from a list\n",
    "my_set5 = set([1,2,3,2])\n",
    "print((my_set5))\n",
    "print(type(my_set5))\n",
    "\n",
    "# we can make list from a set\n",
    "\n",
    "my_list1 = list({11,22,33,44})\n",
    "print(my_list1)\n",
    "print(type(my_list1))"
   ]
  },
  {
   "cell_type": "code",
   "execution_count": 10,
   "id": "995a4423-0b1b-4d09-8a06-f7b925fe94ed",
   "metadata": {},
   "outputs": [
    {
     "name": "stdout",
     "output_type": "stream",
     "text": [
      "{33, 66, 11, 44, 22, 55}\n",
      "{33, 66, 11, 44, 77, 22, 55}\n",
      "{33, 66, 99, 11, 44, 77, 22, 55, 88}\n",
      "{33, 66, 99, 100, 102, 103, 104, 105, 11, 44, 77, 22, 55, 88}\n"
     ]
    }
   ],
   "source": [
    "# operations on sets\n",
    "my_set1 = {11,33,66,55,44,22}\n",
    "print(my_set1)\n",
    "\n",
    "# 'set' object does not support indexing\n",
    "\n",
    "#my_set1[0]\n",
    "\n",
    "# add an element\n",
    "my_set1.add(77)\n",
    "print(my_set1)\n",
    "\n",
    "#add multiple elements\n",
    "my_set1.update([88,99,22])\n",
    "print(my_set1)\n",
    "\n",
    "# add list and set\n",
    "my_set1.update([100,102],{103,104,105})\n",
    "print(my_set1)"
   ]
  },
  {
   "cell_type": "code",
   "execution_count": 15,
   "id": "58d4d80b-d84a-4b27-981e-9cad5835e0dc",
   "metadata": {},
   "outputs": [
    {
     "name": "stdout",
     "output_type": "stream",
     "text": [
      "{33, 66, 11, 44, 55}\n",
      "{33, 66, 11, 44, 55}\n",
      "{33, 66, 11, 44, 55}\n",
      "{33, 66, 11, 55}\n",
      "{33, 66, 11}\n"
     ]
    }
   ],
   "source": [
    "# remove and discard\n",
    "# initialize my_set1\n",
    "my_set1 = {11,33,44,66,55}\n",
    "print(my_set1)\n",
    "\n",
    "# discard an element which is not present, not error\n",
    "my_set1.discard(4)\n",
    "print(my_set1)\n",
    "\n",
    "# remove an element which is not present, error raised\n",
    "#my_set1.remove(6)\n",
    "print(my_set1)\n",
    "\n",
    "# discard an element\n",
    "my_set1.discard(44)\n",
    "print(my_set1)\n",
    "my_set1.remove(55)\n",
    "print(my_set1)"
   ]
  },
  {
   "cell_type": "code",
   "execution_count": 16,
   "id": "b9d6b5e6-8ff3-4374-adf0-055b676bb8af",
   "metadata": {},
   "outputs": [
    {
     "name": "stdout",
     "output_type": "stream",
     "text": [
      "{33, 66, 11, 44, 55}\n",
      "33\n",
      "66\n",
      "{11, 44, 55}\n",
      "set()\n"
     ]
    }
   ],
   "source": [
    "# using pop()\n",
    "# initialize my_set1\n",
    "my_set1 = {11,33,44,66,55}\n",
    "print(my_set1)\n",
    "\n",
    "# pop an element\n",
    "print(my_set1.pop())\n",
    "\n",
    "# pop another element, delete element arbitrary\n",
    "print(my_set1.pop())\n",
    "print(my_set1)\n",
    "\n",
    "# clear my_set\n",
    "my_set1.clear()\n",
    "print(my_set1)"
   ]
  },
  {
   "cell_type": "code",
   "execution_count": 17,
   "id": "4050cd7e-daa2-446f-bad0-25ed6277b310",
   "metadata": {},
   "outputs": [
    {
     "name": "stdout",
     "output_type": "stream",
     "text": [
      "{0, 1, 2, 3, 4, 5}\n",
      "{4, 5, 6, 7, 8, 9}\n",
      "{0, 1, 2, 3, 4, 5, 6, 7, 8, 9}\n",
      "{0, 1, 2, 3, 4, 5, 6, 7, 8, 9}\n",
      "{0, 1, 2, 3, 4, 5, 6, 7, 8, 9}\n",
      "{0, 1, 2, 3, 4, 5, 6, 7, 8, 9}\n"
     ]
    }
   ],
   "source": [
    "# set operations - union\n",
    "myset1 = {0,1,2,3,4,5}\n",
    "myset2 = {4,5,6,7,8,9}\n",
    "print(myset1)\n",
    "print(myset2)\n",
    "\n",
    "# use | operator for union\n",
    "print(myset1 | myset2)\n",
    "print(myset2 | myset1)\n",
    "print(myset1.union(myset2))\n",
    "print(myset2.union(myset1))"
   ]
  },
  {
   "cell_type": "code",
   "execution_count": 18,
   "id": "027554e7-dd84-4882-8998-862b4cf55b2b",
   "metadata": {},
   "outputs": [
    {
     "name": "stdout",
     "output_type": "stream",
     "text": [
      "{0, 1, 2, 3, 4, 5}\n",
      "{4, 5, 6, 7, 8, 9}\n",
      "{4, 5}\n",
      "{4, 5}\n",
      "{4, 5}\n",
      "{4, 5}\n"
     ]
    }
   ],
   "source": [
    "# set operations - intersection\n",
    "myset1 = {0,1,2,3,4,5}\n",
    "myset2 = {4,5,6,7,8,9}\n",
    "print(myset1)\n",
    "print(myset2)\n",
    "\n",
    "# use & operator for intersection commun elements betwen myset1 and myset2\n",
    "\n",
    "print(myset1 & myset2)\n",
    "print(myset2 & myset1)\n",
    "print(myset1.intersection(myset2))\n",
    "print(myset2.intersection(myset1))"
   ]
  },
  {
   "cell_type": "code",
   "execution_count": 19,
   "id": "544eff9d-8d54-4e0b-b53d-a1b7ec3697da",
   "metadata": {},
   "outputs": [
    {
     "name": "stdout",
     "output_type": "stream",
     "text": [
      "{0, 1, 2, 3, 4, 5}\n",
      "{4, 5, 6, 7, 8, 9}\n",
      "{0, 1, 2, 3}\n",
      "{8, 9, 6, 7}\n",
      "{0, 1, 2, 3}\n",
      "{8, 9, 6, 7}\n"
     ]
    }
   ],
   "source": [
    "# set operations - set difference\n",
    "myset1 = {0,1,2,3,4,5}\n",
    "myset2 = {4,5,6,7,8,9}\n",
    "print(myset1)\n",
    "print(myset2)\n",
    "\n",
    "# use - operator for difference\n",
    "\n",
    "print(myset1 - myset2)\n",
    "print(myset2 - myset1)\n",
    "print(myset1.difference(myset2))\n",
    "print(myset2.difference(myset1))"
   ]
  },
  {
   "cell_type": "code",
   "execution_count": 20,
   "id": "9590f96a-4754-4d3e-845e-5d8fd3778f0a",
   "metadata": {},
   "outputs": [
    {
     "name": "stdout",
     "output_type": "stream",
     "text": [
      "{0, 1, 2, 3, 4, 5}\n",
      "{4, 5, 6, 7, 8, 9}\n",
      "{0, 1, 2, 3, 6, 7, 8, 9}\n",
      "{0, 1, 2, 3, 6, 7, 8, 9}\n",
      "{0, 1, 2, 3, 6, 7, 8, 9}\n",
      "{0, 1, 2, 3, 6, 7, 8, 9}\n"
     ]
    }
   ],
   "source": [
    "# set operations - symmetric difference\n",
    "myset1 = {0,1,2,3,4,5}\n",
    "myset2 = {4,5,6,7,8,9}\n",
    "print(myset1)\n",
    "print(myset2)\n",
    "\n",
    "# use ^ ooperator for symmetric difference\n",
    "print(myset1 ^ myset2)\n",
    "print(myset2 ^ myset1)\n",
    "print(myset1.symmetric_difference(myset2))\n",
    "print(myset2.symmetric_difference(myset1))"
   ]
  },
  {
   "cell_type": "code",
   "execution_count": 21,
   "id": "86815e68-557d-47a9-b8d3-c6b7638c13a1",
   "metadata": {},
   "outputs": [
    {
     "name": "stdout",
     "output_type": "stream",
     "text": [
      "True\n",
      "False\n",
      "False\n",
      "True\n"
     ]
    }
   ],
   "source": [
    "# set membership\n",
    "myset1 = {0,1,2,3,4,5}\n",
    "print(2 in myset1)\n",
    "print(6 in myset1)\n",
    "print(2 not in myset1)\n",
    "print(6 not in myset1)\n",
    "\n",
    "# Output true,False,False,True"
   ]
  },
  {
   "cell_type": "code",
   "execution_count": 23,
   "id": "849f5c8e-3a3e-4ec6-807e-ccaa15e1714d",
   "metadata": {},
   "outputs": [
    {
     "name": "stdout",
     "output_type": "stream",
     "text": [
      "w\n",
      "c\n",
      "o\n",
      "m\n",
      "e\n",
      "l\n"
     ]
    }
   ],
   "source": [
    "# iterating through a set\n",
    "for letter in set(\"welcome\"):\n",
    "    print (letter)"
   ]
  },
  {
   "cell_type": "code",
   "execution_count": 24,
   "id": "5663d7c3-708a-473a-97f2-a78b3805280d",
   "metadata": {},
   "outputs": [
    {
     "name": "stdout",
     "output_type": "stream",
     "text": [
      "6\n",
      "5\n",
      "0\n",
      "[0, 1, 2, 3, 4, 5]\n"
     ]
    }
   ],
   "source": [
    "# built-in function with set\n",
    "myset1 = {0,1,2,3,4,5}\n",
    "print(len(myset1))\n",
    "print(max(myset1))\n",
    "print(min(myset1))\n",
    "print(sorted(myset1))"
   ]
  },
  {
   "cell_type": "code",
   "execution_count": 27,
   "id": "03a7b033-1fce-4e05-b5d8-28cae540ff10",
   "metadata": {},
   "outputs": [
    {
     "name": "stdout",
     "output_type": "stream",
     "text": [
      "frozenset({1, 2, 3, 4})\n",
      "frozenset({3, 4, 5, 6})\n",
      "frozenset({1, 2})\n",
      "frozenset({1, 2, 3, 4, 5, 6})\n",
      "frozenset({3, 4})\n",
      "frozenset({1, 2, 5, 6})\n"
     ]
    }
   ],
   "source": [
    "# Python frozenset\n",
    "# frozenset in a new class that has the characteristics\n",
    "# of a set, but its elements cannot be chance once assigned\n",
    "# while tuples are immutable lists, frozensets are immutable sets.\n",
    "# initialize A and B\n",
    "myset1 = frozenset([1,2,3,4])\n",
    "myset2 = frozenset([3,4,5,6])\n",
    "print(myset1)\n",
    "print(myset2)\n",
    "print(myset1.difference(myset2))\n",
    "print(myset1.union(myset2))\n",
    "print(myset1.intersection(myset2))\n",
    "print(myset1.symmetric_difference(myset2))\n",
    "#myset1.add(10) frozenset has not add attribute"
   ]
  },
  {
   "cell_type": "markdown",
   "id": "fd2b8cf6-3508-4283-832a-6f3feb430ed5",
   "metadata": {},
   "source": [
    " # Python Module"
   ]
  },
  {
   "cell_type": "code",
   "execution_count": 28,
   "id": "5d63dd0f-504e-4151-a358-91d0e26f6531",
   "metadata": {},
   "outputs": [
    {
     "name": "stdout",
     "output_type": "stream",
     "text": [
      "The value of pi is 3.141592653589793\n"
     ]
    }
   ],
   "source": [
    "# importing module as well renaming it\n",
    "import math as m\n",
    "\n",
    "print(\"The value of pi is\",m.pi)"
   ]
  },
  {
   "cell_type": "code",
   "execution_count": 29,
   "id": "30d7da36-b868-429c-a47c-19f37712f3a9",
   "metadata": {},
   "outputs": [
    {
     "name": "stdout",
     "output_type": "stream",
     "text": [
      "The value of pi is 3.141592653589793\n"
     ]
    }
   ],
   "source": [
    "# Usage of from\n",
    "from math import pi\n",
    "print(\"The value of pi is\",pi)\n",
    "# use directly variable pi"
   ]
  },
  {
   "cell_type": "code",
   "execution_count": 31,
   "id": "46506e43-1ea6-47c1-b492-55266320bb97",
   "metadata": {},
   "outputs": [
    {
     "name": "stdout",
     "output_type": "stream",
     "text": [
      "The value of pi is 3.141592653589793\n"
     ]
    }
   ],
   "source": [
    "# import all names from the standard module math\n",
    "from math import *\n",
    "print(\"The value of pi is\",pi)"
   ]
  },
  {
   "cell_type": "code",
   "execution_count": null,
   "id": "f9be08a2-9666-478f-ba4f-f09e57cabbbb",
   "metadata": {},
   "outputs": [],
   "source": []
  }
 ],
 "metadata": {
  "kernelspec": {
   "display_name": "Python 3 (ipykernel)",
   "language": "python",
   "name": "python3"
  },
  "language_info": {
   "codemirror_mode": {
    "name": "ipython",
    "version": 3
   },
   "file_extension": ".py",
   "mimetype": "text/x-python",
   "name": "python",
   "nbconvert_exporter": "python",
   "pygments_lexer": "ipython3",
   "version": "3.7.4"
  }
 },
 "nbformat": 4,
 "nbformat_minor": 5
}
