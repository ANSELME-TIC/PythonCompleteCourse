{
 "cells": [
  {
   "cell_type": "markdown",
   "id": "94c4ae42-8ce1-4e77-b6d7-ba586ffc40a6",
   "metadata": {},
   "source": [
    "# Variables and Constantes"
   ]
  },
  {
   "cell_type": "code",
   "execution_count": null,
   "id": "ba12bdd9-1bae-498a-ac51-f734f5a96082",
   "metadata": {},
   "outputs": [],
   "source": [
    "# Declaring and assigning value to constant\n",
    "PI = 3.14\n",
    "GRAVITY = 9.8"
   ]
  },
  {
   "cell_type": "code",
   "execution_count": 2,
   "id": "dc7059e4-6cf1-45f5-bba6-3b1c8c252b4d",
   "metadata": {},
   "outputs": [
    {
     "name": "stdout",
     "output_type": "stream",
     "text": [
      "Apple\n",
      "Aeroplane\n",
      "100\n",
      "1 2.5 Hello\n",
      "5 5 5\n"
     ]
    }
   ],
   "source": [
    "# Declaring and assigning value to constant\n",
    "\n",
    "a = \"Apple\"\n",
    "print(a)\n",
    "\n",
    "# Changing value of a variable\n",
    "\n",
    "a = \"Aeroplane\"\n",
    "print(a)\n",
    "\n",
    "a = 100\n",
    "print(a)\n",
    "\n",
    "# Python is a dynamic type language\n",
    "\n",
    "#Assigning Multiple values to a variable\n",
    "\n",
    "b,c,d = 1,2.5, \"Hello\"\n",
    "print(b,c,d)\n",
    "\n",
    "# Assigning same value to multiple variables\n",
    "b = c = d = 5\n",
    "print(b,c,d)"
   ]
  },
  {
   "cell_type": "markdown",
   "id": "138917f5-e8bb-4a08-ac9c-fe9c3bead7a9",
   "metadata": {},
   "source": [
    "# Class and Object"
   ]
  },
  {
   "cell_type": "code",
   "execution_count": 12,
   "id": "4b63aef2-2819-4bec-af93-949cd3101c16",
   "metadata": {},
   "outputs": [],
   "source": [
    "#Learn Class and object\n",
    "class MyComplexNumber:\n",
    "    #Constructor methods\n",
    "    def __init__(self,real = 0, imag = 0):\n",
    "        print(\"MyComplexNumber constructor executing....\")\n",
    "        self.real_part = real\n",
    "        self.imag_part = imag\n",
    "        \n",
    "    def displayComplex(self):\n",
    "        print(\"{0} + {1}j\".format(self.real_part,self.imag_part))"
   ]
  },
  {
   "cell_type": "code",
   "execution_count": 13,
   "id": "6f0f5f29-9787-47fa-a4d6-15d096afcd47",
   "metadata": {},
   "outputs": [
    {
     "name": "stdout",
     "output_type": "stream",
     "text": [
      "MyComplexNumber constructor executing....\n",
      "40 + 50j\n"
     ]
    }
   ],
   "source": [
    "# Create a new object against MyComplexNumber class\n",
    "cmplx1 = MyComplexNumber(40,50)\n",
    "\n",
    "#Calling displayComplex() function\n",
    "#Output: 40 + 50j\n",
    "\n",
    "cmplx1.displayComplex()"
   ]
  },
  {
   "cell_type": "code",
   "execution_count": 14,
   "id": "1a3420d9-8cca-4236-9511-f11cc511726b",
   "metadata": {},
   "outputs": [
    {
     "name": "stdout",
     "output_type": "stream",
     "text": [
      "MyComplexNumber constructor executing....\n",
      "60 + 75j\n",
      "(60, 75, 90)\n"
     ]
    }
   ],
   "source": [
    "# Create another object against MyComplexNumber class\n",
    "# and create a new attribute 'new_attribute'\n",
    "\n",
    "cmplx2 = MyComplexNumber(60,75)\n",
    "cmplx2.new_attribute = 90\n",
    "cmplx2.displayComplex()\n",
    "#Output: (60, 75, 90 )\n",
    "print((cmplx2.real_part,cmplx2.imag_part,cmplx2.new_attribute))"
   ]
  },
  {
   "cell_type": "code",
   "execution_count": 15,
   "id": "6b16b42a-0516-4a20-8caf-eb3afd89a242",
   "metadata": {},
   "outputs": [
    {
     "ename": "AttributeError",
     "evalue": "'MyComplexNumber' object has no attribute 'new_attribute'",
     "output_type": "error",
     "traceback": [
      "\u001b[1;31m---------------------------------------------------------------------------\u001b[0m",
      "\u001b[1;31mAttributeError\u001b[0m                            Traceback (most recent call last)",
      "\u001b[1;32m~\\AppData\\Local\\Temp\\ipykernel_12776\\3914347207.py\u001b[0m in \u001b[0;36m<module>\u001b[1;34m\u001b[0m\n\u001b[0;32m      1\u001b[0m \u001b[1;31m#But cmpx1 doesn't new attribute 'new_attribute'\u001b[0m\u001b[1;33m\u001b[0m\u001b[1;33m\u001b[0m\u001b[1;33m\u001b[0m\u001b[0m\n\u001b[0;32m      2\u001b[0m \u001b[1;31m# AttributeError: 'MyComplexNumber' object has no attribute 'new_attribute'\u001b[0m\u001b[1;33m\u001b[0m\u001b[1;33m\u001b[0m\u001b[1;33m\u001b[0m\u001b[0m\n\u001b[1;32m----> 3\u001b[1;33m \u001b[0mcmplx1\u001b[0m\u001b[1;33m.\u001b[0m\u001b[0mnew_attribute\u001b[0m\u001b[1;33m\u001b[0m\u001b[1;33m\u001b[0m\u001b[0m\n\u001b[0m",
      "\u001b[1;31mAttributeError\u001b[0m: 'MyComplexNumber' object has no attribute 'new_attribute'"
     ]
    }
   ],
   "source": [
    "#But cmpx1 doesn't new attribute 'new_attribute'\n",
    "# AttributeError: 'MyComplexNumber' object has no attribute 'new_attribute'\n",
    "cmplx1.new_attribute"
   ]
  },
  {
   "cell_type": "code",
   "execution_count": 16,
   "id": "d5ea2782-78ef-4e19-91d5-c9fa096ddee5",
   "metadata": {},
   "outputs": [],
   "source": [
    "# Deleting object attributes and the object\n",
    "del cmplx1.real_part\n",
    "del cmplx1"
   ]
  },
  {
   "cell_type": "code",
   "execution_count": 17,
   "id": "d8e57e94-5fbd-4722-a779-b174c460f437",
   "metadata": {},
   "outputs": [
    {
     "ename": "NameError",
     "evalue": "name 'cmplx1' is not defined",
     "output_type": "error",
     "traceback": [
      "\u001b[1;31m---------------------------------------------------------------------------\u001b[0m",
      "\u001b[1;31mNameError\u001b[0m                                 Traceback (most recent call last)",
      "\u001b[1;32m~\\AppData\\Local\\Temp\\ipykernel_12776\\787859639.py\u001b[0m in \u001b[0;36m<module>\u001b[1;34m\u001b[0m\n\u001b[1;32m----> 1\u001b[1;33m \u001b[0mprint\u001b[0m\u001b[1;33m(\u001b[0m\u001b[0mcmplx1\u001b[0m\u001b[1;33m)\u001b[0m\u001b[1;33m\u001b[0m\u001b[1;33m\u001b[0m\u001b[0m\n\u001b[0m",
      "\u001b[1;31mNameError\u001b[0m: name 'cmplx1' is not defined"
     ]
    }
   ],
   "source": [
    "print(cmplx1)"
   ]
  },
  {
   "cell_type": "markdown",
   "id": "57c7aff7-d776-440c-8766-424acc85c1dc",
   "metadata": {},
   "source": [
    "# Array .. List"
   ]
  },
  {
   "cell_type": "code",
   "execution_count": 19,
   "id": "ba107e15-a120-440e-bafc-0a26bf82d588",
   "metadata": {},
   "outputs": [
    {
     "name": "stdout",
     "output_type": "stream",
     "text": [
      "[10, 20, 30, 40, 50]\n",
      "10\n",
      "20\n",
      "30\n",
      "50\n",
      "40\n"
     ]
    }
   ],
   "source": [
    "# Defining and declaring and array\n",
    "arr = [10,20,30,40,50]\n",
    "print(arr)\n",
    "\n",
    "# Accessing Array elements\n",
    "print(arr[0])\n",
    "print(arr[1])\n",
    "print(arr[2])\n",
    "print(arr[-1]) # Negative index\n",
    "print(arr[-2]) # Negative index\n"
   ]
  },
  {
   "cell_type": "code",
   "execution_count": 20,
   "id": "847d5e00-2aa0-40a5-ae0c-29c017d885b1",
   "metadata": {},
   "outputs": [
    {
     "name": "stdout",
     "output_type": "stream",
     "text": [
      "['cake', 'Apple', 'Google', 'Microsoft', 'Toyota']\n",
      "5\n",
      "['cake', 'Apple', 'Google', 'Microsoft', 'Toyota', 'Intel']\n"
     ]
    }
   ],
   "source": [
    "brands = [\"cake\",\"Apple\",\"Google\",\"Microsoft\",\"Toyota\"]\n",
    "print(brands)\n",
    "\n",
    "# Finding the length of array\n",
    "num_brands = len(brands)\n",
    "print(num_brands)\n",
    "\n",
    "# Adding an element to an array using append ()\n",
    "brands.append(\"Intel\")\n",
    "print(brands)"
   ]
  },
  {
   "cell_type": "code",
   "execution_count": 22,
   "id": "e5654aa0-2ca6-4ef0-ab02-b8d6ff4d57ea",
   "metadata": {},
   "outputs": [
    {
     "name": "stdout",
     "output_type": "stream",
     "text": [
      "['violet', 'indigo', 'blue', 'green', 'orange', 'red']\n",
      "['violet', 'indigo', 'green', 'orange', 'red']\n",
      "['violet', 'indigo', 'green', 'red']\n"
     ]
    }
   ],
   "source": [
    "# Removing elements from an array\n",
    "colors = [\"violet\",\"indigo\",\"blue\",\"green\",\"yellow\",\"orange\",\"red\"]\n",
    "del colors[4]\n",
    "print(colors)\n",
    "\n",
    "colors.remove(\"blue\")\n",
    "print(colors)\n",
    "\n",
    "colors.pop(3)\n",
    "print(colors)\n",
    "\n",
    "\n",
    "# Output [\"violet\",\"indigo\",\"green\",\"red\"]"
   ]
  },
  {
   "cell_type": "code",
   "execution_count": 24,
   "id": "b837f2b7-62f2-48c5-b937-7f51886331c6",
   "metadata": {},
   "outputs": [
    {
     "name": "stdout",
     "output_type": "stream",
     "text": [
      "['Apple', 'Banana', 'Mango', 'Grapes', 'Orange']\n",
      "['Apple', 'Pineapple', 'Mango', 'Grapes', 'Orange']\n",
      "['Apple', 'Pineapple', 'Mango', 'Grapes', 'Guava']\n"
     ]
    }
   ],
   "source": [
    "# Modifying elements of an array using indexing\n",
    "fruits = [\"Apple\",\"Banana\",\"Mango\",\"Grapes\",\"Orange\"]\n",
    "print(fruits)\n",
    "\n",
    "fruits[1] = \"Pineapple\"\n",
    "print(fruits)\n",
    "\n",
    "fruits[-1] = \"Guava\"\n",
    "print(fruits)"
   ]
  },
  {
   "cell_type": "code",
   "execution_count": 26,
   "id": "1f71e981-b6dc-4e7b-9807-560bf3e40c79",
   "metadata": {},
   "outputs": [
    {
     "name": "stdout",
     "output_type": "stream",
     "text": [
      "[1, 2, 3]\n",
      "[1, 2, 3]\n",
      "[1, 2, 3, 4, 5, 6]\n"
     ]
    }
   ],
   "source": [
    "# Concatenating two arrays using the + operator\n",
    "concat = [1,2,3]\n",
    "print (concat)\n",
    "\n",
    "concat + [4,5,6]\n",
    "print (concat)\n",
    "\n",
    "#updating variable concat\n",
    "concat = concat + [4,5,6]\n",
    "print (concat)"
   ]
  },
  {
   "cell_type": "code",
   "execution_count": 27,
   "id": "d7a1701e-054e-4a56-9dfc-c3b3e41c5e2f",
   "metadata": {},
   "outputs": [
    {
     "name": "stdout",
     "output_type": "stream",
     "text": [
      "['a']\n",
      "['a', 'a', 'a', 'a', 'a']\n"
     ]
    }
   ],
   "source": [
    "# Repeating element in an array\n",
    "repeat = [\"a\"]\n",
    "print(repeat)\n",
    "\n",
    "#updating variable repeat\n",
    "repeat = repeat * 5\n",
    "print(repeat)"
   ]
  },
  {
   "cell_type": "code",
   "execution_count": 32,
   "id": "a6fc29b6-0ca3-4ddd-9eaa-e343e6dfab63",
   "metadata": {},
   "outputs": [
    {
     "name": "stdout",
     "output_type": "stream",
     "text": [
      "['Apple', 'Banana', 'Mango', 'Grapes', 'Orange']\n",
      "['Banana', 'Mango', 'Grapes']\n",
      "['Apple', 'Banana', 'Mango']\n",
      "['Banana', 'Mango', 'Grapes', 'Orange']\n",
      "['Mango', 'Grapes']\n"
     ]
    }
   ],
   "source": [
    "#Slicing (couper en tranche) an array\n",
    "fruits = [\"Apple\",\"Banana\",\"Mango\",\"Grapes\",\"Orange\"]\n",
    "print(fruits)\n",
    "print(fruits[1:4])\n",
    "print(fruits[:3]) # [0:3]\n",
    "print(fruits[-4:])\n",
    "print(fruits[-3:-1]) # -1 End element"
   ]
  },
  {
   "cell_type": "code",
   "execution_count": 36,
   "id": "c0f5544b-8750-4015-826e-516a016d2048",
   "metadata": {},
   "outputs": [
    {
     "name": "stdout",
     "output_type": "stream",
     "text": [
      "[[1, 2], [3, 4], [5, 6], [7, 8]]\n",
      "[1, 2]\n",
      "[7, 8]\n",
      "6\n",
      "7\n"
     ]
    }
   ],
   "source": [
    "#Declaring and defininf=g multidimentional array\n",
    "multd = [[1,2], [3,4], [5,6], [7,8]]\n",
    "print(multd)\n",
    "print(multd[0])\n",
    "print(multd[3])\n",
    "print(multd[2][1])\n",
    "print(multd[3][0])"
   ]
  },
  {
   "cell_type": "markdown",
   "id": "0f16c120-ef1a-4363-aa89-68bd3072a0a0",
   "metadata": {},
   "source": [
    "# Python keywords"
   ]
  },
  {
   "cell_type": "code",
   "execution_count": 39,
   "id": "a2199de2-e24d-426a-8d10-d45bab3b2d9a",
   "metadata": {},
   "outputs": [
    {
     "name": "stdout",
     "output_type": "stream",
     "text": [
      "True\n",
      "False\n"
     ]
    }
   ],
   "source": [
    "#True False\n",
    "print(5 == 5)\n",
    "print(5>5)"
   ]
  },
  {
   "cell_type": "code",
   "execution_count": 41,
   "id": "aee57c19-eac2-4b2d-b1ab-3f3169de3b58",
   "metadata": {},
   "outputs": [
    {
     "name": "stdout",
     "output_type": "stream",
     "text": [
      "False\n",
      "True\n"
     ]
    }
   ],
   "source": [
    "# None\n",
    "print(None == 0)\n",
    "print(None == None)"
   ]
  },
  {
   "cell_type": "code",
   "execution_count": 43,
   "id": "edb953d4-9d4d-43bb-8ccf-8d6c8214c4ce",
   "metadata": {},
   "outputs": [
    {
     "name": "stdout",
     "output_type": "stream",
     "text": [
      "None\n"
     ]
    }
   ],
   "source": [
    "#function \n",
    "def a_void_function():\n",
    "    a = 1\n",
    "    b = 2\n",
    "    c = a + b\n",
    "x = a_void_function()\n",
    "print(x)"
   ]
  },
  {
   "cell_type": "code",
   "execution_count": 46,
   "id": "faa0759e-2f16-4ae6-9ea2-9a47768b0940",
   "metadata": {},
   "outputs": [
    {
     "name": "stdout",
     "output_type": "stream",
     "text": [
      "False\n",
      "True\n",
      "True\n"
     ]
    }
   ],
   "source": [
    "#and or not\n",
    "print(True and False)\n",
    "print(True or False)\n",
    "print(not False)"
   ]
  },
  {
   "cell_type": "code",
   "execution_count": 47,
   "id": "e9aa1de9-324d-49d3-ba17-1a092d71b9c3",
   "metadata": {},
   "outputs": [
    {
     "name": "stdout",
     "output_type": "stream",
     "text": [
      "-1.0\n"
     ]
    }
   ],
   "source": [
    "# as\n",
    "import math as myMath\n",
    "print(myMath.cos(myMath.pi))"
   ]
  },
  {
   "cell_type": "code",
   "execution_count": 50,
   "id": "328845c1-025e-4ba7-83c6-5c138cbfc587",
   "metadata": {},
   "outputs": [],
   "source": [
    "# assert\n",
    "\n",
    "assert 5 > 4\n",
    "assert 5 == 5"
   ]
  },
  {
   "cell_type": "code",
   "execution_count": 52,
   "id": "b923a922-618c-424c-b1f5-e27f099a2645",
   "metadata": {},
   "outputs": [
    {
     "name": "stdout",
     "output_type": "stream",
     "text": [
      "1\n",
      "2\n",
      "3\n",
      "4\n",
      "5\n",
      "6\n"
     ]
    }
   ],
   "source": [
    "#break\n",
    "for i in range(1,11):\n",
    "    if i == 7:\n",
    "        break # terminate loop\n",
    "    print(i)"
   ]
  },
  {
   "cell_type": "code",
   "execution_count": 54,
   "id": "442cf7eb-ddd3-49d7-ad3b-18fac6bc995d",
   "metadata": {},
   "outputs": [
    {
     "name": "stdout",
     "output_type": "stream",
     "text": [
      "1\n",
      "2\n",
      "3\n",
      "4\n",
      "6\n",
      "7\n"
     ]
    }
   ],
   "source": [
    "# continue\n",
    "for i in range(1,8):\n",
    "    if i == 5:\n",
    "       continue # saute une execution de boucle\n",
    "    print(i)"
   ]
  },
  {
   "cell_type": "code",
   "execution_count": 55,
   "id": "ffa113ca-a4aa-41c3-b8d1-340d79f66541",
   "metadata": {},
   "outputs": [
    {
     "name": "stdout",
     "output_type": "stream",
     "text": [
      "function1() executing...\n",
      "function2() executing...\n"
     ]
    }
   ],
   "source": [
    "# class\n",
    "class ExampleClass:\n",
    "    def function1(parameters):\n",
    "        print(\"function1() executing...\")\n",
    "    def function2(parameters):\n",
    "        print(\"function2() executing...\")\n",
    "ob1 = ExampleClass()\n",
    "ob1.function1()\n",
    "ob1.function2()"
   ]
  },
  {
   "cell_type": "code",
   "execution_count": 57,
   "id": "cde8fbbd-1c9a-456a-9e2c-ea6b57830bc3",
   "metadata": {},
   "outputs": [],
   "source": [
    "#def\n",
    "def function_name(parameters):\n",
    "    pass # not outcome\n",
    "function_name(10)"
   ]
  },
  {
   "cell_type": "code",
   "execution_count": 58,
   "id": "a85c58cb-7a80-4fab-a030-98a394e37716",
   "metadata": {},
   "outputs": [
    {
     "name": "stdout",
     "output_type": "stream",
     "text": [
      "10\n"
     ]
    },
    {
     "ename": "NameError",
     "evalue": "name 'a' is not defined",
     "output_type": "error",
     "traceback": [
      "\u001b[1;31m---------------------------------------------------------------------------\u001b[0m",
      "\u001b[1;31mNameError\u001b[0m                                 Traceback (most recent call last)",
      "\u001b[1;32m~\\AppData\\Local\\Temp\\ipykernel_12776\\236235000.py\u001b[0m in \u001b[0;36m<module>\u001b[1;34m\u001b[0m\n\u001b[0;32m      3\u001b[0m \u001b[0mprint\u001b[0m\u001b[1;33m(\u001b[0m\u001b[0ma\u001b[0m\u001b[1;33m)\u001b[0m\u001b[1;33m\u001b[0m\u001b[1;33m\u001b[0m\u001b[0m\n\u001b[0;32m      4\u001b[0m \u001b[1;32mdel\u001b[0m \u001b[0ma\u001b[0m\u001b[1;33m\u001b[0m\u001b[1;33m\u001b[0m\u001b[0m\n\u001b[1;32m----> 5\u001b[1;33m \u001b[0mprint\u001b[0m\u001b[1;33m(\u001b[0m\u001b[0ma\u001b[0m\u001b[1;33m)\u001b[0m\u001b[1;33m\u001b[0m\u001b[1;33m\u001b[0m\u001b[0m\n\u001b[0m",
      "\u001b[1;31mNameError\u001b[0m: name 'a' is not defined"
     ]
    }
   ],
   "source": [
    "#del\n",
    "a = 10\n",
    "print(a)\n",
    "del a\n",
    "print(a)"
   ]
  },
  {
   "cell_type": "code",
   "execution_count": 59,
   "id": "bc4e1a00-1dd9-4df8-b4fa-212ef7e68555",
   "metadata": {},
   "outputs": [
    {
     "name": "stdout",
     "output_type": "stream",
     "text": [
      "Two\n"
     ]
    }
   ],
   "source": [
    "# if... elif..else\n",
    "num = 2\n",
    "if num == 1:\n",
    "    print('one')\n",
    "elif num == 2:\n",
    "    print(\"Two\")\n",
    "else:\n",
    "    print('Something else')"
   ]
  },
  {
   "cell_type": "code",
   "execution_count": 61,
   "id": "75cf9622-4d52-47f9-9be4-b707ee77c59f",
   "metadata": {},
   "outputs": [
    {
     "name": "stdout",
     "output_type": "stream",
     "text": [
      "Execution Successfully\n"
     ]
    }
   ],
   "source": [
    "#try ...raise .. catch .. finally\n",
    "\n",
    "try:\n",
    "    x = 9\n",
    "    #raise ZeroDivisionError\n",
    "except ZeroDivisionError:\n",
    "    print(\"Division cannot be performed\")\n",
    "finally:\n",
    "    print(\"Execution Successfully\")"
   ]
  },
  {
   "cell_type": "code",
   "execution_count": 65,
   "id": "15b43932-a813-4994-bf8a-af152113e453",
   "metadata": {},
   "outputs": [
    {
     "name": "stdout",
     "output_type": "stream",
     "text": [
      "1\n",
      "2\n",
      "3\n",
      "4\n",
      "5\n",
      "6\n",
      "7\n",
      "8\n",
      "9\n"
     ]
    }
   ],
   "source": [
    "# for\n",
    "for i in range(1,10):\n",
    "    print(i)"
   ]
  },
  {
   "cell_type": "code",
   "execution_count": 66,
   "id": "b5492991-9c13-48f5-836a-2823bc928656",
   "metadata": {},
   "outputs": [
    {
     "data": {
      "text/plain": [
       "-1.0"
      ]
     },
     "execution_count": 66,
     "metadata": {},
     "output_type": "execute_result"
    }
   ],
   "source": [
    "# from .. import\n",
    "\n",
    "import math\n",
    "\n",
    "from math import cos,pi # use function directly\n",
    "\n",
    "cos(pi)"
   ]
  },
  {
   "cell_type": "raw",
   "id": "26fccd39-945b-4709-abdf-574376ef99ec",
   "metadata": {},
   "source": []
  },
  {
   "cell_type": "code",
   "execution_count": null,
   "id": "d32bbcbd-9d93-439b-aa0f-2b341df107d5",
   "metadata": {},
   "outputs": [],
   "source": []
  },
  {
   "cell_type": "code",
   "execution_count": 70,
   "id": "15e9da43-51d2-4939-8fff-309862119cf1",
   "metadata": {},
   "outputs": [
    {
     "name": "stdout",
     "output_type": "stream",
     "text": [
      "10\n",
      "5\n",
      "5\n"
     ]
    }
   ],
   "source": [
    "# global\n",
    "globvar = 10\n",
    "def read1():\n",
    "    print(globvar)\n",
    "def write1():\n",
    "    global globvar\n",
    "    globvar = 5\n",
    "def write2():\n",
    "    globvar = 15\n",
    "\n",
    "read1()\n",
    "write1()\n",
    "read1()\n",
    "write2()\n",
    "read1()"
   ]
  },
  {
   "cell_type": "code",
   "execution_count": 73,
   "id": "12c28c3d-0edf-4e43-aa5c-93e0bef86435",
   "metadata": {},
   "outputs": [
    {
     "name": "stdout",
     "output_type": "stream",
     "text": [
      "True\n"
     ]
    }
   ],
   "source": [
    "# in use to see one element match in the list\n",
    "a = [1,2,3,4]\n",
    "print(4 in a)"
   ]
  },
  {
   "cell_type": "code",
   "execution_count": 76,
   "id": "d418c702-56a5-4405-9265-907ca4e17fa6",
   "metadata": {},
   "outputs": [
    {
     "name": "stdout",
     "output_type": "stream",
     "text": [
      "True\n"
     ]
    }
   ],
   "source": [
    "#is\n",
    "print (True is True)"
   ]
  },
  {
   "cell_type": "code",
   "execution_count": 79,
   "id": "76d2e88d-7635-47a8-b0cb-ec1b1d7075ed",
   "metadata": {},
   "outputs": [
    {
     "name": "stdout",
     "output_type": "stream",
     "text": [
      "2\n",
      "4\n",
      "6\n",
      "8\n",
      "10\n"
     ]
    }
   ],
   "source": [
    "# lambda # anonymous fonction no name like def\n",
    "\n",
    "a = lambda x: x*2\n",
    "for i in range(1,6):\n",
    "    print(a(i))"
   ]
  },
  {
   "cell_type": "code",
   "execution_count": 85,
   "id": "dfee4be6-80c7-4d1b-8861-4454caf18d09",
   "metadata": {},
   "outputs": [
    {
     "name": "stdout",
     "output_type": "stream",
     "text": [
      "Inner function:  10\n",
      "Outer function:  10\n"
     ]
    }
   ],
   "source": [
    "#nonlocal\n",
    "def outer_function():\n",
    "    a = 5\n",
    "    def inner_function():\n",
    "        nonlocal a # a is non local\n",
    "        a = 10\n",
    "        print(\"Inner function: \",a)\n",
    "    inner_function()\n",
    "    print('Outer function: ',a)\n",
    "outer_function()"
   ]
  },
  {
   "cell_type": "code",
   "execution_count": 87,
   "id": "d6064fbc-085d-4823-859e-28133e6b4ee7",
   "metadata": {},
   "outputs": [],
   "source": [
    "#pass\n",
    "def function(args):\n",
    "    pass\n",
    "\n",
    "#use to add more instruction later\n",
    "function(5)"
   ]
  },
  {
   "cell_type": "code",
   "execution_count": 88,
   "id": "7e833360-86af-4e76-854e-d3bdaa3e28f6",
   "metadata": {},
   "outputs": [
    {
     "name": "stdout",
     "output_type": "stream",
     "text": [
      "1\n"
     ]
    }
   ],
   "source": [
    "#return\n",
    "\n",
    "def func_return():\n",
    "    a = 1\n",
    "    return a\n",
    "print(func_return())"
   ]
  },
  {
   "cell_type": "code",
   "execution_count": 89,
   "id": "8b7f6948-05a6-4ea5-8651-54726cd8f8da",
   "metadata": {},
   "outputs": [
    {
     "name": "stdout",
     "output_type": "stream",
     "text": [
      "5\n",
      "4\n",
      "3\n",
      "2\n",
      "1\n"
     ]
    }
   ],
   "source": [
    "# while\n",
    "i = 5\n",
    "while (i>0):\n",
    "    print(i)\n",
    "    i -= 1"
   ]
  },
  {
   "cell_type": "code",
   "execution_count": 90,
   "id": "15d4fb86-82d0-4852-b426-b31b5b2ddc90",
   "metadata": {},
   "outputs": [],
   "source": [
    "# with \n",
    "\n",
    "with open('example.txt','w') as my_file:\n",
    "    my_file.write('Hello word!')"
   ]
  },
  {
   "cell_type": "code",
   "execution_count": 93,
   "id": "9661a8c4-8b81-4ce2-a8a6-24f8f4a3907a",
   "metadata": {},
   "outputs": [
    {
     "name": "stdout",
     "output_type": "stream",
     "text": [
      "0\n",
      "1\n",
      "4\n",
      "9\n",
      "16\n",
      "25\n"
     ]
    }
   ],
   "source": [
    "# yield\n",
    "def generator():\n",
    "    for i in range(6):\n",
    "        yield i*i\n",
    "g = generator()\n",
    "for i in g:\n",
    "    print(i)"
   ]
  },
  {
   "cell_type": "markdown",
   "id": "c473c2c2-a55f-4fea-825e-fb76457d0688",
   "metadata": {},
   "source": [
    "# Tuples"
   ]
  },
  {
   "cell_type": "code",
   "execution_count": 94,
   "id": "7309d839-baf6-4001-b3a5-4fc94323a37b",
   "metadata": {},
   "outputs": [
    {
     "name": "stdout",
     "output_type": "stream",
     "text": [
      "()\n",
      "(1, 2, 3)\n",
      "(103, 'Anirban', 20000.0, 'HR Dept')\n"
     ]
    }
   ],
   "source": [
    " # creating an empty tuple\n",
    "tuple1 = ()\n",
    "print(tuple1)\n",
    "\n",
    "# creating tuples with integer éléments\n",
    "tuple2 = (1,2,3)\n",
    "print(tuple2)\n",
    "\n",
    "#Tuples with mixed datatypes\n",
    "tuple3 = (103,\"Anirban\", 20000.00, \"HR Dept\")\n",
    "print(tuple3)"
   ]
  },
  {
   "cell_type": "code",
   "execution_count": 98,
   "id": "b59589ad-99af-4bfc-b92f-37ca6eee6e71",
   "metadata": {},
   "outputs": [
    {
     "name": "stdout",
     "output_type": "stream",
     "text": [
      "('points', [1, 4, 3], (7, 8, 6))\n",
      "(101, 'Anirban', 20000.0, 'HR Dep')\n",
      "101\n",
      "Anirban\n",
      "20000.0\n",
      "HR Dep\n",
      "<class 'tuple'>\n"
     ]
    }
   ],
   "source": [
    "# creation of nested tuple\n",
    "tuple4 = (\"points\",[1,4,3],(7,8,6))\n",
    "print(tuple4)\n",
    "\n",
    "# tuple can be created without any parentheses\n",
    "tuple5 = 101, \"Anirban\",20000.00,\"HR Dep\"\n",
    "print(tuple5)\n",
    "\n",
    "# tuple unpacking is also possible\n",
    "empid,empname,empsal,empdept = tuple5\n",
    "print(empid)\n",
    "print(empname)\n",
    "print(empsal)\n",
    "print(empdept)\n",
    "print(type(tuple5))"
   ]
  },
  {
   "cell_type": "code",
   "execution_count": 99,
   "id": "67b2dbda-2969-4b6a-9a39-75c6809c408f",
   "metadata": {},
   "outputs": [
    {
     "name": "stdout",
     "output_type": "stream",
     "text": [
      "('w', 'e', 'l', 'c', 'o', 'm', 'e')\n",
      "e\n",
      "l\n",
      "m\n",
      "('points', [1, 3, 4], (8, 7, 9))\n",
      "n\n",
      "4\n",
      "9\n"
     ]
    }
   ],
   "source": [
    "# accessing elements in a tuple\n",
    "tuple1 = ('w','e','l','c','o','m','e')\n",
    "print(tuple1)\n",
    "print(tuple1[1])\n",
    "print(tuple1[2])\n",
    "print(tuple1[5])\n",
    "\n",
    "# nested tuple\n",
    "\n",
    "nest_tuple2 = (\"points\",[1,3,4],(8,7,9))\n",
    "print(nest_tuple2)\n",
    "print(nest_tuple2[0][3])\n",
    "print(nest_tuple2[1][2])\n",
    "print(nest_tuple2[2][2])\n"
   ]
  },
  {
   "cell_type": "code",
   "execution_count": 100,
   "id": "d66e22c7-f02e-422e-b915-961f743db6a1",
   "metadata": {},
   "outputs": [
    {
     "name": "stdout",
     "output_type": "stream",
     "text": [
      "('e', 'l')\n",
      "('w', 'e', 'l', 'c')\n",
      "('c', 'o', 'm', 'e')\n",
      "('w', 'e', 'l', 'c', 'o', 'm', 'e')\n"
     ]
    }
   ],
   "source": [
    "# slicing tuple contents\n",
    "tuple1 = ('w','e','l','c','o','m','e')\n",
    "\n",
    "print(tuple1[1:3]) # last is not include so output 1 and 2 only\n",
    "\n",
    "print(tuple1[:-3])\n",
    "\n",
    "print(tuple1[3:])\n",
    "\n",
    "print(tuple1[:])"
   ]
  },
  {
   "cell_type": "code",
   "execution_count": 104,
   "id": "9f75d0f7-35c5-430e-9881-c93285d68182",
   "metadata": {},
   "outputs": [
    {
     "name": "stdout",
     "output_type": "stream",
     "text": [
      "('w', 'e', 'l', 'c', 'o', 'm', 'e')\n",
      "('g', 'o', 'o', 'd', 'b', 'y', 'e')\n"
     ]
    }
   ],
   "source": [
    " # tuple elements are immutable\n",
    "tuple1 = ('w','e','l','c','o','m','e')\n",
    "print(tuple1)\n",
    "#tuple1[2] = 'x'  #error\n",
    "\n",
    "# tuples can be reassigned\n",
    "\n",
    "tuple1 =('g','o','o','d','b','y','e')\n",
    "print(tuple1)"
   ]
  },
  {
   "cell_type": "code",
   "execution_count": 108,
   "id": "a6231b52-522f-49ed-9355-eb28bc54fe6a",
   "metadata": {},
   "outputs": [
    {
     "name": "stdout",
     "output_type": "stream",
     "text": [
      "('w', 'e', 'l')\n",
      "('c', 'o', 'm', 'e')\n",
      "('w', 'e', 'l', 'c', 'o', 'm', 'e')\n",
      "('again', 'again', 'again', 'again')\n"
     ]
    }
   ],
   "source": [
    "# concatenation of tuples\n",
    "\n",
    "tuple2 = ('w','e','l')\n",
    "tuple3 = ('c','o','m','e')\n",
    "print(tuple2)\n",
    "print(tuple3)\n",
    "print(tuple2+tuple3)\n",
    "print((\"again\",)*4)"
   ]
  },
  {
   "cell_type": "code",
   "execution_count": 113,
   "id": "5130463e-6c64-4326-acfc-a8e8ba45248c",
   "metadata": {},
   "outputs": [
    {
     "ename": "TypeError",
     "evalue": "'tuple' object doesn't support item deletion",
     "output_type": "error",
     "traceback": [
      "\u001b[1;31m---------------------------------------------------------------------------\u001b[0m",
      "\u001b[1;31mTypeError\u001b[0m                                 Traceback (most recent call last)",
      "\u001b[1;32m~\\AppData\\Local\\Temp\\ipykernel_12776\\2399647503.py\u001b[0m in \u001b[0;36m<module>\u001b[1;34m\u001b[0m\n\u001b[0;32m      3\u001b[0m \u001b[1;33m\u001b[0m\u001b[0m\n\u001b[0;32m      4\u001b[0m \u001b[1;31m# as immutable so elements can not be deleted\u001b[0m\u001b[1;33m\u001b[0m\u001b[1;33m\u001b[0m\u001b[1;33m\u001b[0m\u001b[0m\n\u001b[1;32m----> 5\u001b[1;33m \u001b[1;32mdel\u001b[0m \u001b[0mtuple4\u001b[0m\u001b[1;33m[\u001b[0m\u001b[1;36m2\u001b[0m\u001b[1;33m]\u001b[0m\u001b[1;33m\u001b[0m\u001b[1;33m\u001b[0m\u001b[0m\n\u001b[0m\u001b[0;32m      6\u001b[0m \u001b[1;33m\u001b[0m\u001b[0m\n\u001b[0;32m      7\u001b[0m \u001b[1;31m# but can delete entire tuple\u001b[0m\u001b[1;33m\u001b[0m\u001b[1;33m\u001b[0m\u001b[1;33m\u001b[0m\u001b[0m\n",
      "\u001b[1;31mTypeError\u001b[0m: 'tuple' object doesn't support item deletion"
     ]
    }
   ],
   "source": [
    "# deletion  operation on a tuple\n",
    "tuple4 = ('w','e','l','c','o','m','e')\n",
    "\n",
    "# as immutable so elements can not be deleted\n",
    "#del tuple4[2]\n",
    "\n",
    "# but can delete entire tuple\n",
    "\n",
    "#del tuple4\n",
    "\n",
    "print(tuple4)\n"
   ]
  },
  {
   "cell_type": "code",
   "execution_count": 115,
   "id": "f72fd89e-fcca-4b2b-8eea-257d4059978e",
   "metadata": {},
   "outputs": [
    {
     "name": "stdout",
     "output_type": "stream",
     "text": [
      "2\n",
      "3\n"
     ]
    }
   ],
   "source": [
    "# Tuple methods\n",
    "\n",
    "tuple5 = ('w','e','l','c','o','m','e')\n",
    "print(tuple5.count('e'))\n",
    "print(tuple5.index('c')) # first element found"
   ]
  },
  {
   "cell_type": "code",
   "execution_count": 117,
   "id": "7c0b8d6f-7942-4c31-bc2a-79b71179ef81",
   "metadata": {},
   "outputs": [
    {
     "name": "stdout",
     "output_type": "stream",
     "text": [
      "('w', 'e', 'l', 'c', 'o', 'm', 'e')\n",
      "True\n",
      "False\n",
      "False\n",
      "True\n"
     ]
    }
   ],
   "source": [
    "# Tuple operation\n",
    "tuple6 = ('w','e','l','c','o','m','e')\n",
    "print(tuple6)\n",
    "\n",
    "#membership\n",
    "print ('c' in tuple6)\n",
    "print ('c' not in tuple6)\n",
    "print ('a' in tuple6)\n",
    "print ('a' not in tuple6)\n",
    "\n",
    "# Output : True, False, False, True"
   ]
  },
  {
   "cell_type": "code",
   "execution_count": 118,
   "id": "3fd3e299-1464-44f0-9f8a-0079412cee4e",
   "metadata": {},
   "outputs": [
    {
     "name": "stdout",
     "output_type": "stream",
     "text": [
      "letter is ->  w\n",
      "letter is ->  e\n",
      "letter is ->  l\n",
      "letter is ->  c\n",
      "letter is ->  o\n",
      "letter is ->  m\n",
      "letter is ->  e\n"
     ]
    }
   ],
   "source": [
    "# iteration through tuple elements\n",
    "tuple6 = ('w','e','l','c','o','m','e')\n",
    "for letters in tuple6:\n",
    "    print(\"letter is -> \",letters)\n"
   ]
  },
  {
   "cell_type": "code",
   "execution_count": 122,
   "id": "66b31664-c9af-450d-b5ea-dde8a14aa93d",
   "metadata": {},
   "outputs": [
    {
     "name": "stdout",
     "output_type": "stream",
     "text": [
      "(22, 33, 55, 44, 77, 66, 11)\n",
      "77\n",
      "11\n",
      "[11, 22, 33, 44, 55, 66, 77]\n",
      "7\n",
      "308\n"
     ]
    }
   ],
   "source": [
    "# Built-in function with tuple\n",
    "tuple7 = (22,33,55,44,77,66,11)\n",
    "print(tuple7)\n",
    "\n",
    "print(max(tuple7))\n",
    "print(min(tuple7))\n",
    "print(sorted(tuple7))\n",
    "print(len(tuple7))\n",
    "print(sum(tuple7))"
   ]
  },
  {
   "cell_type": "markdown",
   "id": "c92dfc1b-6322-4c28-b504-381b54cbef31",
   "metadata": {},
   "source": [
    "# Learn Sets"
   ]
  },
  {
   "cell_type": "code",
   "execution_count": 6,
   "id": "08645b4d-15a8-4312-a631-b8875e9f48fc",
   "metadata": {},
   "outputs": [
    {
     "name": "stdout",
     "output_type": "stream",
     "text": [
      "{33, 66, 11, 44, 22, 55}\n",
      "{(21, 2, 1994), 101, 'Agnibha'}\n",
      "{33, 11, 44, 22}\n",
      "{1, 2, 3}\n",
      "<class 'set'>\n",
      "[33, 11, 44, 22]\n",
      "<class 'list'>\n"
     ]
    }
   ],
   "source": [
    "# creating sets\n",
    "# set og integers\n",
    "\n",
    "my_set1 = {11,33,66,55,44,22}\n",
    "print(my_set1)\n",
    "\n",
    "# set of mixed datatypes\n",
    "my_set2 = {101,\"Agnibha\",(21,2,1994)}\n",
    "print(my_set2)\n",
    "\n",
    "# Duplicate values are not allowed\n",
    "my_set3 = {11,22,33,33,44,22}\n",
    "print(my_set3)\n",
    "\n",
    "# set cannot have mutable items\n",
    "#my_set4 = {1,2,[3,4]}\n",
    "\n",
    "# we can make set from a list\n",
    "my_set5 = set([1,2,3,2])\n",
    "print((my_set5))\n",
    "print(type(my_set5))\n",
    "\n",
    "# we can make list from a set\n",
    "\n",
    "my_list1 = list({11,22,33,44})\n",
    "print(my_list1)\n",
    "print(type(my_list1))"
   ]
  },
  {
   "cell_type": "code",
   "execution_count": 10,
   "id": "995a4423-0b1b-4d09-8a06-f7b925fe94ed",
   "metadata": {},
   "outputs": [
    {
     "name": "stdout",
     "output_type": "stream",
     "text": [
      "{33, 66, 11, 44, 22, 55}\n",
      "{33, 66, 11, 44, 77, 22, 55}\n",
      "{33, 66, 99, 11, 44, 77, 22, 55, 88}\n",
      "{33, 66, 99, 100, 102, 103, 104, 105, 11, 44, 77, 22, 55, 88}\n"
     ]
    }
   ],
   "source": [
    "# operations on sets\n",
    "my_set1 = {11,33,66,55,44,22}\n",
    "print(my_set1)\n",
    "\n",
    "# 'set' object does not support indexing\n",
    "\n",
    "#my_set1[0]\n",
    "\n",
    "# add an element\n",
    "my_set1.add(77)\n",
    "print(my_set1)\n",
    "\n",
    "#add multiple elements\n",
    "my_set1.update([88,99,22])\n",
    "print(my_set1)\n",
    "\n",
    "# add list and set\n",
    "my_set1.update([100,102],{103,104,105})\n",
    "print(my_set1)"
   ]
  },
  {
   "cell_type": "code",
   "execution_count": 15,
   "id": "58d4d80b-d84a-4b27-981e-9cad5835e0dc",
   "metadata": {},
   "outputs": [
    {
     "name": "stdout",
     "output_type": "stream",
     "text": [
      "{33, 66, 11, 44, 55}\n",
      "{33, 66, 11, 44, 55}\n",
      "{33, 66, 11, 44, 55}\n",
      "{33, 66, 11, 55}\n",
      "{33, 66, 11}\n"
     ]
    }
   ],
   "source": [
    "# remove and discard\n",
    "# initialize my_set1\n",
    "my_set1 = {11,33,44,66,55}\n",
    "print(my_set1)\n",
    "\n",
    "# discard an element which is not present, not error\n",
    "my_set1.discard(4)\n",
    "print(my_set1)\n",
    "\n",
    "# remove an element which is not present, error raised\n",
    "#my_set1.remove(6)\n",
    "print(my_set1)\n",
    "\n",
    "# discard an element\n",
    "my_set1.discard(44)\n",
    "print(my_set1)\n",
    "my_set1.remove(55)\n",
    "print(my_set1)"
   ]
  },
  {
   "cell_type": "code",
   "execution_count": 16,
   "id": "b9d6b5e6-8ff3-4374-adf0-055b676bb8af",
   "metadata": {},
   "outputs": [
    {
     "name": "stdout",
     "output_type": "stream",
     "text": [
      "{33, 66, 11, 44, 55}\n",
      "33\n",
      "66\n",
      "{11, 44, 55}\n",
      "set()\n"
     ]
    }
   ],
   "source": [
    "# using pop()\n",
    "# initialize my_set1\n",
    "my_set1 = {11,33,44,66,55}\n",
    "print(my_set1)\n",
    "\n",
    "# pop an element\n",
    "print(my_set1.pop())\n",
    "\n",
    "# pop another element, delete element arbitrary\n",
    "print(my_set1.pop())\n",
    "print(my_set1)\n",
    "\n",
    "# clear my_set\n",
    "my_set1.clear()\n",
    "print(my_set1)"
   ]
  },
  {
   "cell_type": "code",
   "execution_count": 17,
   "id": "4050cd7e-daa2-446f-bad0-25ed6277b310",
   "metadata": {},
   "outputs": [
    {
     "name": "stdout",
     "output_type": "stream",
     "text": [
      "{0, 1, 2, 3, 4, 5}\n",
      "{4, 5, 6, 7, 8, 9}\n",
      "{0, 1, 2, 3, 4, 5, 6, 7, 8, 9}\n",
      "{0, 1, 2, 3, 4, 5, 6, 7, 8, 9}\n",
      "{0, 1, 2, 3, 4, 5, 6, 7, 8, 9}\n",
      "{0, 1, 2, 3, 4, 5, 6, 7, 8, 9}\n"
     ]
    }
   ],
   "source": [
    "# set operations - union\n",
    "myset1 = {0,1,2,3,4,5}\n",
    "myset2 = {4,5,6,7,8,9}\n",
    "print(myset1)\n",
    "print(myset2)\n",
    "\n",
    "# use | operator for union\n",
    "print(myset1 | myset2)\n",
    "print(myset2 | myset1)\n",
    "print(myset1.union(myset2))\n",
    "print(myset2.union(myset1))"
   ]
  },
  {
   "cell_type": "code",
   "execution_count": 18,
   "id": "027554e7-dd84-4882-8998-862b4cf55b2b",
   "metadata": {},
   "outputs": [
    {
     "name": "stdout",
     "output_type": "stream",
     "text": [
      "{0, 1, 2, 3, 4, 5}\n",
      "{4, 5, 6, 7, 8, 9}\n",
      "{4, 5}\n",
      "{4, 5}\n",
      "{4, 5}\n",
      "{4, 5}\n"
     ]
    }
   ],
   "source": [
    "# set operations - intersection\n",
    "myset1 = {0,1,2,3,4,5}\n",
    "myset2 = {4,5,6,7,8,9}\n",
    "print(myset1)\n",
    "print(myset2)\n",
    "\n",
    "# use & operator for intersection commun elements betwen myset1 and myset2\n",
    "\n",
    "print(myset1 & myset2)\n",
    "print(myset2 & myset1)\n",
    "print(myset1.intersection(myset2))\n",
    "print(myset2.intersection(myset1))"
   ]
  },
  {
   "cell_type": "code",
   "execution_count": 19,
   "id": "544eff9d-8d54-4e0b-b53d-a1b7ec3697da",
   "metadata": {},
   "outputs": [
    {
     "name": "stdout",
     "output_type": "stream",
     "text": [
      "{0, 1, 2, 3, 4, 5}\n",
      "{4, 5, 6, 7, 8, 9}\n",
      "{0, 1, 2, 3}\n",
      "{8, 9, 6, 7}\n",
      "{0, 1, 2, 3}\n",
      "{8, 9, 6, 7}\n"
     ]
    }
   ],
   "source": [
    "# set operations - set difference\n",
    "myset1 = {0,1,2,3,4,5}\n",
    "myset2 = {4,5,6,7,8,9}\n",
    "print(myset1)\n",
    "print(myset2)\n",
    "\n",
    "# use - operator for difference\n",
    "\n",
    "print(myset1 - myset2)\n",
    "print(myset2 - myset1)\n",
    "print(myset1.difference(myset2))\n",
    "print(myset2.difference(myset1))"
   ]
  },
  {
   "cell_type": "code",
   "execution_count": 20,
   "id": "9590f96a-4754-4d3e-845e-5d8fd3778f0a",
   "metadata": {},
   "outputs": [
    {
     "name": "stdout",
     "output_type": "stream",
     "text": [
      "{0, 1, 2, 3, 4, 5}\n",
      "{4, 5, 6, 7, 8, 9}\n",
      "{0, 1, 2, 3, 6, 7, 8, 9}\n",
      "{0, 1, 2, 3, 6, 7, 8, 9}\n",
      "{0, 1, 2, 3, 6, 7, 8, 9}\n",
      "{0, 1, 2, 3, 6, 7, 8, 9}\n"
     ]
    }
   ],
   "source": [
    "# set operations - symmetric difference\n",
    "myset1 = {0,1,2,3,4,5}\n",
    "myset2 = {4,5,6,7,8,9}\n",
    "print(myset1)\n",
    "print(myset2)\n",
    "\n",
    "# use ^ ooperator for symmetric difference\n",
    "print(myset1 ^ myset2)\n",
    "print(myset2 ^ myset1)\n",
    "print(myset1.symmetric_difference(myset2))\n",
    "print(myset2.symmetric_difference(myset1))"
   ]
  },
  {
   "cell_type": "code",
   "execution_count": 21,
   "id": "86815e68-557d-47a9-b8d3-c6b7638c13a1",
   "metadata": {},
   "outputs": [
    {
     "name": "stdout",
     "output_type": "stream",
     "text": [
      "True\n",
      "False\n",
      "False\n",
      "True\n"
     ]
    }
   ],
   "source": [
    "# set membership\n",
    "myset1 = {0,1,2,3,4,5}\n",
    "print(2 in myset1)\n",
    "print(6 in myset1)\n",
    "print(2 not in myset1)\n",
    "print(6 not in myset1)\n",
    "\n",
    "# Output true,False,False,True"
   ]
  },
  {
   "cell_type": "code",
   "execution_count": 23,
   "id": "849f5c8e-3a3e-4ec6-807e-ccaa15e1714d",
   "metadata": {},
   "outputs": [
    {
     "name": "stdout",
     "output_type": "stream",
     "text": [
      "w\n",
      "c\n",
      "o\n",
      "m\n",
      "e\n",
      "l\n"
     ]
    }
   ],
   "source": [
    "# iterating through a set\n",
    "for letter in set(\"welcome\"):\n",
    "    print (letter)"
   ]
  },
  {
   "cell_type": "code",
   "execution_count": 24,
   "id": "5663d7c3-708a-473a-97f2-a78b3805280d",
   "metadata": {},
   "outputs": [
    {
     "name": "stdout",
     "output_type": "stream",
     "text": [
      "6\n",
      "5\n",
      "0\n",
      "[0, 1, 2, 3, 4, 5]\n"
     ]
    }
   ],
   "source": [
    "# built-in function with set\n",
    "myset1 = {0,1,2,3,4,5}\n",
    "print(len(myset1))\n",
    "print(max(myset1))\n",
    "print(min(myset1))\n",
    "print(sorted(myset1))"
   ]
  },
  {
   "cell_type": "code",
   "execution_count": 27,
   "id": "03a7b033-1fce-4e05-b5d8-28cae540ff10",
   "metadata": {},
   "outputs": [
    {
     "name": "stdout",
     "output_type": "stream",
     "text": [
      "frozenset({1, 2, 3, 4})\n",
      "frozenset({3, 4, 5, 6})\n",
      "frozenset({1, 2})\n",
      "frozenset({1, 2, 3, 4, 5, 6})\n",
      "frozenset({3, 4})\n",
      "frozenset({1, 2, 5, 6})\n"
     ]
    }
   ],
   "source": [
    "# Python frozenset\n",
    "# frozenset in a new class that has the characteristics\n",
    "# of a set, but its elements cannot be chance once assigned\n",
    "# while tuples are immutable lists, frozensets are immutable sets.\n",
    "# initialize A and B\n",
    "myset1 = frozenset([1,2,3,4])\n",
    "myset2 = frozenset([3,4,5,6])\n",
    "print(myset1)\n",
    "print(myset2)\n",
    "print(myset1.difference(myset2))\n",
    "print(myset1.union(myset2))\n",
    "print(myset1.intersection(myset2))\n",
    "print(myset1.symmetric_difference(myset2))\n",
    "#myset1.add(10) frozenset has not add attribute"
   ]
  },
  {
   "cell_type": "markdown",
   "id": "fd2b8cf6-3508-4283-832a-6f3feb430ed5",
   "metadata": {},
   "source": [
    " # Python Module"
   ]
  },
  {
   "cell_type": "code",
   "execution_count": 28,
   "id": "5d63dd0f-504e-4151-a358-91d0e26f6531",
   "metadata": {},
   "outputs": [
    {
     "name": "stdout",
     "output_type": "stream",
     "text": [
      "The value of pi is 3.141592653589793\n"
     ]
    }
   ],
   "source": [
    "# importing module as well renaming it\n",
    "import math as m\n",
    "\n",
    "print(\"The value of pi is\",m.pi)"
   ]
  },
  {
   "cell_type": "code",
   "execution_count": 29,
   "id": "30d7da36-b868-429c-a47c-19f37712f3a9",
   "metadata": {},
   "outputs": [
    {
     "name": "stdout",
     "output_type": "stream",
     "text": [
      "The value of pi is 3.141592653589793\n"
     ]
    }
   ],
   "source": [
    "# Usage of from\n",
    "from math import pi\n",
    "print(\"The value of pi is\",pi)\n",
    "# use directly variable pi"
   ]
  },
  {
   "cell_type": "code",
   "execution_count": 31,
   "id": "46506e43-1ea6-47c1-b492-55266320bb97",
   "metadata": {},
   "outputs": [
    {
     "name": "stdout",
     "output_type": "stream",
     "text": [
      "The value of pi is 3.141592653589793\n"
     ]
    }
   ],
   "source": [
    "# import all names from the standard module math\n",
    "from math import *\n",
    "print(\"The value of pi is\",pi)"
   ]
  },
  {
   "cell_type": "markdown",
   "id": "217562ad-085a-4f58-a675-224ed1864a7d",
   "metadata": {},
   "source": [
    "# Python Directory and File Management"
   ]
  },
  {
   "cell_type": "code",
   "execution_count": 2,
   "id": "8628490a-c824-4e03-8b2b-8ef92c88d978",
   "metadata": {},
   "outputs": [
    {
     "name": "stdout",
     "output_type": "stream",
     "text": [
      "C:\\Users\\Admin\\Documents\\DIT\\PythonCompleteCourse\n",
      "b'C:\\\\Users\\\\Admin\\\\Documents\\\\DIT\\\\PythonCompleteCourse'\n"
     ]
    },
    {
     "name": "stderr",
     "output_type": "stream",
     "text": [
      "C:\\Users\\Admin\\Documents\\DIT\\PythonCompleteCourse\\env\\lib\\site-packages\\ipykernel_launcher.py:4: DeprecationWarning: The Windows bytes API has been deprecated, use Unicode filenames instead\n",
      "  after removing the cwd from sys.path.\n"
     ]
    }
   ],
   "source": [
    "# import module os\n",
    "import os\n",
    "print(os.getcwd())      #Returns the present working directory\n",
    "print(os.getcwdb())      #Returns the present working directory as a byte object"
   ]
  },
  {
   "cell_type": "code",
   "execution_count": 5,
   "id": "c92e6c53-d0f1-4a57-bba4-e6c1ed821f88",
   "metadata": {},
   "outputs": [
    {
     "name": "stdout",
     "output_type": "stream",
     "text": [
      "['.ipynb_checkpoints', 'a.txt', 'b.txt', 'c.txt']\n",
      "C:\\Users\\Admin\\Documents\\DIT\\PythonCompleteCourse\\FileTest\n"
     ]
    }
   ],
   "source": [
    "os.chdir('C:\\\\Users\\\\Admin\\\\Documents\\\\DIT\\\\PythonCompleteCourse\\FileTest')   #use to change directory\n",
    "print(os.listdir())                                                           # All files and sub directories inside a directory\n",
    "                                                                              # can be known using the lisdir() method\n",
    "print(os.getcwd())                                                            #Returns the present working directory"
   ]
  },
  {
   "cell_type": "code",
   "execution_count": 6,
   "id": "78c37d93-d696-4451-848e-436a4ec1901f",
   "metadata": {},
   "outputs": [],
   "source": [
    "# used to make a new directory\n",
    "os.mkdir('test')"
   ]
  },
  {
   "cell_type": "code",
   "execution_count": 7,
   "id": "00320fc5-f356-4db0-a7d6-151b8c3dfc22",
   "metadata": {},
   "outputs": [],
   "source": [
    "# used to rename a directory\n",
    "os.rename('test', 'New_One')"
   ]
  },
  {
   "cell_type": "code",
   "execution_count": 8,
   "id": "66ff33b6-bcb3-4d82-994d-19b177e08a0f",
   "metadata": {},
   "outputs": [],
   "source": [
    "# Removing a file and directory\n",
    "os.remove('a.txt')               # use to remove a file\n",
    "os.rmdir('New_One')                  # use to remove a directory"
   ]
  },
  {
   "cell_type": "code",
   "execution_count": 9,
   "id": "83f9fdfc-d6e0-48e3-abf2-3357dbbd50e5",
   "metadata": {},
   "outputs": [],
   "source": [
    "os.chdir('C:\\\\Users\\\\Admin\\\\Documents\\\\DIT\\\\PythonCompleteCourse')"
   ]
  },
  {
   "cell_type": "code",
   "execution_count": 10,
   "id": "46d49221-54fa-4aed-8a69-c0007169dd0f",
   "metadata": {},
   "outputs": [
    {
     "name": "stdout",
     "output_type": "stream",
     "text": [
      "C:\\Users\\Admin\\Documents\\DIT\\PythonCompleteCourse\n"
     ]
    }
   ],
   "source": [
    "print(os.getcwd())"
   ]
  },
  {
   "cell_type": "markdown",
   "id": "e1836ce4-9e51-4e37-924b-345036ba554d",
   "metadata": {
    "tags": []
   },
   "source": [
    "# Python Dictionary "
   ]
  },
  {
   "cell_type": "code",
   "execution_count": 2,
   "id": "f2d40ed6-4b5d-4d13-a366-5a09dfe153dd",
   "metadata": {},
   "outputs": [
    {
     "name": "stdout",
     "output_type": "stream",
     "text": [
      "{1: 'Hello', 2: 'hi', 3: 'Hola'}\n",
      "Hello\n",
      "Hello\n",
      "{1: 'key', 2: 'hi', 3: 'Hola'}\n",
      "{1: 'key', 2: 'hi', 3: 'Hola', 4: 'Namaste'}\n"
     ]
    }
   ],
   "source": [
    "# Accessing elements from a dictionary 3\n",
    "new_dict = {1 : \"Hello\", 2: \"hi\", 3: \"Hola\"}\n",
    "print(new_dict)\n",
    "print(new_dict[1]) # raise except when key doesn't find\n",
    "print(new_dict.get(1)) # None when key doesn't find\n",
    "\n",
    "\n",
    "# Updating value  \n",
    "new_dict[1] = \"key\"\n",
    "print(new_dict)\n",
    "\n",
    "# Adding value\n",
    "new_dict[4] = \"Namaste\"\n",
    "print(new_dict)"
   ]
  },
  {
   "cell_type": "code",
   "execution_count": 4,
   "id": "3f22de59-40d2-45ce-8e58-2d5bf4ac3697",
   "metadata": {},
   "outputs": [
    {
     "name": "stdout",
     "output_type": "stream",
     "text": [
      "{1: 1, 2: 4, 3: 9, 4: 16, 5: 25}\n",
      "16\n",
      "{1: 1, 2: 4, 3: 9, 5: 25}\n",
      "(5, 25)\n",
      "{1: 1, 2: 4, 3: 9}\n",
      "{2: 4, 3: 9}\n"
     ]
    }
   ],
   "source": [
    "# Creating a new dictionary\n",
    "squares = {1:1, 2:4, 3:9, 4:16, 5:25}\n",
    "print(squares)\n",
    "\n",
    "# remove a particular item\n",
    "print(squares.pop(4)) # return value\n",
    "print(squares)\n",
    "\n",
    "# Remove an arbitrary item\n",
    "print(squares.popitem()) # return key and value\n",
    "print(squares)\n",
    "\n",
    "# Delete a particular item\n",
    "\n",
    "del squares[1]\n",
    "\n",
    "print (squares)"
   ]
  },
  {
   "cell_type": "code",
   "execution_count": 6,
   "id": "88dcb008-a67e-4cd6-b986-81216f77f69c",
   "metadata": {},
   "outputs": [
    {
     "name": "stdout",
     "output_type": "stream",
     "text": [
      "{1: 1, 2: 4, 3: 9, 4: 16, 5: 25}\n",
      "{}\n"
     ]
    },
    {
     "ename": "NameError",
     "evalue": "name 'squares' is not defined",
     "output_type": "error",
     "traceback": [
      "\u001b[1;31m---------------------------------------------------------------------------\u001b[0m",
      "\u001b[1;31mNameError\u001b[0m                                 Traceback (most recent call last)",
      "\u001b[1;32m~\\AppData\\Local\\Temp\\ipykernel_10536\\2099726711.py\u001b[0m in \u001b[0;36m<module>\u001b[1;34m\u001b[0m\n\u001b[0;32m     13\u001b[0m \u001b[1;33m\u001b[0m\u001b[0m\n\u001b[0;32m     14\u001b[0m \u001b[1;31m# Throws Error as the dictionary has been deleted\u001b[0m\u001b[1;33m\u001b[0m\u001b[1;33m\u001b[0m\u001b[1;33m\u001b[0m\u001b[0m\n\u001b[1;32m---> 15\u001b[1;33m \u001b[0mprint\u001b[0m\u001b[1;33m(\u001b[0m\u001b[0msquares\u001b[0m\u001b[1;33m)\u001b[0m\u001b[1;33m\u001b[0m\u001b[1;33m\u001b[0m\u001b[0m\n\u001b[0m",
      "\u001b[1;31mNameError\u001b[0m: name 'squares' is not defined"
     ]
    }
   ],
   "source": [
    "# Creating a new dictionary\n",
    "squares = {1:1, 2:4, 3:9, 4:16, 5:25}\n",
    "print(squares)\n",
    "\n",
    "# remove all items\n",
    "squares.clear()\n",
    "\n",
    "# Output {}\n",
    "print(squares)\n",
    "\n",
    "# delete the dictionary itself\n",
    "del squares\n",
    "\n",
    "# Throws Error as the dictionary has been deleted\n",
    "print(squares)"
   ]
  },
  {
   "cell_type": "code",
   "execution_count": 7,
   "id": "c1a32d00-bd42-48d3-99a4-bed21abd19e7",
   "metadata": {},
   "outputs": [
    {
     "name": "stdout",
     "output_type": "stream",
     "text": [
      "{0: 0, 1: 1, 2: 4, 3: 9, 4: 16, 5: 25}\n",
      "True\n",
      "True\n",
      "False\n"
     ]
    }
   ],
   "source": [
    "# Creating a new dictionary using comprehension (les listes comprehensions)\n",
    "squares = {x : x*x for x in range (6)}\n",
    "print(squares)\n",
    "\n",
    "# Dictionary Membership test (appartenance au dictionnaire)\n",
    "squares = {1:1, 3:9, 5:25, 7:49, 8:81}\n",
    "\n",
    "print(1 in squares)\n",
    "\n",
    "print(2 not in squares)\n",
    "\n",
    "# Membership tests for key only not value\n",
    "print(49 in squares)"
   ]
  },
  {
   "cell_type": "code",
   "execution_count": 8,
   "id": "82e7c776-8766-46e8-b5e4-4e432d832fa5",
   "metadata": {},
   "outputs": [
    {
     "name": "stdout",
     "output_type": "stream",
     "text": [
      "1\n",
      "9\n",
      "25\n",
      "49\n",
      "81\n",
      "5\n",
      "[1, 3, 5, 7, 8]\n"
     ]
    }
   ],
   "source": [
    "# Iterating through Dictionary\n",
    "squares = {1:1, 3:9, 5:25, 7:49, 8:81}\n",
    "for i in squares:\n",
    "    print(squares[i])\n",
    "\n",
    "# Use buit-in functions in a dictionary\n",
    "squares = {1:1, 3:9, 5:25, 7:49, 8:81}\n",
    "\n",
    "print(len(squares)) # Prints the length of the dictionary\n",
    "\n",
    "print(sorted(squares))  # Prints the dictionary in sorted order"
   ]
  },
  {
   "cell_type": "markdown",
   "id": "2115bd67-e0a8-4b30-9a15-65706c098952",
   "metadata": {},
   "source": [
    "# Python String"
   ]
  },
  {
   "cell_type": "code",
   "execution_count": 9,
   "id": "5c9cf1c7-9346-4575-bb11-86db4439281b",
   "metadata": {},
   "outputs": [
    {
     "name": "stdout",
     "output_type": "stream",
     "text": [
      "Welcome\n",
      "Welcome\n",
      "Welcome\n",
      "to the world of Python Programming\n"
     ]
    }
   ],
   "source": [
    "# Different ways to define a string in Python\n",
    "mystr1 = 'Welcome'\n",
    "print(mystr1)\n",
    "\n",
    "mystr2 = \"Welcome\"\n",
    "print(mystr2)\n",
    "\n",
    "mystr3 = '''Welcome'''\n",
    "\n",
    "# Triple quotes string can extend multiple lines\n",
    "mystr3 = \"\"\"Welcome\n",
    "to the world of Python Programming\"\"\"\n",
    "print(mystr3)"
   ]
  },
  {
   "cell_type": "code",
   "execution_count": 13,
   "id": "a7f3968d-61c5-47f1-bde0-418280756690",
   "metadata": {},
   "outputs": [
    {
     "name": "stdout",
     "output_type": "stream",
     "text": [
      "mystr =  language\n",
      "mystr[0] =  l\n",
      "mystr[-1] =  e\n",
      "mystr[1:5] =  angu\n",
      "mystr[5:-2] =  ag\n"
     ]
    }
   ],
   "source": [
    "# Accessing characters in a string\n",
    "mystr = 'language'\n",
    "print('mystr = ',mystr)\n",
    "\n",
    "print('mystr[0] = ',mystr[0])\n",
    "print('mystr[-1] = ',mystr[-1])\n",
    "print('mystr[1:5] = ',mystr[1:5]) # 5 not here\n",
    "print('mystr[5:-2] = ',mystr[5:-1]) # exclusif\n",
    "#print('mystr[10] = ',mystr[10]) # error index out"
   ]
  },
  {
   "cell_type": "code",
   "execution_count": 17,
   "id": "7ac1a5b9-b567-4fe7-a31f-c118cdfd8646",
   "metadata": {},
   "outputs": [
    {
     "name": "stdout",
     "output_type": "stream",
     "text": [
      "language\n",
      "Programming\n"
     ]
    },
    {
     "ename": "TypeError",
     "evalue": "'str' object does not support item assignment",
     "output_type": "error",
     "traceback": [
      "\u001b[1;31m---------------------------------------------------------------------------\u001b[0m",
      "\u001b[1;31mTypeError\u001b[0m                                 Traceback (most recent call last)",
      "\u001b[1;32m~\\AppData\\Local\\Temp\\ipykernel_10536\\3666737656.py\u001b[0m in \u001b[0;36m<module>\u001b[1;34m\u001b[0m\n\u001b[0;32m      7\u001b[0m \u001b[0mprint\u001b[0m\u001b[1;33m(\u001b[0m\u001b[0mmystr\u001b[0m\u001b[1;33m)\u001b[0m\u001b[1;33m\u001b[0m\u001b[1;33m\u001b[0m\u001b[0m\n\u001b[0;32m      8\u001b[0m \u001b[1;33m\u001b[0m\u001b[0m\n\u001b[1;32m----> 9\u001b[1;33m \u001b[0mmystr\u001b[0m\u001b[1;33m[\u001b[0m\u001b[1;36m3\u001b[0m\u001b[1;33m]\u001b[0m \u001b[1;33m=\u001b[0m \u001b[1;34m'x'\u001b[0m\u001b[1;33m\u001b[0m\u001b[1;33m\u001b[0m\u001b[0m\n\u001b[0m",
      "\u001b[1;31mTypeError\u001b[0m: 'str' object does not support item assignment"
     ]
    }
   ],
   "source": [
    "# String are immutable\n",
    "# but different strings can be assigned\n",
    "mystr = 'language'\n",
    "print(mystr)\n",
    "\n",
    "mystr = 'Programming'\n",
    "print(mystr)\n",
    "\n",
    "mystr[3] = 'x'"
   ]
  },
  {
   "cell_type": "code",
   "execution_count": 20,
   "id": "f714ec82-85c3-469f-83c0-83a06bd76871",
   "metadata": {},
   "outputs": [
    {
     "name": "stdout",
     "output_type": "stream",
     "text": [
      "mystr1 + mystr2 =  Welcome to all\n",
      "mystr1 * 3= WelcomeWelcomeWelcome\n"
     ]
    }
   ],
   "source": [
    "# Concatenation of strings\n",
    "mystr1 = 'Welcome'\n",
    "mystr2 = ' to all'\n",
    "\n",
    "#Using +\n",
    "print('mystr1 + mystr2 = ',mystr1+mystr2 )\n",
    "\n",
    "# Using *\n",
    "print('mystr1 * 3=',mystr1*3 )"
   ]
  },
  {
   "cell_type": "code",
   "execution_count": 21,
   "id": "d80c1906-e9da-4fc8-a305-83278d0cb85a",
   "metadata": {},
   "outputs": [
    {
     "name": "stdout",
     "output_type": "stream",
     "text": [
      "3 times l letter has been found\n"
     ]
    }
   ],
   "source": [
    "# iterating through a string\n",
    "letter_count = 0\n",
    "for letters in 'Hello World':\n",
    "    if (letters == 'l'):\n",
    "        letter_count +=1\n",
    "print(letter_count,'times l letter has been found')"
   ]
  },
  {
   "cell_type": "code",
   "execution_count": 24,
   "id": "271361bb-6924-44ee-8722-94354474f822",
   "metadata": {},
   "outputs": [
    {
     "name": "stdout",
     "output_type": "stream",
     "text": [
      "True\n",
      "False\n",
      "False\n",
      "True\n"
     ]
    }
   ],
   "source": [
    "# String Membership\n",
    "print('l' in \"hello\")\n",
    "print('l' not in \"hello\")\n",
    "print('b' in \"hello\")\n",
    "print('b' not in  \"hello\")"
   ]
  },
  {
   "cell_type": "code",
   "execution_count": 29,
   "id": "598bf2f3-754c-4cbc-b5b9-f16069a1d9b7",
   "metadata": {},
   "outputs": [
    {
     "name": "stdout",
     "output_type": "stream",
     "text": [
      "list(enumerate(mystr)  [(0, 'u'), (1, 'n'), (2, 'i'), (3, 'v'), (4, 'e'), (5, 'r'), (6, 's'), (7, 'i'), (8, 't'), (9, 'y')]\n",
      "len(mystr) =  10\n"
     ]
    }
   ],
   "source": [
    "# buil-in functions\n",
    "mystr = 'university'\n",
    "\n",
    "# using enumerate()\n",
    "my_list_enumerate = list(enumerate(mystr))\n",
    "print('list(enumerate(mystr) ',my_list_enumerate)\n",
    "\n",
    "#using character count\n",
    "print('len(mystr) = ', len(mystr))"
   ]
  },
  {
   "cell_type": "code",
   "execution_count": 40,
   "id": "e3d847b3-7fd4-4213-a0b8-7bd5eb2b49d6",
   "metadata": {},
   "outputs": [
    {
     "name": "stdout",
     "output_type": "stream",
     "text": [
      "tell me \"what's your name ?\"\n",
      "tell me \"What's your name?\"\n",
      "tell me 'What's your name?'\n",
      "tell me \"What's your name?\"\n"
     ]
    }
   ],
   "source": [
    "# String formatting using escape sequence*\n",
    "#print(\"tell me \"What's your name ?\"\")\n",
    "\n",
    "# using triple quotes\n",
    "print('''tell me \"what's your name ?\"''')\n",
    "\n",
    "# escaping single quotes\n",
    "print('tell me \"What\\'s your name?\"')\n",
    "\n",
    "# escaping single quotes\n",
    "print(\"tell me 'What\\'s your name?'\")\n",
    "\n",
    "# escaping double quote\n",
    "print(\"tell me \\\"What's your name?\\\"\")"
   ]
  },
  {
   "cell_type": "code",
   "execution_count": 46,
   "id": "29e313a9-6ca5-496c-9a5d-2cf2b19920de",
   "metadata": {},
   "outputs": [
    {
     "name": "stdout",
     "output_type": "stream",
     "text": [
      "c:\\User\\user\\mydata.txt\n",
      "This line is having a new line \n",
      "character\n",
      "This line is having a tab \t character\n",
      "ABC written in ABC (HEX) representation\n"
     ]
    }
   ],
   "source": [
    "print(\"c:\\\\User\\\\user\\\\mydata.txt\")\n",
    "print(\"This line is having a new line \\ncharacter\")\n",
    "print(\"This line is having a tab \\t character\")\n",
    "print(\"ABC written in \\x41\\x42\\x43 (HEX) representation\")"
   ]
  },
  {
   "cell_type": "code",
   "execution_count": 45,
   "id": "a331baca-6859-451e-9442-fed3a59c5a75",
   "metadata": {},
   "outputs": [
    {
     "name": "stdout",
     "output_type": "stream",
     "text": [
      "Today is and Sunday\n",
      "Today is and Sunday\n",
      "Today is and Sunday\n"
     ]
    }
   ],
   "source": [
    "# Format () method \n",
    "# Default (implicit) order\n",
    "default_order = \"{} {} and {}\".format('Today','is','Sunday')\n",
    "print(default_order)\n",
    "\n",
    "# Order using positional argument\n",
    "positional_order = \"{1} {0} and {2}\".format('is','Today','Sunday')\n",
    "print(default_order)\n",
    "\n",
    "# Order using keyword argument\n",
    "keyword_order = \"{t} {i} and {s}\".format(i='is',t='today', s = 'Sunday')\n",
    "print(default_order)"
   ]
  },
  {
   "cell_type": "code",
   "execution_count": 48,
   "id": "d9909b15-aeb5-4efd-877d-4045f91c08ca",
   "metadata": {},
   "outputs": [
    {
     "name": "stdout",
     "output_type": "stream",
     "text": [
      "Required binary representation of 20 is 10100\n",
      "Exponent representation : 1.566345e+03\n",
      "One third is 0.3333333333333333 is 0.333\n"
     ]
    }
   ],
   "source": [
    "# Formatting numbers\n",
    "print(\"Required binary representation of {0} is {0:b}\".format(20))\n",
    "\n",
    "# Formatting floats\n",
    "print(\"Exponent representation : {0:e}\".format(1566.345))\n",
    "\n",
    "\n",
    "# Round off\n",
    "print(\"One third is {0} is {0:.3f}\".format(1/3))"
   ]
  },
  {
   "cell_type": "code",
   "execution_count": 53,
   "id": "4f9a792f-3860-41c1-90b1-3ce514efb617",
   "metadata": {},
   "outputs": [
    {
     "name": "stdout",
     "output_type": "stream",
     "text": [
      "good morning to all\n",
      "GOOD MORNING TO ALL\n",
      "13\n",
      "-1\n",
      "gOOD moRNING tO everybody\n",
      "gOOD moRNING tO aLl\n"
     ]
    }
   ],
   "source": [
    " # String methods \n",
    "print(\"gOOD moRNING tO aLl\".lower())\n",
    "print(\"gOOD moRNING tO aLl\".upper())\n",
    "print(\"gOOD moRNING tO aLl\".find('tO'))\n",
    "print(\"gOOD moRNING tO aLl\".find('to')) # not match\n",
    "print(\"gOOD moRNING tO aLl\".replace('aLl','everybody'))\n",
    "print(\"gOOD moRNING tO aLl\".replace('all','everybody')) # not match"
   ]
  },
  {
   "cell_type": "markdown",
   "id": "17cc95cb-0298-4a1b-9b66-650895491f47",
   "metadata": {},
   "source": [
    "# Datatype Conversion in Python"
   ]
  },
  {
   "cell_type": "code",
   "execution_count": 54,
   "id": "806728a4-d2e4-4256-a868-229da159eeb0",
   "metadata": {},
   "outputs": [
    {
     "name": "stdout",
     "output_type": "stream",
     "text": [
      "datatype of num_int: <class 'int'>\n",
      "datatype of num_flo: <class 'float'>\n",
      "Value of num_new: 124.23\n",
      "datatype of num_new: <class 'float'>\n"
     ]
    }
   ],
   "source": [
    "# Implicit Type conversion\n",
    "num_int = 123\n",
    "num_flo = 1.23\n",
    "\n",
    "num_new = num_int + num_flo\n",
    "\n",
    "print(\"datatype of num_int:\",type(num_int))\n",
    "print(\"datatype of num_flo:\",type(num_flo))\n",
    "\n",
    "print(\"Value of num_new:\",num_new)\n",
    "print(\"datatype of num_new:\",type(num_new))"
   ]
  },
  {
   "cell_type": "code",
   "execution_count": 56,
   "id": "c30c20e1-d8bd-403d-8415-c887578e9d6b",
   "metadata": {},
   "outputs": [
    {
     "name": "stdout",
     "output_type": "stream",
     "text": [
      "Data type of num_int: <class 'int'>\n",
      "Data type of num_str: <class 'str'>\n"
     ]
    },
    {
     "ename": "TypeError",
     "evalue": "unsupported operand type(s) for +: 'int' and 'str'",
     "output_type": "error",
     "traceback": [
      "\u001b[1;31m---------------------------------------------------------------------------\u001b[0m",
      "\u001b[1;31mTypeError\u001b[0m                                 Traceback (most recent call last)",
      "\u001b[1;32m~\\AppData\\Local\\Temp\\ipykernel_10536\\1447606530.py\u001b[0m in \u001b[0;36m<module>\u001b[1;34m\u001b[0m\n\u001b[0;32m      6\u001b[0m \u001b[0mprint\u001b[0m\u001b[1;33m(\u001b[0m\u001b[1;34m\"Data type of num_str:\"\u001b[0m\u001b[1;33m,\u001b[0m\u001b[0mtype\u001b[0m\u001b[1;33m(\u001b[0m\u001b[0mnum_str\u001b[0m\u001b[1;33m)\u001b[0m\u001b[1;33m)\u001b[0m\u001b[1;33m\u001b[0m\u001b[1;33m\u001b[0m\u001b[0m\n\u001b[0;32m      7\u001b[0m \u001b[1;31m# Error : implicit conversiion will not work here\u001b[0m\u001b[1;33m\u001b[0m\u001b[1;33m\u001b[0m\u001b[1;33m\u001b[0m\u001b[0m\n\u001b[1;32m----> 8\u001b[1;33m \u001b[0mprint\u001b[0m\u001b[1;33m(\u001b[0m\u001b[0mnum_int\u001b[0m \u001b[1;33m+\u001b[0m \u001b[0mnum_str\u001b[0m\u001b[1;33m)\u001b[0m\u001b[1;33m\u001b[0m\u001b[1;33m\u001b[0m\u001b[0m\n\u001b[0m",
      "\u001b[1;31mTypeError\u001b[0m: unsupported operand type(s) for +: 'int' and 'str'"
     ]
    }
   ],
   "source": [
    "# Addition of string(higher) data type and integer (lower) datatype\n",
    "num_int = 123\n",
    "num_str = \"456\"\n",
    "\n",
    "print(\"Data type of num_int:\",type(num_int))\n",
    "print(\"Data type of num_str:\",type(num_str))\n",
    "# Error : implicit conversiion will not work here\n",
    "print(num_int + num_str)"
   ]
  },
  {
   "cell_type": "code",
   "execution_count": 58,
   "id": "69d248ae-97f3-4c25-8eac-fd6ddbcd4feb",
   "metadata": {},
   "outputs": [
    {
     "name": "stdout",
     "output_type": "stream",
     "text": [
      "Data type of num_int: <class 'int'>\n",
      "Data type of num_str before Type Casting: <class 'str'>\n",
      "Data type of num_str after Type Casting: <class 'int'>\n",
      "Sum of num_int and num_str: 579\n",
      "Data type of the sum: <class 'int'>\n"
     ]
    }
   ],
   "source": [
    "# Implicit Type conversion\n",
    "num_int = 123\n",
    "num_str = \"456\"\n",
    "\n",
    "print(\"Data type of num_int:\",type(num_int))\n",
    "print(\"Data type of num_str before Type Casting:\",type(num_str))\n",
    "\n",
    "num_str = int(num_str) # convert string to int\n",
    "print(\"Data type of num_str after Type Casting:\",type(num_str))\n",
    "\n",
    "num_sum = num_int + num_str\n",
    "\n",
    "print(\"Sum of num_int and num_str:\",num_sum)\n",
    "\n",
    "print(\"Data type of the sum:\",type(num_sum))"
   ]
  },
  {
   "cell_type": "markdown",
   "id": "8a9b6429-972b-4f4b-9f46-cd4633c31acd",
   "metadata": {},
   "source": [
    "# Type Numbers"
   ]
  },
  {
   "cell_type": "code",
   "execution_count": 1,
   "id": "34748acc-d3a1-446d-8490-e76ee39e6b6e",
   "metadata": {},
   "outputs": [
    {
     "name": "stdout",
     "output_type": "stream",
     "text": [
      "<class 'int'>\n",
      "True\n",
      "False\n",
      "False\n"
     ]
    }
   ],
   "source": [
    "value1 = 100\n",
    "print(type(value1))\n",
    "print(isinstance(value1,int))\n",
    "print(isinstance(value1,float))\n",
    "print(isinstance(value1,complex))"
   ]
  },
  {
   "cell_type": "code",
   "execution_count": 4,
   "id": "206d626e-4b4e-4d36-a2bb-42be4cd3a200",
   "metadata": {},
   "outputs": [
    {
     "name": "stdout",
     "output_type": "stream",
     "text": [
      "<class 'float'>\n",
      "False\n",
      "True\n",
      "False\n"
     ]
    }
   ],
   "source": [
    "value2 = 100.24\n",
    "print(type(value2))\n",
    "print(isinstance(value2,int))\n",
    "print(isinstance(value2,float))\n",
    "print(isinstance(value2,complex))"
   ]
  },
  {
   "cell_type": "code",
   "execution_count": 6,
   "id": "a6229787-e73b-4752-890e-3e3a99af5968",
   "metadata": {},
   "outputs": [
    {
     "name": "stdout",
     "output_type": "stream",
     "text": [
      "<class 'complex'>\n",
      "False\n",
      "False\n",
      "True\n"
     ]
    }
   ],
   "source": [
    "value3 = 50 + 6j\n",
    "print(type(value3))\n",
    "print(isinstance(value3,int))\n",
    "print(isinstance(value3,float))\n",
    "print(isinstance(value3,complex))"
   ]
  },
  {
   "cell_type": "code",
   "execution_count": 7,
   "id": "7aab1b1d-bc9d-40f6-8cb4-f2f8368d9a53",
   "metadata": {},
   "outputs": [
    {
     "name": "stdout",
     "output_type": "stream",
     "text": [
      "13\n",
      "171\n",
      "19\n"
     ]
    }
   ],
   "source": [
    "print(0b1101)\n",
    "print(0xab)\n",
    "print(0o23)"
   ]
  },
  {
   "cell_type": "code",
   "execution_count": 9,
   "id": "3ef57314-2406-4735-9077-d17bf354f53d",
   "metadata": {},
   "outputs": [
    {
     "name": "stdout",
     "output_type": "stream",
     "text": [
      "43.4\n"
     ]
    }
   ],
   "source": [
    "print(10 + 33.4) # implicit convert float"
   ]
  },
  {
   "cell_type": "code",
   "execution_count": 14,
   "id": "0724cbcd-92aa-4241-84f4-ad8e3ad43fae",
   "metadata": {},
   "outputs": [
    {
     "name": "stdout",
     "output_type": "stream",
     "text": [
      "10\n",
      "-20\n",
      "10.0\n"
     ]
    }
   ],
   "source": [
    "# Type conversion\n",
    "print(int(10.5))\n",
    "print(int(-20.99))\n",
    "print(float(10))"
   ]
  },
  {
   "cell_type": "code",
   "execution_count": 18,
   "id": "4dedb1ec-545a-48b8-a415-90e39ac119cd",
   "metadata": {},
   "outputs": [
    {
     "name": "stdout",
     "output_type": "stream",
     "text": [
      "0.30000000000000004\n",
      "3.0\n",
      "0.3\n",
      "3.00\n"
     ]
    }
   ],
   "source": [
    "# Python decimal\n",
    "data1 = 0.1 + 0.2 # error add\n",
    "print(data1)\n",
    "data1 = 1.20 * 2.50\n",
    "print(data1)\n",
    "from decimal import Decimal as D\n",
    "print(D('0.1') + D('0.2'))\n",
    "print(D('1.2')* D('2.5'))"
   ]
  },
  {
   "cell_type": "code",
   "execution_count": 19,
   "id": "cf6a4469-c6af-4294-aecc-41c43c4629bd",
   "metadata": {},
   "outputs": [
    {
     "name": "stdout",
     "output_type": "stream",
     "text": [
      "3/2\n",
      "5\n",
      "1/5\n"
     ]
    }
   ],
   "source": [
    "# Python fraction\n",
    "from fractions import Fraction as F\n",
    "print(F('1.5')) \n",
    "print(F('5')) \n",
    "print(F(1,5)) "
   ]
  },
  {
   "cell_type": "code",
   "execution_count": 21,
   "id": "7ab33b1a-a96b-4ed5-8f6e-ff40fdf7f04e",
   "metadata": {},
   "outputs": [
    {
     "name": "stdout",
     "output_type": "stream",
     "text": [
      "3.141592653589793\n",
      "-0.8390715290764524\n",
      "2.302585092994046\n",
      "1.0\n",
      "22026.465794806718\n",
      "120\n",
      "11013.232874703393\n"
     ]
    }
   ],
   "source": [
    "# Python math module\n",
    "import math\n",
    "print(math.pi) \n",
    "print(math.cos(10)) \n",
    "print(math.log(10)) \n",
    "print(math.log10(10)) \n",
    "print(math.exp(10))\n",
    "print(math.factorial(5)) \n",
    "print(math.sinh(10)) "
   ]
  },
  {
   "cell_type": "code",
   "execution_count": 34,
   "id": "a4f12e8a-fe90-42d5-852b-59e76a9c0bf7",
   "metadata": {},
   "outputs": [
    {
     "name": "stdout",
     "output_type": "stream",
     "text": [
      "Random number --->  9\n",
      "Random number --->  6\n",
      "Random number --->  10\n",
      "Random number --->  5\n",
      "Wed\n",
      "['Sun', 'Mon', 'Tue', 'Wed', 'Thu', 'Fri', 'Sat']\n",
      "['Sun', 'Thu', 'Wed', 'Sat', 'Fri', 'Mon', 'Tue']\n",
      "0.5156018208339357\n"
     ]
    }
   ],
   "source": [
    "# Python random module\n",
    "import random\n",
    "print ('Random number ---> ', random.randrange(5,15)) # start and stop value\n",
    "print ('Random number ---> ', random.randrange(5,15))\n",
    "print ('Random number ---> ', random.randrange(5,15))\n",
    "print ('Random number ---> ', random.randrange(5,15))\n",
    "\n",
    "day = ['Sun','Mon','Tue','Wed','Thu','Fri','Sat']\n",
    "print(random.choice(day))\n",
    "\n",
    "print (day)\n",
    "random.shuffle(day)\n",
    "print(day)\n",
    "\n",
    "# Print random element\n",
    "print(random.random())"
   ]
  },
  {
   "cell_type": "markdown",
   "id": "efb8f2f8-9339-40c3-8a38-0ab88400866d",
   "metadata": {},
   "source": [
    "# Namespace and Scope"
   ]
  },
  {
   "cell_type": "code",
   "execution_count": 6,
   "id": "9e362e13-3be4-44d2-9b10-1e052203c229",
   "metadata": {},
   "outputs": [
    {
     "name": "stdout",
     "output_type": "stream",
     "text": [
      "id(2) =  140709852377376\n",
      "id(2) =  140709852377376\n",
      "id(a) =  140709852377376\n",
      "id(a) =  140709852377408\n",
      "id(3) =  140709852377408\n",
      "id(2) =  140709852377376\n",
      "id(b) =  140709852377376\n"
     ]
    }
   ],
   "source": [
    "# Name (also called identifier) is simply a name given to object\n",
    "# We can get the adress (in Ram) of some object through the built-in function, id()\n",
    "# Note : You may get different walue of id\n",
    "\n",
    "a = 2\n",
    "# Output : id(2) = 10919424\n",
    "print('id(2) = ',id(2))\n",
    "\n",
    "# Output : id(2) = 10919424\n",
    "print('id(2) = ',id(2))\n",
    "\n",
    "a = 2\n",
    "# Output : id(2) = 10919424\n",
    "print('id(a) = ',id(a))\n",
    "\n",
    "a = a+1\n",
    "# Output : id(2) = 10919424\n",
    "print('id(a) = ',id(a))\n",
    "\n",
    "# Output : id(2) = 10919424\n",
    "print('id(3) = ',id(3))\n",
    "\n",
    "b = 2\n",
    "# Output : id(2) = 10919424\n",
    "print('id(2) = ',id(2))\n",
    "print('id(b) = ',id(b))"
   ]
  },
  {
   "cell_type": "code",
   "execution_count": 11,
   "id": "90781110-0985-40b4-a92f-a7327034db1f",
   "metadata": {},
   "outputs": [
    {
     "name": "stdout",
     "output_type": "stream",
     "text": [
      "a =  10\n",
      "a =  30\n",
      "a =  30\n",
      "a =  30\n"
     ]
    }
   ],
   "source": [
    "# Scope\n",
    "\n",
    "def outer_function():\n",
    "    global a\n",
    "    a =20\n",
    "    \n",
    "    def inner_function():\n",
    "        global a\n",
    "        a = 30\n",
    "        print('a = ', a)\n",
    "        \n",
    "    inner_function()\n",
    "    print('a = ', a)\n",
    "\n",
    "a = 10\n",
    "print('a = ', a)\n",
    "outer_function()\n",
    "print('a = ', a)"
   ]
  },
  {
   "cell_type": "markdown",
   "id": "da784842-bf8c-44be-a6e9-b5861cbad49e",
   "metadata": {},
   "source": [
    "# Python Global, Local and Nonlocal Variables"
   ]
  },
  {
   "cell_type": "code",
   "execution_count": 1,
   "id": "9ca0b7da-3dcc-48f1-9247-dde284518566",
   "metadata": {},
   "outputs": [
    {
     "name": "stdout",
     "output_type": "stream",
     "text": [
      "Global x =  global\n",
      "globalglobal\n",
      "local\n",
      "Global x =  globalglobal\n"
     ]
    }
   ],
   "source": [
    "# Global and local variable with different name\n",
    "\n",
    "x = \"global\" # Global variable can be accessed from anywhere\n",
    "\n",
    "def funct1():\n",
    "    global x\n",
    "    y = \"local\"\n",
    "    x = x * 2\n",
    "    print(x)\n",
    "    print(y)\n",
    "\n",
    "print(\"Global x = \",x)\n",
    "funct1()\n",
    "print(\"Global x = \",x)"
   ]
  },
  {
   "cell_type": "code",
   "execution_count": 2,
   "id": "978a1c44-43ee-4c2d-93f0-f64e59d89ff4",
   "metadata": {},
   "outputs": [
    {
     "name": "stdout",
     "output_type": "stream",
     "text": [
      "Global a =  5\n",
      "local a =  10\n",
      "Global a =  5\n"
     ]
    }
   ],
   "source": [
    "# Global and local variable with different name\n",
    "\n",
    "a = 5\n",
    "\n",
    "def funct2():\n",
    "    a=10 #local variable can be accessed from the block where it it defined only\n",
    "    print(\"local a = \",a) \n",
    "\n",
    "print(\"Global a = \",a)\n",
    "funct2()\n",
    "print(\"Global a = \",a)"
   ]
  },
  {
   "cell_type": "code",
   "execution_count": 3,
   "id": "6ed14efe-b5fd-4f85-8942-3b248d5a01e9",
   "metadata": {},
   "outputs": [
    {
     "name": "stdout",
     "output_type": "stream",
     "text": [
      "inner: nonlocal\n",
      "outer: nonlocal\n"
     ]
    }
   ],
   "source": [
    "# Creating and using a Non-local variable\n",
    "\n",
    "def outer():\n",
    "    x = \"local\"\n",
    "    \n",
    "    def inner():\n",
    "        nonlocal x # Nonlocal variable are used in nested function\n",
    "        x = \"nonlocal\"\n",
    "        print(\"inner:\",x)\n",
    "        \n",
    "    inner()\n",
    "    print(\"outer:\",x)\n",
    "    \n",
    "outer()"
   ]
  },
  {
   "cell_type": "markdown",
   "id": "9cd7e085-b7d7-48ff-af41-65395ff8bb9a",
   "metadata": {},
   "source": [
    "# Python Global Keyword"
   ]
  },
  {
   "cell_type": "code",
   "execution_count": 4,
   "id": "5909c12c-4a27-483f-8c66-90f3e6dcb69f",
   "metadata": {},
   "outputs": [
    {
     "name": "stdout",
     "output_type": "stream",
     "text": [
      "Before calling funct2 :  20\n",
      "Calling funct2 now \n",
      "After calling funct2 :  20\n",
      "x is main :  25\n"
     ]
    }
   ],
   "source": [
    "def funct1():\n",
    "    x = 20\n",
    "    \n",
    "    def funct2():\n",
    "        global x # Global keyword is used to modify a global variable\n",
    "        x = 25\n",
    "        \n",
    "    print(\"Before calling funct2 : \", x)\n",
    "    print(\"Calling funct2 now \")\n",
    "    funct2()\n",
    "    print(\"After calling funct2 : \",x)\n",
    "\n",
    "funct1()\n",
    "print(\"x is main : \",x)"
   ]
  },
  {
   "cell_type": "markdown",
   "id": "51074827-0769-49d3-9dec-e2b4627034ee",
   "metadata": {},
   "source": [
    "# Python Iterators "
   ]
  },
  {
   "cell_type": "code",
   "execution_count": 2,
   "id": "4801f530-a5e5-403f-8acb-c01fd999f397",
   "metadata": {},
   "outputs": [
    {
     "name": "stdout",
     "output_type": "stream",
     "text": [
      "44\n",
      "77\n",
      "11\n",
      "33\n"
     ]
    },
    {
     "ename": "StopIteration",
     "evalue": "",
     "output_type": "error",
     "traceback": [
      "\u001b[1;31m---------------------------------------------------------------------------\u001b[0m",
      "\u001b[1;31mStopIteration\u001b[0m                             Traceback (most recent call last)",
      "Input \u001b[1;32mIn [2]\u001b[0m, in \u001b[0;36m<module>\u001b[1;34m\u001b[0m\n\u001b[0;32m     23\u001b[0m \u001b[38;5;28mprint\u001b[39m(our_iter\u001b[38;5;241m.\u001b[39m\u001b[38;5;21m__next__\u001b[39m())\n\u001b[0;32m     25\u001b[0m \u001b[38;5;66;03m## This will raise error, no items left\u001b[39;00m\n\u001b[1;32m---> 26\u001b[0m \u001b[38;5;28;43mnext\u001b[39;49m\u001b[43m(\u001b[49m\u001b[43mour_iter\u001b[49m\u001b[43m)\u001b[49m\n",
      "\u001b[1;31mStopIteration\u001b[0m: "
     ]
    }
   ],
   "source": [
    "# definition a list\n",
    "our_list = [44,77,11,33]\n",
    "\n",
    "# get an iterator using iter() method\n",
    "our_iter = iter(our_list)\n",
    "\n",
    "## iterate through it using next() method\n",
    "\n",
    "## print 44\n",
    "print(next(our_iter))\n",
    "\n",
    "\n",
    "print(next(our_iter))\n",
    "\n",
    "## next(obj) is same as calling obj.__next__() method\n",
    "\n",
    "### iterate through it using next() method\n",
    "\n",
    "## print 11\n",
    "print(our_iter.__next__())\n",
    "\n",
    "## print 33\n",
    "print(our_iter.__next__())\n",
    "\n",
    "## This will raise error, no items left\n",
    "next(our_iter)"
   ]
  },
  {
   "cell_type": "code",
   "execution_count": 6,
   "id": "c37745fa-58ca-42d0-8e62-5bf4ad345237",
   "metadata": {},
   "outputs": [
    {
     "name": "stdout",
     "output_type": "stream",
     "text": [
      " class to implement an \n",
      "    iterator of powers of two \n",
      "1\n",
      "2\n",
      "4\n"
     ]
    }
   ],
   "source": [
    "# create  a custom iterrator\n",
    "\n",
    "class Pow_of_Two:\n",
    "    ''' class to implement an \n",
    "    iterator of powers of two '''\n",
    "   \n",
    "    #constructor with default value max contains 0\n",
    "    def __init__(self, max = 0):\n",
    "        self.max = max\n",
    "  \n",
    "    \n",
    "    def __iter__(self):\n",
    "        self.n = 0\n",
    "        return self\n",
    "    \n",
    "    def __next__(self):\n",
    "        if self.n<= self.max:\n",
    "            result = 2 ** self.n\n",
    "            self.n += 1\n",
    "            return result\n",
    "        else:\n",
    "            raise StopIteration\n",
    "\n",
    "print(Pow_of_Two.__doc__)\n",
    "\n",
    "a = Pow_of_Two(4)\n",
    "\n",
    "i = iter(a)\n",
    "print(next(i))\n",
    "print(i.__next__())\n",
    "#print(next(i))\n",
    "print(next(i))\n",
    "            "
   ]
  },
  {
   "cell_type": "code",
   "execution_count": 9,
   "id": "b7372260-570c-43df-b34d-69eee5d11120",
   "metadata": {},
   "outputs": [
    {
     "name": "stdout",
     "output_type": "stream",
     "text": [
      "1\n",
      "3\n",
      "5\n",
      "7\n",
      "9\n",
      "11\n",
      "13\n",
      "15\n",
      "17\n",
      "19\n",
      "21\n",
      "23\n"
     ]
    }
   ],
   "source": [
    "# creating a infinite custom iterrator\n",
    "\n",
    "class Infinite_Iter:\n",
    "    \"\"\" Infinite iterator to return all \n",
    "    odd numbers\"\"\"\n",
    "    \n",
    "    def __iter__(self):\n",
    "        self.num = 1\n",
    "        return self\n",
    "    \n",
    "    def __next__(self):\n",
    "        num = self.num\n",
    "        self.num +=2\n",
    "        return num\n",
    "\n",
    "i = Infinite_Iter()\n",
    "a = iter(i)\n",
    "print(next(a))\n",
    "print(next(a))\n",
    "print(next(a))\n",
    "print(next(a))\n",
    "print(next(a))\n",
    "print(next(a))\n",
    "print(next(a))\n",
    "print(next(a))\n",
    "print(next(a))\n",
    "print(next(a))\n",
    "print(next(a))\n",
    "print(next(a))"
   ]
  },
  {
   "cell_type": "markdown",
   "id": "388075d3-143f-4297-b531-af904444e60b",
   "metadata": {},
   "source": [
    "# Python iterations using for"
   ]
  },
  {
   "cell_type": "code",
   "execution_count": 10,
   "id": "7b69aaa9-6e74-4d86-bfef-c912e87d6a38",
   "metadata": {},
   "outputs": [
    {
     "name": "stdout",
     "output_type": "stream",
     "text": [
      "1\n",
      "2\n",
      "3\n",
      "4\n",
      "5\n"
     ]
    }
   ],
   "source": [
    "# printing all the elements present in a set\n",
    "a = [1,2,3,4,5]\n",
    "for i in a:\n",
    "    print(i)"
   ]
  },
  {
   "cell_type": "code",
   "execution_count": 11,
   "id": "233caed3-dc69-4b79-8eff-ecc648d4fa6d",
   "metadata": {},
   "outputs": [
    {
     "name": "stdout",
     "output_type": "stream",
     "text": [
      "6\n",
      "7\n",
      "8\n",
      "9\n",
      "10\n"
     ]
    }
   ],
   "source": [
    "# Using range in for loop\n",
    "for i in range(6,11):\n",
    "    print(i)"
   ]
  },
  {
   "cell_type": "code",
   "execution_count": 12,
   "id": "191791c1-c258-400e-92a1-52487326e14b",
   "metadata": {},
   "outputs": [
    {
     "name": "stdout",
     "output_type": "stream",
     "text": [
      "11\n",
      "12\n",
      "13\n",
      "14\n",
      "15\n",
      "Printing Completed\n"
     ]
    }
   ],
   "source": [
    "# Using for loop for printing the values present in the \n",
    "# tuple and using the else command in the for loop\n",
    "b = (11,12,13,14,15)\n",
    "for i in b:\n",
    "    print(i)\n",
    "else:\n",
    "    print(\"Printing Completed\")"
   ]
  },
  {
   "cell_type": "markdown",
   "id": "22def970-b694-474a-9985-f9f3e7221345",
   "metadata": {},
   "source": [
    "# Python Hybrid"
   ]
  },
  {
   "cell_type": "code",
   "execution_count": 1,
   "id": "e9b4c70e-dfed-4144-9770-55fa13845061",
   "metadata": {},
   "outputs": [],
   "source": [
    "# Creating Class and Object in Python\n",
    "class myBird:\n",
    "    \n",
    "    def __init__(self):\n",
    "        print(\"myBird class constructor is executing...\")\n",
    "    \n",
    "    def whatType(self):\n",
    "        print(\"I am a Bird...\")\n",
    "    \n",
    "    def canSwim(self):\n",
    "        print(\"I can swim...\")"
   ]
  },
  {
   "cell_type": "code",
   "execution_count": 8,
   "id": "05dc8c28-cb67-4ac1-acf8-57daaf822580",
   "metadata": {},
   "outputs": [],
   "source": [
    "# MyPenguin Class inheriting the attributes from the myBird class\n",
    "# extends,   {} ()\n",
    "class MyPenguin(myBird):\n",
    "    \n",
    "    def __init__(self):\n",
    "            # call super()\n",
    "            super().__init__()\n",
    "            print(\"MyPenguin class constructor is executing...\")\n",
    "        \n",
    "    def whoisThis(self):\n",
    "        print(\"I am a Penguin...\")\n",
    "    \n",
    "    def canRun(self):\n",
    "        print(\"I can run faster...\")\n",
    "          \n",
    "    "
   ]
  },
  {
   "cell_type": "code",
   "execution_count": 9,
   "id": "8240e1d7-f4ee-431e-b488-80573d9d0a3f",
   "metadata": {},
   "outputs": [
    {
     "name": "stdout",
     "output_type": "stream",
     "text": [
      "myBird class constructor is executing...\n",
      "MyPenguin class constructor is executing...\n",
      "I am a Bird...\n",
      "I am a Penguin...\n",
      "I can swim...\n",
      "I can run faster...\n"
     ]
    }
   ],
   "source": [
    "# Accesing the child class's attributes (Inheritance)\n",
    "pg1 = MyPenguin()\n",
    "pg1.whatType() # defined in myBird class\n",
    "pg1.whoisThis() # defined in myPenguin class\n",
    "pg1.canSwim() # defined in myBird class\n",
    "pg1.canRun() # defined in myPenguin class"
   ]
  },
  {
   "cell_type": "code",
   "execution_count": 14,
   "id": "bacb324e-d33d-4503-98d5-f4302b268c30",
   "metadata": {},
   "outputs": [],
   "source": [
    "# Polymorphism\n",
    "class MyParrot:\n",
    "    \n",
    "    def canFly(self):\n",
    "        print(\"Parrot can fly...\")\n",
    "    \n",
    "    def canSwim(self):\n",
    "        print(\"Parrot can't swim...\")"
   ]
  },
  {
   "cell_type": "code",
   "execution_count": 13,
   "id": "d77afdb4-3152-4ed6-812c-400e32d38f9d",
   "metadata": {},
   "outputs": [],
   "source": [
    "class MyPenguin:\n",
    "    \n",
    "    def canFly(self):\n",
    "        print(\"Penguin can't fly...\")\n",
    "    \n",
    "    def canSwim(self):\n",
    "        print(\"Penguin can swim...\")"
   ]
  },
  {
   "cell_type": "code",
   "execution_count": 15,
   "id": "dbfc2a71-8b64-452a-a562-bb139f6f57ee",
   "metadata": {},
   "outputs": [],
   "source": [
    "# common interface\n",
    "def flying_bird_test(bird):\n",
    "    bird.canFly()\n",
    "    bird.canSwim()"
   ]
  },
  {
   "cell_type": "code",
   "execution_count": 18,
   "id": "c673cfa0-0534-4a5c-9d0b-c67f264a8c66",
   "metadata": {},
   "outputs": [
    {
     "name": "stdout",
     "output_type": "stream",
     "text": [
      "Parrot can fly...\n",
      "Parrot can't swim...\n",
      "\n",
      "Penguin can't fly...\n",
      "Penguin can swim...\n"
     ]
    }
   ],
   "source": [
    "# instantiate objects\n",
    "bird_parrot = MyParrot()\n",
    "bird_penguin = MyPenguin()\n",
    "\n",
    "# passing the object\n",
    "flying_bird_test(bird_parrot)\n",
    "print()\n",
    "flying_bird_test(bird_penguin)"
   ]
  },
  {
   "cell_type": "code",
   "execution_count": 20,
   "id": "1f071b88-26d7-41b7-b9b7-ab11977b8e23",
   "metadata": {},
   "outputs": [],
   "source": [
    "# Multiple inheritance\n",
    "\n",
    "class Base1:\n",
    "    pass\n",
    "\n",
    "class Base2:\n",
    "    pass\n",
    "\n",
    "class MultiDerived(Base1,Base2):\n",
    "    pass"
   ]
  },
  {
   "cell_type": "code",
   "execution_count": 22,
   "id": "ad2fe8ed-001d-424a-96ca-9dc9400b97f7",
   "metadata": {},
   "outputs": [],
   "source": [
    "# Multiple inheritance\n",
    "\n",
    "class Base1:\n",
    "    def funcBase1(self):\n",
    "        print(\"funcBase1() is executing...\")\n",
    "\n",
    "class Base2:\n",
    "    def funcBase2(self):\n",
    "        print(\"funcBase2() is executing...\")\n",
    "\n",
    "class Base3:\n",
    "    def funcBase3(self):\n",
    "        print(\"funcBase3() is executing...\")\n",
    "\n",
    "\n",
    "class MultiDerived(Base1,Base2,Base3):\n",
    "    def funcMultiDerived(self):\n",
    "        print(\"funcMultiDerived() is executing...\")"
   ]
  },
  {
   "cell_type": "code",
   "execution_count": 23,
   "id": "93a485b3-c58b-428d-84f9-c6f552f50891",
   "metadata": {},
   "outputs": [
    {
     "name": "stdout",
     "output_type": "stream",
     "text": [
      "funcBase1() is executing...\n",
      "funcBase2() is executing...\n",
      "funcBase3() is executing...\n",
      "funcMultiDerived() is executing...\n"
     ]
    }
   ],
   "source": [
    "md1 =MultiDerived()\n",
    "md1.funcBase1()\n",
    "md1.funcBase2()\n",
    "md1.funcBase3()\n",
    "md1.funcMultiDerived()"
   ]
  },
  {
   "cell_type": "markdown",
   "id": "71d71f95",
   "metadata": {},
   "source": [
    "# Python Function Arguments"
   ]
  },
  {
   "cell_type": "code",
   "execution_count": 4,
   "id": "1fe84dfa-f658-4c3e-a6db-edcaf282fc9a",
   "metadata": {},
   "outputs": [
    {
     "name": "stdout",
     "output_type": "stream",
     "text": [
      "Max number between 100 and 20 is  100\n"
     ]
    }
   ],
   "source": [
    "def findMax(a,b):   # function taking arguments and returning a value\n",
    "    if a>b:\n",
    "        return a\n",
    "    else:\n",
    "        return b\n",
    "\n",
    "print(\"Max number between 100 and 20 is \",findMax(100,20))"
   ]
  },
  {
   "cell_type": "code",
   "execution_count": 6,
   "id": "0a45691e",
   "metadata": {},
   "outputs": [
    {
     "name": "stdout",
     "output_type": "stream",
     "text": [
      "Hello  Agnibha , have a nice day\n",
      "Hello  Agnibha ,  how are you ?\n"
     ]
    }
   ],
   "source": [
    "def hello(name,msg=\",  how are you ?\"): # Function with default parameter\n",
    "    print(\"Hello \",name,msg)\n",
    "\n",
    "\n",
    "hello(\"Agnibha\",\", have a nice day\")\n",
    "hello(\"Agnibha\")\n"
   ]
  },
  {
   "cell_type": "code",
   "execution_count": 7,
   "id": "0ea23144",
   "metadata": {},
   "outputs": [
    {
     "name": "stdout",
     "output_type": "stream",
     "text": [
      "Sum of all the integers between 1-5 is  15\n"
     ]
    }
   ],
   "source": [
    "def sumAll(*args): # Function with arbitray arguments\n",
    "    sum = 0\n",
    "    for i in args:\n",
    "        sum+=i\n",
    "    return sum\n",
    "\n",
    "print(\"Sum of all the integers between 1-5 is \", sumAll(1,2,3,4,5))"
   ]
  },
  {
   "cell_type": "code",
   "execution_count": 10,
   "id": "0c8e0078",
   "metadata": {},
   "outputs": [
    {
     "name": "stdout",
     "output_type": "stream",
     "text": [
      "a = 10, b = 20, c= 30...\n",
      "a = 10, b = 20, c= 500...\n"
     ]
    }
   ],
   "source": [
    "def defaultArg(a,b,c): # default argument\n",
    "    print(\"a = {}, b = {}, c= {}...\".format(a,b,c))\n",
    "\n",
    "defaultArg(10,20,30)\n"
   ]
  },
  {
   "cell_type": "code",
   "execution_count": 11,
   "id": "5f6fca59",
   "metadata": {},
   "outputs": [
    {
     "name": "stdout",
     "output_type": "stream",
     "text": [
      "a = 10, b = 20, c= 30...\n",
      "a = 10, b = 20, c= 500...\n"
     ]
    }
   ],
   "source": [
    "def defaultArg(a,b,c = 500): # default argument\n",
    "    print(\"a = {}, b = {}, c= {}...\".format(a,b,c))\n",
    "\n",
    "defaultArg(10,20,30)\n",
    "\n",
    "defaultArg(10,20) # error missing 1 required positional argument: 'c' add default parameter"
   ]
  },
  {
   "cell_type": "code",
   "execution_count": 12,
   "id": "b1a1ecef",
   "metadata": {},
   "outputs": [
    {
     "name": "stdout",
     "output_type": "stream",
     "text": [
      "a = 10, b = 20, c= 30...\n",
      "a = 10, b = 20, c= 500...\n",
      "a = 10, b = 200, c= 500...\n"
     ]
    }
   ],
   "source": [
    "def defaultArg(a,b=200,c = 500): # default argument\n",
    "    print(\"a = {}, b = {}, c= {}...\".format(a,b,c))\n",
    "\n",
    "defaultArg(10,20,30)\n",
    "\n",
    "defaultArg(10) # error missing 1 required positional argument: 'b' add default parameter"
   ]
  },
  {
   "cell_type": "code",
   "execution_count": 13,
   "id": "4fdaf3fd",
   "metadata": {},
   "outputs": [
    {
     "name": "stdout",
     "output_type": "stream",
     "text": [
      "a = 10, b = 20, c= 30...\n",
      "a = 10, b = 20, c= 500...\n",
      "a = 10, b = 200, c= 500...\n",
      "a = 2, b = 200, c= 500...\n"
     ]
    }
   ],
   "source": [
    "def defaultArg(a=2,b=200,c = 500): # default argument\n",
    "    print(\"a = {}, b = {}, c= {}...\".format(a,b,c))\n",
    "\n",
    "defaultArg(10,20,30)\n",
    "\n",
    "defaultArg() # error missing 1 required positional argument: 'a' add default parameter"
   ]
  },
  {
   "cell_type": "code",
   "execution_count": 15,
   "id": "78e48c24",
   "metadata": {},
   "outputs": [
    {
     "name": "stdout",
     "output_type": "stream",
     "text": [
      "a = 10, b = 20, c= 30...\n",
      "a = 111, b = 200, c= 50...\n"
     ]
    }
   ],
   "source": [
    "def defaultArg(a=2,b=200,c = 500): # default argument\n",
    "    print(\"a = {}, b = {}, c= {}...\".format(a,b,c))\n",
    "\n",
    "defaultArg(10,20,30)\n",
    "\n",
    "\n",
    "defaultArg(c=50, b=200, a=111 ) # if you precise argument you can unorder different value"
   ]
  },
  {
   "cell_type": "code",
   "execution_count": 16,
   "id": "1d2fada2",
   "metadata": {},
   "outputs": [
    {
     "name": "stdout",
     "output_type": "stream",
     "text": [
      "a = 10, b = 20, c= 30...\n",
      "a = 2, b = 200, c= 50...\n"
     ]
    }
   ],
   "source": [
    "def defaultArg(a=2,b=200,c = 500): # default argument\n",
    "    print(\"a = {}, b = {}, c= {}...\".format(a,b,c))\n",
    "\n",
    "defaultArg(10,20,30)\n",
    "\n",
    "\n",
    "defaultArg(c=50, b=200 ) #  we have default value so you can ommet some parameters"
   ]
  },
  {
   "cell_type": "markdown",
   "id": "68da0179",
   "metadata": {},
   "source": [
    "# Python Functions"
   ]
  },
  {
   "cell_type": "code",
   "execution_count": 21,
   "id": "c44f158c",
   "metadata": {},
   "outputs": [
    {
     "name": "stdout",
     "output_type": "stream",
     "text": [
      "Hello! I love to code in Python\n",
      "Hello! I love to code in Python\n",
      "\n",
      "    this is a\n",
      "    multiline\n",
      "    text\n",
      "    \n"
     ]
    }
   ],
   "source": [
    "def hello1(): # Function without a return statement\n",
    "    print(\"Hello! I love to code in Python\")\n",
    "\n",
    "def hello2(): # Function with a return statement\n",
    "    '''\n",
    "    this is a\n",
    "    multiline\n",
    "    text\n",
    "    '''\n",
    "    return \"Hello! I love to code in Python\"\n",
    "    # Return commands returns back the contrrol to the caller\n",
    "    # Mainly used to return a value to the caller of the function\n",
    "\n",
    "hello1()\n",
    "print(hello2())\n",
    "print(hello2.__doc__)\n"
   ]
  },
  {
   "cell_type": "code",
   "execution_count": 22,
   "id": "0c192b6c",
   "metadata": {},
   "outputs": [
    {
     "name": "stdout",
     "output_type": "stream",
     "text": [
      "Main Menu...\n",
      "1 > Addition operation...\n",
      "2 > Subtraction operation...\n",
      "3 > Multiplication operation...\n",
      "4 > Division operation...\n",
      "Performing the addition operation...\n",
      "So result =   9\n"
     ]
    }
   ],
   "source": [
    " # one task = one function\n",
    "def myAddition(x,y):\n",
    "    print(\"Performing the addition operation...\")\n",
    "    return(x+y)\n",
    "\n",
    "def mySubtraction(x,y):\n",
    "    print(\"Performing the subtraction operation...\")\n",
    "    return(x-y)\n",
    "\n",
    "def myMultiplication(x,y):\n",
    "    print(\"Performing the multiplication operation...\")\n",
    "    return(x+y)\n",
    "\n",
    "def myDivision(x,y):\n",
    "    print(\"Performing the division operation...\")\n",
    "    return(x/y)\n",
    "\n",
    "def myMenu():\n",
    "    print(\"Main Menu...\")\n",
    "    print(\"1 > Addition operation...\")\n",
    "    print(\"2 > Subtraction operation...\")\n",
    "    print(\"3 > Multiplication operation...\")\n",
    "    print(\"4 > Division operation...\")\n",
    "    ch = int(input(\"Please enter your option number...\"))\n",
    "    return ch\n",
    "\n",
    "def calculation():\n",
    "    ch = myMenu()\n",
    "    num1 = int(input(\"Please enter the first number...\"))\n",
    "    num2 = int(input(\"Please enter the second number...\"))\n",
    "    if ch == 1:\n",
    "        result = myAddition(num1,num2)\n",
    "    elif ch == 2:\n",
    "        result = mySubtraction(num1,num2)\n",
    "    elif ch == 3:\n",
    "        result = myMultiplication(num1,num2)\n",
    "    elif ch == 4 : \n",
    "         result = myDivision(num1,num2)\n",
    "    print(\"So result =  \",result)\n",
    "\n",
    "calculation()"
   ]
  },
  {
   "cell_type": "markdown",
   "id": "5b585805",
   "metadata": {},
   "source": [
    "# Python Break Statement"
   ]
  },
  {
   "cell_type": "code",
   "execution_count": 2,
   "id": "29feb2d1",
   "metadata": {},
   "outputs": [
    {
     "name": "stdout",
     "output_type": "stream",
     "text": [
      "Number to be guessed :  12\n",
      "Number Guessed :  1\n",
      "Number Guessed :  2\n",
      "Number Guessed :  3\n",
      "Number Guessed :  4\n",
      "Number Guessed :  5\n",
      "Number Guessed :  6\n",
      "Number Guessed :  7\n",
      "Number Guessed :  8\n",
      "Number Guessed :  9\n",
      "Number Guessed :  10\n",
      "Number Guessed :  11\n",
      "Number Guessed :  12\n",
      "Random Number has been guessed successfully!\n",
      "End of the program...\n"
     ]
    }
   ],
   "source": [
    "import random as r\n",
    "rand_numb = r.randrange(1,20) # Generating a random number between 1 and 19 inclusif\n",
    "print(\"Number to be guessed : \",rand_numb)\n",
    "i = 1\n",
    "while True:\n",
    "    print(\"Number Guessed : \",i)\n",
    "    if (i == rand_numb): # if the number guessed is correct the this block will be executed\n",
    "        print(\"Random Number has been guessed successfully!\")\n",
    "        break # Break statements stops and exits from the loop\n",
    "    i += 1\n",
    "\n",
    "print(\"End of the program...\")"
   ]
  },
  {
   "cell_type": "markdown",
   "id": "8084a0e2",
   "metadata": {},
   "source": [
    "# Python Continue Statement"
   ]
  },
  {
   "cell_type": "code",
   "execution_count": 1,
   "id": "330beae3",
   "metadata": {},
   "outputs": [
    {
     "name": "stdout",
     "output_type": "stream",
     "text": [
      "2\n",
      "4\n",
      "6\n",
      "8\n",
      "10\n",
      "12\n",
      "14\n",
      "16\n",
      "18\n"
     ]
    }
   ],
   "source": [
    "# Program to print only the even numbers between 1 and 19 using continue\n",
    "\n",
    "for i in range(1,20):\n",
    "    if(i%2!=0):\n",
    "        continue  # Current iteration gets continued\n",
    "    print(i)"
   ]
  },
  {
   "cell_type": "markdown",
   "id": "88da3579",
   "metadata": {},
   "source": [
    "# Python Errors and Exceptions"
   ]
  },
  {
   "cell_type": "code",
   "execution_count": 6,
   "id": "fa7501ff",
   "metadata": {},
   "outputs": [
    {
     "name": "stdout",
     "output_type": "stream",
     "text": [
      "I am here...\n",
      "Exception caught\n"
     ]
    }
   ],
   "source": [
    "try:\n",
    "    \"\"\"\n",
    "    The code which can give rise to an exception is written here.\n",
    "    \"\"\"\n",
    "    a = \"hi\"\n",
    "    b = int(a)\n",
    "    print(\"I am here...\")\n",
    "    \n",
    "except:\n",
    "    print(\"Exception caught\")"
   ]
  },
  {
   "cell_type": "code",
   "execution_count": 7,
   "id": "37406e0a",
   "metadata": {},
   "outputs": [
    {
     "name": "stdout",
     "output_type": "stream",
     "text": [
      "Division by zero is not possible\n"
     ]
    }
   ],
   "source": [
    "# Catching specific exception\n",
    "try:\n",
    "    a = 5 \n",
    "    b = 0\n",
    "    c = a/b\n",
    "except ZeroDivisionError:\n",
    "    print(\"Division by zero is not possible\")"
   ]
  },
  {
   "cell_type": "code",
   "execution_count": 8,
   "id": "4417e2fb",
   "metadata": {},
   "outputs": [
    {
     "name": "stdout",
     "output_type": "stream",
     "text": [
      "TypeError Exception caught\n"
     ]
    }
   ],
   "source": [
    "# Exception can be raised also\n",
    "try:\n",
    "    raise TypeError\n",
    "except TypeError:\n",
    "    print(\"TypeError Exception caught\")"
   ]
  },
  {
   "cell_type": "code",
   "execution_count": 10,
   "id": "0015fea1",
   "metadata": {},
   "outputs": [
    {
     "name": "stdout",
     "output_type": "stream",
     "text": [
      "In try block\n",
      "In except block\n",
      "In the finally block\n"
     ]
    }
   ],
   "source": [
    "# try .. finally \n",
    "try:\n",
    "    print(\"In try block\")\n",
    "    raise TypeError\n",
    "except:\n",
    "    print(\"In except block\")\n",
    "finally:\n",
    "    print(\"In the finally block\") # excute any or not errors"
   ]
  },
  {
   "cell_type": "markdown",
   "id": "ca415755",
   "metadata": {},
   "source": [
    "# Python Exceptions try except finally"
   ]
  },
  {
   "cell_type": "code",
   "execution_count": 12,
   "id": "52cdda85",
   "metadata": {},
   "outputs": [
    {
     "name": "stdout",
     "output_type": "stream",
     "text": [
      "Division by zero is not possible\n"
     ]
    }
   ],
   "source": [
    "# Catching specific exception\n",
    "try:\n",
    "    a = int(input(\"Please enter the first number...\"))\n",
    "    b = int(input(\"Please enter the second number...\"))\n",
    "    c = a/b\n",
    "    print(\"{} / {}\".format(a,b,c))\n",
    "except ZeroDivisionError:\n",
    "    print(\"Division by zero is not possible\")"
   ]
  },
  {
   "cell_type": "code",
   "execution_count": 15,
   "id": "1ba08fa2",
   "metadata": {},
   "outputs": [
    {
     "name": "stdout",
     "output_type": "stream",
     "text": [
      "The data types are not proper\n"
     ]
    }
   ],
   "source": [
    "# Catching multiple specific exception\n",
    "try:\n",
    "    a = int(input(\"Please enter the first number...\"))\n",
    "    b = int(input(\"Please enter the second number...\"))\n",
    "    c = a/b\n",
    "    print(\"{} / {}\".format(a,b,c))\n",
    "except ZeroDivisionError:\n",
    "    print(\"Division by zero is not possible\")\n",
    "except ValueError:\n",
    "    print(\"The data types are not proper\")"
   ]
  },
  {
   "cell_type": "code",
   "execution_count": 16,
   "id": "55470dbe",
   "metadata": {},
   "outputs": [
    {
     "name": "stdout",
     "output_type": "stream",
     "text": [
      "The data is not range\n"
     ]
    }
   ],
   "source": [
    "# Catching multiple specific exception\n",
    "try:\n",
    "    a = int(input(\"Please enter the first number...\"))\n",
    "    b = int(input(\"Please enter the second number...\"))\n",
    "    if (a<0):\n",
    "        raise TypeError\n",
    "    c = a/b\n",
    "    print(\"{} / {}\".format(a,b,c))\n",
    "except ZeroDivisionError:\n",
    "    print(\"Division by zero is not possible\")\n",
    "except ValueError:\n",
    "    print(\"The data types are not proper\")\n",
    "except TypeError:\n",
    "    print(\"The data is not range\")"
   ]
  },
  {
   "cell_type": "code",
   "execution_count": 18,
   "id": "205e5828",
   "metadata": {},
   "outputs": [
    {
     "name": "stdout",
     "output_type": "stream",
     "text": [
      "The data items are not defined\n"
     ]
    }
   ],
   "source": [
    "# Catching multiple specific exception\n",
    "try:\n",
    "    a = int(input(\"Please enter the first number...\"))\n",
    "    b = int(input(\"Please enter the second number...\"))\n",
    "    if (a<0):\n",
    "        raise TypeError\n",
    "    c = y/z\n",
    "    print(\"{} / {}\".format(a,b,c))\n",
    "except ZeroDivisionError:\n",
    "    print(\"Division by zero is not possible\")\n",
    "except ValueError:\n",
    "    print(\"The data types are not proper\")\n",
    "except TypeError:\n",
    "    print(\"The data is not range\")\n",
    "except NameError:\n",
    "    print(\"The data items are not defined\")"
   ]
  },
  {
   "cell_type": "markdown",
   "id": "4d9e4da4",
   "metadata": {},
   "source": [
    "# Python User Defined Exception"
   ]
  },
  {
   "cell_type": "code",
   "execution_count": 7,
   "id": "8e16b074",
   "metadata": {},
   "outputs": [
    {
     "name": "stdout",
     "output_type": "stream",
     "text": [
      "Age is 21\n",
      "Age is not numeric\n",
      "End of the program\n"
     ]
    }
   ],
   "source": [
    "class VotersElligibility(Exception):\n",
    "    def __init__(self):\n",
    "        super()\n",
    "\n",
    "try:\n",
    "    age = \"21\"\n",
    "    print(\"Age is \"+str(age))\n",
    "    if age<18:\n",
    "        raise VotersElligibility\n",
    "except VotersElligibility:\n",
    "    print(\"Age is less than 18\")\n",
    "except TypeError:\n",
    "    print(\"Age is not numeric\")\n",
    "else:\n",
    "    print(\"Age is greater than or equal to 18\")\n",
    "finally:\n",
    "    print(\"End of the program\")"
   ]
  },
  {
   "cell_type": "markdown",
   "id": "9801e96b-cd33-428b-a1be-a6af2bfa9e28",
   "metadata": {
    "tags": []
   },
   "source": [
    "# Python OOP Approach"
   ]
  },
  {
   "cell_type": "code",
   "execution_count": 24,
   "id": "296808ee-e8c9-4ea5-8565-835651aa522e",
   "metadata": {
    "tags": []
   },
   "outputs": [],
   "source": [
    "# Creating Class and Object in Python\n",
    "\n",
    "class myBird:\n",
    "    \n",
    "    def __init__(self): # constructor, self object reference\n",
    "        print(\"myBirth class constructor is executing...\")\n",
    "        \n",
    "    def whatType(self):\n",
    "        print(\"I am a Bird...\")\n",
    "            \n",
    "    def canSwim(self):\n",
    "        print(\"I can Swim\")"
   ]
  },
  {
   "cell_type": "code",
   "execution_count": 25,
   "id": "348d9136-f049-441e-b144-027c9c7cba53",
   "metadata": {
    "tags": []
   },
   "outputs": [],
   "source": [
    "class myParrot:\n",
    "    #class attribute\n",
    "    species = \"bird\"\n",
    "    \n",
    "    #instance attribue\n",
    "    def __init__(self,name,age): \n",
    "        print(\"myParrot class constructor is executing...\")\n",
    "        self.name = name\n",
    "        self.age = age\n",
    "        \n",
    "    def canSing(self,thisSong):\n",
    "        return \"{} can sing {}...\".format(self.name,thisSong)"
   ]
  },
  {
   "cell_type": "code",
   "execution_count": 26,
   "id": "6b494b99-0b27-4f14-b861-7575f80cf23f",
   "metadata": {
    "tags": []
   },
   "outputs": [],
   "source": [
    "# myPenguin class inheriting the attributes from the myBird class\n",
    "class myPenguin(myBird):\n",
    "    \n",
    "    def __init__(self):  # _ means private, __ means strictly private no access drom outside of the class\n",
    "        # call super() function\n",
    "        super().__init__()\n",
    "        print(\"myPenguin is ready...\")\n",
    "    \n",
    "    def whoisThis(self):\n",
    "        print(\"I am Penguin\")\n",
    "    \n",
    "    def canRun(self):\n",
    "        print(\"I can run faster\")"
   ]
  },
  {
   "cell_type": "code",
   "execution_count": 27,
   "id": "384692ca-6114-4eb9-a237-1ed3f964f277",
   "metadata": {
    "tags": []
   },
   "outputs": [
    {
     "name": "stdout",
     "output_type": "stream",
     "text": [
      "myParrot class constructor is executing...\n",
      "myParrot class constructor is executing...\n"
     ]
    }
   ],
   "source": [
    "# instance the parrot class = object in the class\n",
    "mp1 = myParrot(\"myParrot1\",10)\n",
    "mp2 = myParrot(\"myParrot2\",15)"
   ]
  },
  {
   "cell_type": "code",
   "execution_count": 28,
   "id": "168a51c7-6deb-4ccd-a367-41abeb433e5e",
   "metadata": {
    "tags": []
   },
   "outputs": [
    {
     "name": "stdout",
     "output_type": "stream",
     "text": [
      "MP1 is a bird\n",
      "MP2 is a bird\n"
     ]
    }
   ],
   "source": [
    "# access the class attributes\n",
    "print(\"MP1 is a {}\".format(mp1.__class__.species))\n",
    "print(\"MP2 is a {}\".format(mp2.__class__.species))"
   ]
  },
  {
   "cell_type": "code",
   "execution_count": 29,
   "id": "b52eb9c3-750c-47ea-985a-3492b4fd9180",
   "metadata": {
    "tags": []
   },
   "outputs": [
    {
     "name": "stdout",
     "output_type": "stream",
     "text": [
      "myParrot1 is 10 years of age\n",
      "myParrot2 is 15 years of age\n",
      "myParrot1 can sing Chirp...\n"
     ]
    }
   ],
   "source": [
    "# access the instance attributes\n",
    "print(\"{} is {} years of age\".format(mp1.name,mp1.age))\n",
    "print(\"{} is {} years of age\".format(mp2.name,mp2.age))\n",
    "print(mp1.canSing(\"Chirp\"))"
   ]
  },
  {
   "cell_type": "code",
   "execution_count": 31,
   "id": "4b5f3b7b-0f8c-4f65-9e9f-2e193f3abbf5",
   "metadata": {
    "tags": []
   },
   "outputs": [
    {
     "name": "stdout",
     "output_type": "stream",
     "text": [
      "myBirth class constructor is executing...\n",
      "myPenguin is ready...\n",
      "I am Penguin\n",
      "I can Swim\n",
      "I can run faster\n"
     ]
    }
   ],
   "source": [
    "# access the child class's attributes (inheritance)\n",
    "pg1 = myPenguin()\n",
    "pg1.whoisThis()\n",
    "pg1.canSwim()\n",
    "pg1.canRun()"
   ]
  },
  {
   "cell_type": "code",
   "execution_count": 37,
   "id": "a6bc669d-f03c-4e0e-9a36-0941aa498a1b",
   "metadata": {
    "tags": []
   },
   "outputs": [],
   "source": [
    "# Data encapsulation\n",
    "class personalComputer:\n",
    "    \n",
    "    def __init__(self):  \n",
    "          self.maxComputerPrice = 20000\n",
    "    \n",
    "    def mySell(self):\n",
    "          print(\"Selling Price: {}\".format(self.maxComputerPrice))\n",
    "                \n",
    "    def setMaxComputerPrice(self,price):\n",
    "            self.maxComputerPrice = price"
   ]
  },
  {
   "cell_type": "code",
   "execution_count": 38,
   "id": "eb280ba6-4ca0-40a8-85bd-f631bd275dac",
   "metadata": {
    "tags": []
   },
   "outputs": [
    {
     "name": "stdout",
     "output_type": "stream",
     "text": [
      "Selling Price: 20000\n"
     ]
    }
   ],
   "source": [
    "pc = personalComputer()\n",
    "pc.mySell()"
   ]
  },
  {
   "cell_type": "code",
   "execution_count": 39,
   "id": "6004b44f-5868-427d-bdd6-5249f9364d86",
   "metadata": {
    "tags": []
   },
   "outputs": [
    {
     "name": "stdout",
     "output_type": "stream",
     "text": [
      "Selling Price: 30000\n"
     ]
    }
   ],
   "source": [
    "# change the price \n",
    "pc.maxComputerPrice = 30000\n",
    "pc.mySell()"
   ]
  },
  {
   "cell_type": "code",
   "execution_count": 40,
   "id": "ac519994-8452-4330-964d-87397797e491",
   "metadata": {
    "tags": []
   },
   "outputs": [
    {
     "name": "stdout",
     "output_type": "stream",
     "text": [
      "Selling Price: 40000\n"
     ]
    }
   ],
   "source": [
    "# using setter function\n",
    "pc.setMaxComputerPrice(40000)\n",
    "pc.mySell()"
   ]
  },
  {
   "cell_type": "markdown",
   "id": "04b4e1ad-d6f9-49ba-bcca-603e3eac7170",
   "metadata": {},
   "source": [
    "# Python Nested Dictionary Implementation"
   ]
  },
  {
   "cell_type": "code",
   "execution_count": 48,
   "id": "6d90c148-e39e-4e19-b93d-cc16bd32efa4",
   "metadata": {
    "tags": []
   },
   "outputs": [
    {
     "name": "stdout",
     "output_type": "stream",
     "text": [
      "{1: {'name': 'John', 'age': '27', 'sex': 'Male'}, 2: {'name': 'Marie', 'age': '22', 'sex': 'Female'}}\n",
      "John\n",
      "27\n",
      "Male\n"
     ]
    }
   ],
   "source": [
    "# Declaring and defining a nested dictionary (key:value)\n",
    "people = {1:{'name': 'John','age':'27','sex':'Male'},\n",
    "         2:{'name': 'Marie','age':'22','sex':'Female'}}\n",
    "\n",
    "print(people)\n",
    "\n",
    "# Accessing elements of the dictionary\n",
    "\n",
    "print(people[1]['name'])\n",
    "print(people[1]['age'])\n",
    "print(people[1]['sex'])"
   ]
  },
  {
   "cell_type": "code",
   "execution_count": 49,
   "id": "73214411-7e6a-45d2-bf6a-e8222e4339f7",
   "metadata": {
    "tags": []
   },
   "outputs": [
    {
     "name": "stdout",
     "output_type": "stream",
     "text": [
      "{1: {'name': 'John', 'age': '27', 'sex': 'Male'}, 2: {'name': 'Marie', 'age': '22', 'sex': 'Female'}, 3: {'name': 'Luna', 'age': '24', 'sex': 'Female', 'married': 'No'}}\n"
     ]
    }
   ],
   "source": [
    "people[3]={}\n",
    "# adding elements to a dictionary\n",
    "\n",
    "people[3]['name'] = 'Luna'\n",
    "people[3]['age'] = '24'\n",
    "people[3]['sex']= 'Female'\n",
    "people[3]['married'] = 'No'\n",
    "\n",
    "print(people)"
   ]
  },
  {
   "cell_type": "code",
   "execution_count": 50,
   "id": "fb1e6d53-7396-4463-ab2f-cd0350fde858",
   "metadata": {
    "tags": []
   },
   "outputs": [
    {
     "name": "stdout",
     "output_type": "stream",
     "text": [
      "{1: {'name': 'John', 'age': '27', 'sex': 'Male'}, 2: {'name': 'Marie', 'age': '22', 'sex': 'Female'}, 3: {'name': 'Luna', 'age': '24', 'sex': 'Female', 'married': 'No'}, 4: {'name': 'Peter', 'age': '29', 'sex': 'Male', 'married': 'Yes'}}\n"
     ]
    }
   ],
   "source": [
    "# adding dictionary to a nested dictionary\n",
    "people[4]={'name': 'Peter','age':'29','sex':'Male','married':'Yes'}\n",
    "\n",
    "print(people)"
   ]
  },
  {
   "cell_type": "code",
   "execution_count": 52,
   "id": "a419840f-2f2e-49b5-95d2-8655dd9cd6e2",
   "metadata": {
    "tags": []
   },
   "outputs": [
    {
     "name": "stdout",
     "output_type": "stream",
     "text": [
      "{'name': 'Luna', 'age': '24', 'sex': 'Female', 'married': 'No'}\n",
      "{'name': 'Peter', 'age': '29', 'sex': 'Male', 'married': 'Yes'}\n",
      "{'name': 'Luna', 'age': '24', 'sex': 'Female'}\n",
      "{'name': 'Peter', 'age': '29', 'sex': 'Male'}\n"
     ]
    }
   ],
   "source": [
    "# Deleting elements from a dictionary\n",
    "\n",
    "print(people[3])\n",
    "print(people[4])\n",
    "\n",
    "del people[3]['married']\n",
    "\n",
    "del people[4]['married']\n",
    "\n",
    "print(people[3])\n",
    "print(people[4])"
   ]
  },
  {
   "cell_type": "code",
   "execution_count": 53,
   "id": "a9a7f411-5f77-4632-8652-056cbd7f2501",
   "metadata": {
    "tags": []
   },
   "outputs": [
    {
     "name": "stdout",
     "output_type": "stream",
     "text": [
      "{1: {'name': 'John', 'age': '27', 'sex': 'Male'}, 2: {'name': 'Marie', 'age': '22', 'sex': 'Female'}, 3: {'name': 'Luna', 'age': '24', 'sex': 'Female'}, 4: {'name': 'Peter', 'age': '29', 'sex': 'Male'}}\n",
      "{1: {'name': 'John', 'age': '27', 'sex': 'Male'}, 2: {'name': 'Marie', 'age': '22', 'sex': 'Female'}}\n"
     ]
    }
   ],
   "source": [
    "people = {1: {'name': 'John', 'age': '27', 'sex': 'Male'}, \n",
    "          2: {'name': 'Marie', 'age': '22', 'sex': 'Female'}, \n",
    "          3: {'name': 'Luna', 'age': '24', 'sex': 'Female'}, \n",
    "          4: {'name': 'Peter', 'age': '29', 'sex': 'Male'}}\n",
    "\n",
    "print(people)\n",
    "\n",
    "# deleting dictionary from nested dictionary\n",
    "\n",
    "del people[3], people[4]\n",
    "print(people)"
   ]
  },
  {
   "cell_type": "code",
   "execution_count": 54,
   "id": "2495489c-5271-4b15-bca3-f8ba0c93e1bd",
   "metadata": {
    "tags": []
   },
   "outputs": [
    {
     "name": "stdout",
     "output_type": "stream",
     "text": [
      "dict_items([(1, {'name': 'John', 'age': '27', 'sex': 'Male'}), (2, {'name': 'Marie', 'age': '22', 'sex': 'Female'})])\n",
      "\n",
      "Person ID: 1\n",
      "name: John\n",
      "age: 27\n",
      "sex: Male\n",
      "\n",
      "Person ID: 2\n",
      "name: Marie\n",
      "age: 22\n",
      "sex: Female\n"
     ]
    }
   ],
   "source": [
    "#  Iterating though a nested dictionary\n",
    "\n",
    "print(people.items())\n",
    "\n",
    "for p_id,p_info in people.items():\n",
    "    print(\"\\nPerson ID:\",p_id)\n",
    "    \n",
    "    for key in p_info : \n",
    "        print(key+':',p_info[key])\n"
   ]
  },
  {
   "cell_type": "markdown",
   "id": "12d8b0c2-95a9-4936-8bdc-e762b59e0b39",
   "metadata": {},
   "source": [
    "# Python Operator Overloading"
   ]
  },
  {
   "cell_type": "code",
   "execution_count": 62,
   "id": "0caf960e-dce6-41a8-ac6f-51f483e9ce43",
   "metadata": {
    "tags": []
   },
   "outputs": [],
   "source": [
    "# Operator Overloading\n",
    "class myPoint:\n",
    "    def __init__(self,x=0,y=0):\n",
    "        self.x = x\n",
    "        self.y = y\n",
    "    \n",
    "    def __str__(self):\n",
    "        return \"({0},{1})\".format(self.x,self.y)\n",
    "    \n",
    "    # Overloading  + Operator\n",
    "    def __add__(self,other):\n",
    "        x = self.x + other.x\n",
    "        y = self.y + other.y\n",
    "        return myPoint(x,y)\n",
    "    \n",
    "    \n",
    "    \n",
    "    # Overloading < Operator\n",
    "    def __lt__(self,other):\n",
    "        self_mag = (self.x ** 2) + (self.y ** 2)\n",
    "        other_mag = (other.x ** 2) + (other.y ** 2)\n",
    "        return self_mag  < other_mag"
   ]
  },
  {
   "cell_type": "code",
   "execution_count": 63,
   "id": "c7a4606c-8aad-403c-967e-5f05709d4697",
   "metadata": {
    "tags": []
   },
   "outputs": [
    {
     "name": "stdout",
     "output_type": "stream",
     "text": [
      "(1,2)\n",
      "(4,5)\n"
     ]
    }
   ],
   "source": [
    "p1 = myPoint(1,2)\n",
    "p2 = myPoint(4,5)\n",
    "print(p1)\n",
    "print(p2)"
   ]
  },
  {
   "cell_type": "code",
   "execution_count": 64,
   "id": "8dfa181c-1f74-4c90-b7f6-19cc59ff0b84",
   "metadata": {
    "tags": []
   },
   "outputs": [
    {
     "name": "stdout",
     "output_type": "stream",
     "text": [
      "True\n"
     ]
    }
   ],
   "source": [
    "print(p1<p2)"
   ]
  },
  {
   "cell_type": "code",
   "execution_count": 59,
   "id": "8c41160f-dbfc-413e-94ff-79d9e88aba9a",
   "metadata": {
    "tags": []
   },
   "outputs": [
    {
     "name": "stdout",
     "output_type": "stream",
     "text": [
      "(5,7)\n"
     ]
    }
   ],
   "source": [
    "print(p1+p2)"
   ]
  },
  {
   "cell_type": "code",
   "execution_count": 65,
   "id": "9831ca7d-3b8e-4656-84f4-f5ab079eee91",
   "metadata": {
    "tags": []
   },
   "outputs": [
    {
     "name": "stdout",
     "output_type": "stream",
     "text": [
      "True\n"
     ]
    }
   ],
   "source": [
    "print(p1.__lt__(p2))"
   ]
  },
  {
   "cell_type": "code",
   "execution_count": 66,
   "id": "736556af-2473-4a24-b8aa-2599c9a3a1d7",
   "metadata": {
    "tags": []
   },
   "outputs": [
    {
     "name": "stdout",
     "output_type": "stream",
     "text": [
      "(5,7)\n"
     ]
    }
   ],
   "source": [
    "print(p1.__add__(p2))"
   ]
  },
  {
   "cell_type": "markdown",
   "id": "897a0676-4e6e-4376-86d1-0bffc8c8cf66",
   "metadata": {},
   "source": [
    "# Python Statements and Comments"
   ]
  },
  {
   "cell_type": "code",
   "execution_count": 67,
   "id": "b73dc19c-996b-4e99-8de7-89ef1e3eb6d5",
   "metadata": {
    "tags": []
   },
   "outputs": [
    {
     "data": {
      "text/plain": [
       "'\\nMulti-line comments\\ncan also be written like this\\n'"
      ]
     },
     "execution_count": 67,
     "metadata": {},
     "output_type": "execute_result"
    }
   ],
   "source": [
    "# This is a comment\n",
    "\n",
    "# This a long comment\n",
    "# and multi-line comments\n",
    "# can be written like this\n",
    "\n",
    "\"\"\"\n",
    "Multi-line comments\n",
    "can also be written like this\n",
    "\"\"\""
   ]
  },
  {
   "cell_type": "code",
   "execution_count": 69,
   "id": "1641ced1-fc76-4a07-8d8e-707600e45427",
   "metadata": {
    "tags": []
   },
   "outputs": [],
   "source": [
    "# Statement - Assignment Statement\n",
    "a = 1"
   ]
  },
  {
   "cell_type": "code",
   "execution_count": 71,
   "id": "6dd2e753-2b19-427b-9732-6d6a4f95cdf1",
   "metadata": {
    "tags": []
   },
   "outputs": [
    {
     "name": "stdout",
     "output_type": "stream",
     "text": [
      "21\n",
      "21\n"
     ]
    }
   ],
   "source": [
    "# Multiline Statement\n",
    "# Explicit line continuation - '\\'\n",
    "b = 1 + 2 + 3 + \\\n",
    "    4 + 5 + 6\n",
    "print(b)\n",
    "# Implicit line continuation within brackets\n",
    "c = (1 + 2 + 3 +\n",
    "     4 + 5 + 6 )\n",
    "print(c)"
   ]
  },
  {
   "cell_type": "code",
   "execution_count": 73,
   "id": "02882bb0-6efd-4246-a706-be55ff3adba3",
   "metadata": {
    "tags": []
   },
   "outputs": [
    {
     "name": "stdout",
     "output_type": "stream",
     "text": [
      "1 3 0\n"
     ]
    }
   ],
   "source": [
    "# Multiple statements in one line using - ';'\n",
    "d = 1; e = 3; f =0\n",
    "print(d,e,f)"
   ]
  },
  {
   "cell_type": "code",
   "execution_count": 74,
   "id": "c7024978-8047-4fff-8bab-d2e0853f3cd7",
   "metadata": {
    "tags": []
   },
   "outputs": [
    {
     "name": "stdout",
     "output_type": "stream",
     "text": [
      "1\n",
      "2\n",
      "3\n",
      "4\n",
      "5\n",
      "End of the program...\n"
     ]
    }
   ],
   "source": [
    "# Code block (body of a function, loop, etc.) starts with indentation\n",
    "# and ends with the first unindented line\n",
    "for i in range(1,10):\n",
    "    print(i)\n",
    "    if i == 5:\n",
    "        break\n",
    "print(\"End of the program...\")"
   ]
  },
  {
   "cell_type": "markdown",
   "id": "2964411b-7833-4b57-90ac-e0acb1c38791",
   "metadata": {},
   "source": [
    "# Python Pass Statement"
   ]
  },
  {
   "cell_type": "code",
   "execution_count": 75,
   "id": "de882e04-f046-4267-8a41-27f33286aadd",
   "metadata": {
    "tags": []
   },
   "outputs": [
    {
     "name": "stdout",
     "output_type": "stream",
     "text": [
      "End of the program...\n"
     ]
    }
   ],
   "source": [
    "# pass is just a placeholder for\n",
    "# functionality to be added later\n",
    "sequence = {'p', 'a','s','s'}\n",
    "for val in sequence:\n",
    "    pass\n",
    "print(\"End of the program...\")\n",
    "            "
   ]
  },
  {
   "cell_type": "markdown",
   "id": "4e403ac6-11bc-46d0-a14f-b8fa67f51429",
   "metadata": {},
   "source": [
    "# Python Generators"
   ]
  },
  {
   "cell_type": "code",
   "execution_count": 84,
   "id": "10c1633a-d7e8-479d-93be-3acb042e1c17",
   "metadata": {
    "tags": []
   },
   "outputs": [],
   "source": [
    "# A simple generator function\n",
    "# data save each iteration  thanks yield\n",
    "def my_generator():\n",
    "    n = 1 \n",
    "    print(\"This is printed first\")\n",
    "    #Generator function contains yield statements\n",
    "    yield n\n",
    "    \n",
    "    n +=1\n",
    "    print(\"This is printed second\")\n",
    "    yield n\n",
    "    \n",
    "    n +=1\n",
    "    print(\"This is printed at last\")\n",
    "    yield n\n",
    "    "
   ]
  },
  {
   "cell_type": "code",
   "execution_count": 85,
   "id": "45774606-fea6-46b8-983e-34411aefd9d2",
   "metadata": {
    "tags": []
   },
   "outputs": [],
   "source": [
    "a = my_generator()"
   ]
  },
  {
   "cell_type": "code",
   "execution_count": 86,
   "id": "8cba8190-f8d6-445d-8a4a-6d2728b61d4f",
   "metadata": {
    "tags": []
   },
   "outputs": [
    {
     "name": "stdout",
     "output_type": "stream",
     "text": [
      "This is printed first\n",
      "This is printed second\n",
      "This is printed at last\n",
      "Using for loop...\n",
      "This is printed first\n",
      "1\n",
      "This is printed second\n",
      "2\n",
      "This is printed at last\n",
      "3\n"
     ]
    }
   ],
   "source": [
    "# Iterrating using next\n",
    "next(a)\n",
    "next(a)\n",
    "next(a)\n",
    "print(\"Using for loop...\")\n",
    "#Iterrating using for loop\n",
    "for item in my_generator():\n",
    "    print(item)"
   ]
  },
  {
   "cell_type": "code",
   "execution_count": 88,
   "id": "ca2ce48a-8f33-41d5-a363-862004c9fd40",
   "metadata": {
    "tags": []
   },
   "outputs": [
    {
     "name": "stdout",
     "output_type": "stream",
     "text": [
      "D\n",
      "L\n",
      "R\n",
      "O\n",
      "W\n"
     ]
    }
   ],
   "source": [
    "# Generators with a loop\n",
    "def reverse_string(my_string):\n",
    "    length = len(my_string)\n",
    "    for i in range(length-1,-1,-1):\n",
    "        yield my_string[i]\n",
    "        \n",
    "# For loop to reverse the string\n",
    "\n",
    "for char in reverse_string(\"WORLD\"):\n",
    "    print(char)"
   ]
  },
  {
   "cell_type": "code",
   "execution_count": 96,
   "id": "f9b3f7c3-5855-42c8-908c-46d378209796",
   "metadata": {
    "tags": []
   },
   "outputs": [
    {
     "data": {
      "text/plain": [
       "'D'"
      ]
     },
     "execution_count": 96,
     "metadata": {},
     "output_type": "execute_result"
    }
   ],
   "source": [
    "# you can use next() to iterrate one word at a time\n",
    "a = reverse_string(\"WORLD\")\n",
    "next(a)"
   ]
  },
  {
   "cell_type": "markdown",
   "id": "ec7220fa-9768-4de9-bc5e-bd878ce44b77",
   "metadata": {
    "tags": []
   },
   "source": [
    "# Python Decorators"
   ]
  },
  {
   "cell_type": "code",
   "execution_count": 97,
   "id": "37588a17-e9e7-4ad6-aa99-7168ab4f897e",
   "metadata": {
    "tags": []
   },
   "outputs": [],
   "source": [
    "# Demonstration\n",
    "def make_decorated(func):\n",
    "    def inner_function():\n",
    "        print(\"I got decorated\")\n",
    "        func()\n",
    "    return inner_function\n",
    "\n",
    "def simple_func():\n",
    "    print(\"I am a simple function\")\n"
   ]
  },
  {
   "cell_type": "code",
   "execution_count": 98,
   "id": "e7887ad6-3489-4d43-930e-bed0c34ecf0a",
   "metadata": {
    "tags": []
   },
   "outputs": [],
   "source": [
    "decor = make_decorated(simple_func)"
   ]
  },
  {
   "cell_type": "code",
   "execution_count": 99,
   "id": "d4e9f3d4-0674-4634-ba49-a0faf7bb8ae3",
   "metadata": {
    "tags": []
   },
   "outputs": [
    {
     "name": "stdout",
     "output_type": "stream",
     "text": [
      "I got decorated\n",
      "I am a simple function\n"
     ]
    }
   ],
   "source": [
    "decor()"
   ]
  },
  {
   "cell_type": "code",
   "execution_count": 100,
   "id": "473c7206-9332-425a-a349-cd451c8ea185",
   "metadata": {
    "tags": []
   },
   "outputs": [],
   "source": [
    "# Demonstration another way\n",
    "def make_decorated(func):\n",
    "    def inner_function():\n",
    "        print(\"I got decorated\")\n",
    "        func()\n",
    "    return inner_function\n",
    "\n",
    "@make_decorated # easy way to call decorator\n",
    "def simple_func():\n",
    "    print(\"I am a simple function\")"
   ]
  },
  {
   "cell_type": "code",
   "execution_count": 101,
   "id": "39c1c501-ead6-4753-afa3-217e73e278c8",
   "metadata": {
    "tags": []
   },
   "outputs": [
    {
     "name": "stdout",
     "output_type": "stream",
     "text": [
      "I got decorated\n",
      "I am a simple function\n"
     ]
    }
   ],
   "source": [
    "simple_func()"
   ]
  },
  {
   "cell_type": "code",
   "execution_count": 103,
   "id": "05cdbe8c-f253-4b22-90f3-913e18e8afe4",
   "metadata": {
    "tags": []
   },
   "outputs": [],
   "source": [
    "# Another exemple\n",
    "def my_smart_div(func):\n",
    "    def inner_func(x,y):\n",
    "        print(\"I am dividing \",x,\"and\",y)\n",
    "        if y == 0 : \n",
    "            print(\"Oops! Division by zero is illegal...!!!\")\n",
    "            return\n",
    "        \n",
    "        return func(x,y)\n",
    "    return inner_func\n",
    "\n",
    "@my_smart_div\n",
    "def go_divide(a,b): # Generaly, we decorate a functiuon and reassign it as,\n",
    "    return a/b      # go_divide = my_smart_div(go_divide)\n"
   ]
  },
  {
   "cell_type": "code",
   "execution_count": 104,
   "id": "d9fa8cf9-d68b-40e4-aa49-64646cc76a37",
   "metadata": {
    "tags": []
   },
   "outputs": [
    {
     "name": "stdout",
     "output_type": "stream",
     "text": [
      "I am dividing  20 and 2\n",
      "10.0\n",
      "I am dividing  20 and 0\n",
      "Oops! Division by zero is illegal...!!!\n",
      "None\n"
     ]
    }
   ],
   "source": [
    "print(go_divide(20,2))\n",
    "print(go_divide(20,0))"
   ]
  },
  {
   "cell_type": "markdown",
   "id": "8f7efa3f-e274-4409-845e-958a962e3cd5",
   "metadata": {
    "tags": []
   },
   "source": [
    "# Python While loop "
   ]
  },
  {
   "cell_type": "code",
   "execution_count": 112,
   "id": "d02fdaad-e580-4dee-ba6d-7e5ac1e0c03d",
   "metadata": {
    "tags": []
   },
   "outputs": [
    {
     "name": "stdout",
     "output_type": "stream",
     "text": [
      "3\n",
      "2\n",
      "1\n"
     ]
    }
   ],
   "source": [
    "# Using while loop\n",
    "i = 3 \n",
    "while i > 0:\n",
    "    print(i)\n",
    "    i -= 1"
   ]
  },
  {
   "cell_type": "code",
   "execution_count": 1,
   "id": "0d058458-36a3-4e34-8509-88fb747790f9",
   "metadata": {
    "tags": []
   },
   "outputs": [
    {
     "name": "stdout",
     "output_type": "stream",
     "text": [
      "5\n",
      "6\n",
      "7\n",
      "8\n",
      "9\n",
      "Displayed Successfully\n"
     ]
    }
   ],
   "source": [
    "i = 5\n",
    "while i<10:\n",
    "    print(i)\n",
    "    i += 1\n",
    "else:\n",
    "    print(\"Displayed Successfully\")"
   ]
  },
  {
   "cell_type": "code",
   "execution_count": null,
   "id": "a81c4558-2416-4b28-8284-de7110f223a6",
   "metadata": {
    "tags": []
   },
   "outputs": [],
   "source": [
    "# A program to display a pattern using loops\n",
    "# n = numbers of layer\n",
    "# . repressentes blanck\n",
    "# * start to representes shape \n",
    "n = 6                  i  .  *\n",
    "                    ---------------\n",
    ".....*                 1  5   1\n",
    "....***                2  4   3     . => n - 1\n",
    "...*****               3  3   5\n",
    "..*******              4  2   7     * => 2*i - 1\n",
    ".**********            5  1   9\n",
    "************           6  0  11\n",
    "                    ----------------"
   ]
  },
  {
   "cell_type": "code",
   "execution_count": 4,
   "id": "a8af6d21-4a8f-4005-b286-826d4a0ca34b",
   "metadata": {
    "tags": []
   },
   "outputs": [
    {
     "name": "stdin",
     "output_type": "stream",
     "text": [
      "Please enter the number of layers.... 7\n"
     ]
    },
    {
     "name": "stdout",
     "output_type": "stream",
     "text": [
      "      *\n",
      "     ***\n",
      "    *****\n",
      "   *******\n",
      "  *********\n",
      " ***********\n",
      "*************\n"
     ]
    }
   ],
   "source": [
    "n = int(input(\"Please enter the number of layers....\"))\n",
    "i = 1 \n",
    "while i <=n:\n",
    "    j = 1\n",
    "    while j <= n - i :\n",
    "        print(\" \",end=\"\")\n",
    "        j = j + 1\n",
    "    j = 1\n",
    "    while j <= 2*i - 1 :\n",
    "        print(\"*\",end=\"\")\n",
    "        j = j + 1\n",
    "    print()\n",
    "    i = i + 1"
   ]
  },
  {
   "cell_type": "code",
   "execution_count": null,
   "id": "d149cdb0-f07e-4dc3-883a-d260f7cc1b62",
   "metadata": {},
   "outputs": [],
   "source": [
    "# A program to display a pattern using loops\n",
    "\n",
    "n = 11 (odd)          i  .  *\n",
    "m = (n+1)/2 = 6     ------------\n",
    "***********           1  0  11\n",
    ".*********            2  1   9    . => i - 1\n",
    "..*******             3  2   7\n",
    "...*****              4  3   5    * => 2*(m-i)+1\n",
    "....***               5  4   3\n",
    ".....*              __6__5___1__\n",
    "....***               7  4  3\n",
    "...*****              8  3  5     . => n - 1\n",
    "..*******             9  2  7\n",
    ".*********           10  1  9     * => 2*(i-m)+1\n",
    "***********          11  0  11\n",
    "                   ---------------\n"
   ]
  },
  {
   "cell_type": "code",
   "execution_count": 7,
   "id": "13722672-f623-4f54-bc2a-b1f3c5be915f",
   "metadata": {
    "tags": []
   },
   "outputs": [
    {
     "name": "stdin",
     "output_type": "stream",
     "text": [
      "Please enter the number of layers.... 11\n"
     ]
    },
    {
     "name": "stdout",
     "output_type": "stream",
     "text": [
      "***********\n",
      " *********\n",
      "  *******\n",
      "   *****\n",
      "    ***\n",
      "     *\n",
      "    ***\n",
      "   *****\n",
      "  *******\n",
      " *********\n",
      "***********\n"
     ]
    }
   ],
   "source": [
    "n = int(input(\"Please enter the number of layers....\"))\n",
    "m = (n+1)/2\n",
    "i = 1 \n",
    "while i <=n:\n",
    "    if (i > m):\n",
    "        b = n-i\n",
    "        s =  s = 2*(i-m)+1 \n",
    "    else:\n",
    "        b = i - 1\n",
    "        s = 2*(m-i)+1\n",
    "    j = 1\n",
    "    while j <= b :\n",
    "        print(\" \",end=\"\")\n",
    "        j = j + 1\n",
    "    j = 1\n",
    "    while j <= s:\n",
    "        print(\"*\",end=\"\")\n",
    "        j = j + 1\n",
    "    print()\n",
    "    i = i + 1"
   ]
  },
  {
   "cell_type": "code",
   "execution_count": 8,
   "id": "8ee3489c-e4d5-4dae-943c-64f966fb0b78",
   "metadata": {
    "tags": []
   },
   "outputs": [],
   "source": [
    "# pratice work\n",
    "# a program to display a pattern using loops\n",
    "# 37 video"
   ]
  },
  {
   "cell_type": "markdown",
   "id": "247e27bb-55b4-4ba3-9b74-bf592623590e",
   "metadata": {},
   "source": [
    "# Use of if elif and else"
   ]
  },
  {
   "cell_type": "code",
   "execution_count": 16,
   "id": "b0e3eeb0-5600-435a-867c-fb17600f0a30",
   "metadata": {
    "tags": []
   },
   "outputs": [
    {
     "name": "stdin",
     "output_type": "stream",
     "text": [
      "Please enter the age of the person... 0\n"
     ]
    },
    {
     "name": "stdout",
     "output_type": "stream",
     "text": [
      "Too young\n"
     ]
    }
   ],
   "source": [
    "# if .... elif .... else\n",
    "age = int(input(\"Please enter the age of the person...\"))\n",
    "if age < 5:\n",
    "    print(\"Too young\")\n",
    "elif age == 5:\n",
    "    print(\"Kindergarten\")\n",
    "elif ((age > 5) and (age <= 17)):\n",
    "    grade = age - 5 \n",
    "    print(\"Go to {} grade\".format(grade))\n",
    "else:\n",
    "    print(\"Go to college\")"
   ]
  },
  {
   "cell_type": "code",
   "execution_count": 9,
   "id": "5e45247b-f7ce-4098-9d54-8e5760bcae90",
   "metadata": {
    "tags": []
   },
   "outputs": [],
   "source": [
    "# Nested if\n",
    "# In this program, we input a number\n",
    "# Check if the number is positive or\n",
    "# negative or zero and display\n",
    "# an appropriate message\n",
    "# This time we use nested if"
   ]
  },
  {
   "cell_type": "code",
   "execution_count": 20,
   "id": "bfd79ab9-0677-4cf4-9ca6-58d649db1980",
   "metadata": {
    "tags": []
   },
   "outputs": [
    {
     "name": "stdin",
     "output_type": "stream",
     "text": [
      "Enter a number 77\n"
     ]
    },
    {
     "name": "stdout",
     "output_type": "stream",
     "text": [
      "Positive number\n"
     ]
    }
   ],
   "source": [
    "num = float(input(\"Enter a number\"))\n",
    "if num>=0:\n",
    "    if num == 0 :\n",
    "        print(\"Zero\")\n",
    "    else:\n",
    "        print(\"Positive number\")\n",
    "else:\n",
    "    print(\"Negative number\")"
   ]
  },
  {
   "cell_type": "markdown",
   "id": "8eec9060-722a-4d01-bdcf-3c2a5c36a69f",
   "metadata": {},
   "source": [
    "# Python Matrix Implementation "
   ]
  },
  {
   "cell_type": "code",
   "execution_count": 25,
   "id": "33741935-9cbe-453a-9bc9-3d2c07fe6586",
   "metadata": {
    "tags": []
   },
   "outputs": [
    {
     "name": "stdout",
     "output_type": "stream",
     "text": [
      "[['Roy', 80, 75, 58, 100, 25], ['John', 50, 31, 28, 59, 27], ['Dave', 79, 85, 95, 68, 79]]\n",
      "\n",
      "[['Roy', 80, 75, 58, 100, 25], ['John', 50, 31, 28], ['Dave', 79, 85, 95, 68, 79]]\n"
     ]
    }
   ],
   "source": [
    "# a is 2-D matrix with integers\n",
    "\n",
    "a = [['Roy',80,75,58,100,25],\n",
    "     ['John',50,31,28,59,27],\n",
    "     ['Dave',79,85,95,68,79]\n",
    "    ]\n",
    "\n",
    "# b is a nested list but not a matrix\n",
    "b = [['Roy',80,75,58,100,25],\n",
    "     ['John',50,31,28],\n",
    "     ['Dave',79,85,95,68,79]\n",
    "    ]\n",
    "print(a)\n",
    "print()\n",
    "print(b)"
   ]
  },
  {
   "cell_type": "code",
   "execution_count": 27,
   "id": "000812ed-d870-470b-b59c-5cce860e8b9b",
   "metadata": {
    "tags": []
   },
   "outputs": [
    {
     "name": "stdout",
     "output_type": "stream",
     "text": [
      "[0, 0, 0]\n",
      "[[0, 0, 0, 0], [0, 0, 0, 0], [0, 0, 0, 0]]\n"
     ]
    }
   ],
   "source": [
    "# Creating a dynamic matrix using for loop in python \n",
    "\n",
    "# n = rows\n",
    "# m = columns\n",
    "\n",
    "n = 3 \n",
    "m = 4 \n",
    "a = [0] * n\n",
    "\n",
    "print(a)\n",
    "\n",
    "for i in range(n):\n",
    "    a[i] = [0] * m\n",
    "    \n",
    "print(a)"
   ]
  },
  {
   "cell_type": "code",
   "execution_count": 29,
   "id": "39d0f1b3-73d8-4ec3-b8a1-feccc6caa958",
   "metadata": {
    "tags": []
   },
   "outputs": [
    {
     "name": "stdout",
     "output_type": "stream",
     "text": [
      "[[0, 0, 0, 0], [0, 0, 0, 0], [0, 0, 0, 0]]\n",
      "[0, 0, 0, 0]\n",
      "0\n",
      "0\n"
     ]
    }
   ],
   "source": [
    "# Accessing elements from a matrix\n",
    "print(a)\n",
    "print(a[0])\n",
    "print(a[0][1])\n",
    "print(a[1][2])"
   ]
  },
  {
   "cell_type": "code",
   "execution_count": 30,
   "id": "13378024-6b7f-4587-99d0-eedca8a8fe0d",
   "metadata": {
    "tags": []
   },
   "outputs": [
    {
     "name": "stdout",
     "output_type": "stream",
     "text": [
      "[[0, 0, 0, 0], [0, 0, 0, 0], [0, 0, 0, 0]]\n",
      "[0, 0, 0, 0]\n",
      "0\n",
      "0\n"
     ]
    }
   ],
   "source": [
    "# Negative Indexing\n",
    "print(a)\n",
    "print(a[-1]) # last row\n",
    "print(a[-1][-2])\n",
    "print(a[-2][-3])"
   ]
  },
  {
   "cell_type": "code",
   "execution_count": 31,
   "id": "4183237f-6508-4185-abda-c3204e3aaa97",
   "metadata": {
    "tags": []
   },
   "outputs": [
    {
     "name": "stdout",
     "output_type": "stream",
     "text": [
      "[[0, 75, 0, 0], [0, 0, 0, 0], ['Sam', 85, 25, 32, 44, 77]]\n",
      "[0, 75, 0, 0]\n",
      "\n",
      "[0, 75, 0, 0]\n",
      "[[0, 75, 0, 0], [0, 0, 0, 0], ['Sam', 85, 25, 32, 44, 77]]\n",
      "\n",
      "[[0, 75, 0, 0], [0, 0, 0, 0], ['Sam', 85, 25, 32, 44, 77]]\n"
     ]
    }
   ],
   "source": [
    "# Change elements of a matrix in python\n",
    "# we copy addressing to point array so if i change in new variable it changes in old variable\n",
    "print(a)\n",
    "b = a[0] # copy list in index 0\n",
    "print(b)\n",
    "print()\n",
    "\n",
    "b[1] = 75 # change one element in list in index 1\n",
    "print(b)\n",
    "print(a)\n",
    "print()\n",
    "\n",
    "a[2] = ['Sam',85,25,32,44,77] # change all contain \n",
    "print(a)"
   ]
  },
  {
   "cell_type": "markdown",
   "id": "b3d5b8bd-c305-4509-8570-e76115585315",
   "metadata": {},
   "source": [
    "# Python Regular Expressions"
   ]
  },
  {
   "cell_type": "code",
   "execution_count": 40,
   "id": "9c2aac85-e5e5-4175-bb86-a26b3b77a19b",
   "metadata": {
    "tags": []
   },
   "outputs": [
    {
     "name": "stdout",
     "output_type": "stream",
     "text": [
      "There is an ape\n"
     ]
    }
   ],
   "source": [
    "# import Regex module\n",
    "import re\n",
    "\n",
    "# ------------------Was a Match Found-----------------\n",
    "\n",
    "# Search for ape in the string\n",
    "\n",
    "if re.search(\"ape\",\"The ape was at the apex\"):\n",
    "    print(\"There is an ape\")"
   ]
  },
  {
   "cell_type": "code",
   "execution_count": 41,
   "id": "8ce56a89-6532-4ad8-9e28-2a5e80859a74",
   "metadata": {
    "tags": []
   },
   "outputs": [
    {
     "name": "stdout",
     "output_type": "stream",
     "text": [
      "ape \n",
      "apex\n"
     ]
    }
   ],
   "source": [
    "import re\n",
    "\n",
    "# ------------------Get ALL Matches-----------------\n",
    "\n",
    "# findall() returns a list of matches\n",
    "# . is used to matches any 1 character or space\n",
    "allApes = re.findall(\"ape.\", \"The ape was at the apex\")\n",
    "\n",
    "for i in allApes:\n",
    "    print(i)"
   ]
  },
  {
   "cell_type": "code",
   "execution_count": 42,
   "id": "133cc6e1-987e-45c1-a0a5-ec7e8717c4b9",
   "metadata": {
    "tags": []
   },
   "outputs": [
    {
     "name": "stdout",
     "output_type": "stream",
     "text": [
      "(4, 8)\n",
      "ape \n",
      "(19, 23)\n",
      "apex\n"
     ]
    }
   ],
   "source": [
    "# finditer returns an iterrator of matching objects\n",
    "# you can use span to get the location\n",
    "\n",
    "theStr = \"The ape was at the apex\"\n",
    "\n",
    "for i in re.finditer(\"ape.\",theStr):\n",
    "    # span returns a tuple\n",
    "    loctuple = i.span()\n",
    "    \n",
    "    print(loctuple)\n",
    "    \n",
    "    # Slice the match out using the tuple values\n",
    "    print(theStr[loctuple[0]:loctuple[1]])\n",
    "    \n",
    "    # first index is insclusive last index is exclusif"
   ]
  },
  {
   "cell_type": "code",
   "execution_count": 43,
   "id": "ba8dce46-d1d7-4796-ba10-097cab560ea5",
   "metadata": {
    "tags": []
   },
   "outputs": [
    {
     "name": "stdout",
     "output_type": "stream",
     "text": [
      "rat\n",
      "mat\n",
      "fat\n",
      "pat\n",
      "\n"
     ]
    }
   ],
   "source": [
    "import re \n",
    "\n",
    "# ------------------ Match 1 or several letters -----------------\n",
    "\n",
    "# Square brackets will match any one of the characters between \n",
    "# the brackets not including upper and lowercase varieties\n",
    "# unless they are listed\n",
    "\n",
    "animalStr = \"Cat rat mat fat pat\"\n",
    "\n",
    "allAnimals = re.findall(\"[crmfp]at\",animalStr)\n",
    "for i in allAnimals:\n",
    "    print(i)\n",
    "    \n",
    "print()"
   ]
  },
  {
   "cell_type": "code",
   "execution_count": 44,
   "id": "eaeac806-1b87-4785-9693-31b2370a99d9",
   "metadata": {
    "tags": []
   },
   "outputs": [
    {
     "name": "stdout",
     "output_type": "stream",
     "text": [
      "Cat\n",
      "mat\n",
      "fat\n",
      "\n"
     ]
    }
   ],
   "source": [
    "# we can also allow for characters in a range\n",
    "# Remember to include upper and lowercase letters\n",
    "animalStr = \"Cat rat mat fat pat\"\n",
    "someAnimals = re.findall(\"[c-mC-M]at\",animalStr)\n",
    "\n",
    "for i in someAnimals:\n",
    "    print(i)\n",
    "    \n",
    "print()"
   ]
  },
  {
   "cell_type": "code",
   "execution_count": 45,
   "id": "5eff361f-bcbf-4882-a5c3-ebad655c5d51",
   "metadata": {
    "tags": []
   },
   "outputs": [
    {
     "name": "stdout",
     "output_type": "stream",
     "text": [
      "mat\n",
      "fat\n",
      "pat\n",
      "\n"
     ]
    }
   ],
   "source": [
    "# Use ^ to denote any charater but whatever characters are \n",
    "# between the brackets\n",
    "animalStr = \"Cat rat mat fat pat\"\n",
    "someAnimals = re.findall(\"[^Cr]at\",animalStr)\n",
    "\n",
    "for i in someAnimals:\n",
    "    print(i)\n",
    "    \n",
    "print()\n"
   ]
  },
  {
   "cell_type": "code",
   "execution_count": 46,
   "id": "b286f74d-c88f-4e77-996e-e3b1664a0183",
   "metadata": {
    "tags": []
   },
   "outputs": [
    {
     "name": "stdout",
     "output_type": "stream",
     "text": [
      "owl owl mat pat\n"
     ]
    }
   ],
   "source": [
    "import re \n",
    "\n",
    "# ------------------ Replace All Matches -----------------\n",
    "# Replace matching items in a string\n",
    "\n",
    "owlFood = \"rat cat mat pat\"\n",
    "\n",
    "# You can compile a regex into pattern objects which \n",
    "# provide additional methods\n",
    "regex = re.compile(\"[cr]at\")\n",
    "\n",
    "# sub() replaces items that match the regex in the string\n",
    "# with the 1st attribute string passed to sub\n",
    "owlFood = regex.sub(\"owl\",owlFood)\n",
    "\n",
    "print(owlFood)"
   ]
  },
  {
   "cell_type": "code",
   "execution_count": 48,
   "id": "f5e16142-7d5c-4e32-b3da-d2e1d267ce8d",
   "metadata": {
    "tags": []
   },
   "outputs": [
    {
     "name": "stdout",
     "output_type": "stream",
     "text": [
      "Here is \\stuff :  None\n",
      " Find \\stuff :  <re.Match object; span=(8, 14), match='\\\\stuff'>\n",
      " Find \\stuff :  <re.Match object; span=(8, 14), match='\\\\stuff'>\n"
     ]
    }
   ],
   "source": [
    "import re \n",
    "\n",
    "# ------------------ Solving Backslash Problems -----------------\n",
    "# Regex use the backslash to designate special characters\n",
    "# and Python does the same inside strings which causes\n",
    "# issues.\n",
    "\n",
    "# Let's try to get \"\\\\stuff\" out of a string\n",
    "\n",
    "randStr = \"Here is \\\\stuff\"\n",
    "\n",
    "# this won't find it\n",
    "\n",
    "print(\"Here is \\\\stuff : \",re.search(\"\\\\stuff\",randStr))\n",
    "\n",
    "# this does, but we have to put in 4 slashes whis is\n",
    "# messy\n",
    "\n",
    "print(\" Find \\\\stuff : \", re.search(\"\\\\\\\\stuff\",randStr))\n",
    "\n",
    "# You can get arround this by using raw strings which\n",
    "# don't treat backslashes as special\n",
    "print(\" Find \\\\stuff : \", re.search(r\"\\\\stuff\",randStr))"
   ]
  },
  {
   "cell_type": "code",
   "execution_count": 50,
   "id": "dfe3d47c-923a-42ae-bb5c-9b35df647959",
   "metadata": {
    "tags": []
   },
   "outputs": [
    {
     "name": "stdout",
     "output_type": "stream",
     "text": [
      "Matches : 2\n",
      "Matches : ['F.B.I', 'I.R.S']\n"
     ]
    }
   ],
   "source": [
    "import re \n",
    "\n",
    "# ------------------ Matching Any Character -----------------\n",
    "# We saw that . matches any characters, but what if we \n",
    "# want to match a period.  Backslash the period\n",
    "# You do the same [,] and others\n",
    "\n",
    "# \\.\n",
    "\n",
    "randStr = \"F.B.I. I.R.S. CIA\"\n",
    "\n",
    "print(\"Matches :\", len(re.findall(\".\\..\\..\",randStr)))\n",
    "\n",
    "print(\"Matches :\",re.findall(\".\\..\\..\",randStr))"
   ]
  },
  {
   "cell_type": "code",
   "execution_count": 55,
   "id": "19c63d03-addb-4bd7-ae92-5de71f241863",
   "metadata": {
    "tags": []
   },
   "outputs": [
    {
     "name": "stdout",
     "output_type": "stream",
     "text": [
      "This is a long\n",
      "string that goes\n",
      "on for many lines\n",
      "This is a long string that goes on for many lines\n"
     ]
    }
   ],
   "source": [
    "import re \n",
    "\n",
    "# ------------------ Matching Whitespace -----------------\n",
    "# we can match many whitespace characters\n",
    "\n",
    "randStr = \"\"\"This is a long\n",
    "string that goes\n",
    "on for many lines\"\"\"\n",
    "\n",
    "print(randStr)\n",
    "\n",
    "# Remove newlines\n",
    "regex = re.compile(\"\\n\")\n",
    "\n",
    "randStr = regex.sub(\" \", randStr)\n",
    "\n",
    "print(randStr)\n",
    "\n",
    "# You can also match\n",
    "# \\b : Backspace\n",
    "# \\f : Form Feed\n",
    "# \\r : Carriage Return\n",
    "# \\t : tab\n",
    "# \\v : Vertical Tab\n",
    "\n",
    "# You may need to remove \\r\\n on Windows"
   ]
  },
  {
   "cell_type": "code",
   "execution_count": 59,
   "id": "abb7f339-20f5-4ed3-b963-b6333136283d",
   "metadata": {
    "tags": []
   },
   "outputs": [
    {
     "name": "stdout",
     "output_type": "stream",
     "text": [
      "Matches : 5\n",
      "Matches : ['1', '2', '3', '4', '5']\n"
     ]
    }
   ],
   "source": [
    "import re \n",
    "\n",
    "# ------------------ Matching Any Single Number -----------------\n",
    "# \\d can be used instead of [0-9]\n",
    "# \\D is the same as  [^0-9]\n",
    "\n",
    "randStr = \"12345\"\n",
    "\n",
    "print(\"Matches :\", len(re.findall(\"\\d\",randStr)))\n",
    "print(\"Matches :\", re.findall(\"\\d\",randStr))"
   ]
  },
  {
   "cell_type": "code",
   "execution_count": 67,
   "id": "9b1f29e3-c9f5-4a05-a740-1679b7d454cc",
   "metadata": {
    "tags": []
   },
   "outputs": [
    {
     "name": "stdout",
     "output_type": "stream",
     "text": [
      "It is a zip code\n",
      "Matches : 3\n",
      "Matches : ['12345', '123456', '1234567']\n"
     ]
    }
   ],
   "source": [
    "import re \n",
    "\n",
    "# ------------------ Matching Multiple Numbers -----------------\n",
    "# You can match multiple digits by following the  \\d with {numOfValues}\n",
    "\n",
    "# Match 5 numbers only\n",
    "\n",
    "if re.search(\"\\d{5}\",\"12345\"):\n",
    "    print(\"It is a zip code\")\n",
    "\n",
    "# You can also match within a range\n",
    "# Match values that are between 5 and 7 digits\n",
    "numStr = \"123 12345 123456 1234567\"\n",
    "\n",
    "print(\"Matches :\", len(re.findall(\"\\d{5,7}\",numStr)))\n",
    "print(\"Matches :\", re.findall(\"\\d{5,7}\",numStr))"
   ]
  },
  {
   "cell_type": "code",
   "execution_count": 68,
   "id": "6ebec57c-f071-44a2-b085-9b28490dff1a",
   "metadata": {
    "tags": []
   },
   "outputs": [
    {
     "name": "stdout",
     "output_type": "stream",
     "text": [
      "It is a phone number\n",
      "It is a valid name\n"
     ]
    }
   ],
   "source": [
    "import re \n",
    "\n",
    "# ------------------ Matching Any Single Letter or Numbers -----------------\n",
    "# \\w is the same as [a-zA-Z0-9]\n",
    "# \\W is the same as [^a-zA-Z0-9]\n",
    "\n",
    "phNum = \"412-555-1212\"\n",
    "\n",
    "# Check if it is a phone number\n",
    "if re.search(\"\\w{3}-\\w{3}-\\w{4}\",phNum):\n",
    "    print(\"It is a phone number\")\n",
    "\n",
    "# Chech for valid first name between 2 and 20 characters\n",
    "if re.search(\"\\w{3,20}\",\"Ultraman\"):\n",
    "    print(\"It is a valid name\")\n",
    "             "
   ]
  },
  {
   "cell_type": "code",
   "execution_count": 69,
   "id": "9805c1f3-08d4-4c6f-9311-774b3e65174f",
   "metadata": {
    "tags": []
   },
   "outputs": [
    {
     "name": "stdout",
     "output_type": "stream",
     "text": [
      "It is a valid full name\n"
     ]
    }
   ],
   "source": [
    "import re \n",
    "\n",
    "# ------------------ Matching Whitespace -----------------\n",
    "# \\s is the same as [\\f\\n\\r\\t\\v ]\n",
    "# \\S is the same as [^\\f\\n\\r\\t\\v ]\n",
    "\n",
    "# Check for valid first and last name with a space\n",
    "if re.search(\"\\w{2,20}\\s\\w{2,20}\",\"Toshio Muramatsu\"):\n",
    "    print(\"It is a valid full name\")"
   ]
  },
  {
   "cell_type": "code",
   "execution_count": 78,
   "id": "6b20dec4-dfe2-4680-8407-462e89668b8b",
   "metadata": {
    "tags": []
   },
   "outputs": [
    {
     "name": "stdout",
     "output_type": "stream",
     "text": [
      "Matches :  3\n",
      "Matches :  ['a', 'a', 'a']\n"
     ]
    }
   ],
   "source": [
    "import re \n",
    "\n",
    "# ------------------ Matching One or More -----------------\n",
    "# + matches 1 or more characters\n",
    "\n",
    "# Matches a followed by 1 or more characters\n",
    "print(\"Matches : \", len(re.findall(\"a+\",\"a as ape bug\")))\n",
    "print(\"Matches : \", re.findall(\"a+\",\"a as ape bug\"))"
   ]
  },
  {
   "cell_type": "code",
   "execution_count": 81,
   "id": "7fee2dd6-4b1e-4464-9b56-0b3264c4c4df",
   "metadata": {
    "tags": []
   },
   "outputs": [
    {
     "name": "stdout",
     "output_type": "stream",
     "text": [
      "Email Matches : 1\n",
      "Email Matches : ['db@aol.com']\n"
     ]
    }
   ],
   "source": [
    "import re\n",
    "# ------------------Problem-----------------\n",
    "# Create a Regex that matches email adressess from a list\n",
    "# 1. 1 to 20 lowercase and uppercase letters, numbers, plus ._%+-\n",
    "# 2. An @ symbol\n",
    "# 3. 2 to 20 lowercase and uppercase letters, numbers, plus .-\n",
    "# 4. A period\n",
    "# 5. 2 to 3 lowercase and uppercase letters\n",
    "\n",
    "emailList = \"db@aol.com m@.com @apple.com db@.com\"\n",
    "\n",
    "print(\"Email Matches :\",len(re.findall(\"[\\w._%+-]{1,20}@[\\w.-]{2,20}.[A-Za-z]{2,3}\",emailList)))\n",
    "print(\"Email Matches :\",re.findall(\"[\\w._%+-]{1,20}@[\\w.-]{2,20}.[A-Za-z]{2,3}\",emailList))"
   ]
  },
  {
   "cell_type": "markdown",
   "id": "86a42d60-c5fb-4618-a802-826509ef1d91",
   "metadata": {},
   "source": [
    "# List Comprehension"
   ]
  },
  {
   "cell_type": "code",
   "execution_count": 82,
   "id": "b208fdd4-0e71-4c8e-b432-33877abb50fe",
   "metadata": {
    "tags": []
   },
   "outputs": [
    {
     "name": "stdout",
     "output_type": "stream",
     "text": [
      "['h', 'u', 'm', 'a', 'n']\n"
     ]
    }
   ],
   "source": [
    "# Iterating a string through a for loop and adding the letters to a list\n",
    "h_letters = []\n",
    "\n",
    "for letter in 'human':\n",
    "    h_letters.append(letter)\n",
    "    \n",
    "print(h_letters)"
   ]
  },
  {
   "cell_type": "code",
   "execution_count": 84,
   "id": "3ff42e1a-a21b-4de2-98b0-3994ab7cce5e",
   "metadata": {
    "tags": []
   },
   "outputs": [
    {
     "name": "stdout",
     "output_type": "stream",
     "text": [
      "['h', 'u', 'm', 'a', 'n']\n"
     ]
    }
   ],
   "source": [
    "# using comprehension\n",
    "h_letters = [ letter for letter in 'human']\n",
    "print(h_letters)"
   ]
  },
  {
   "cell_type": "code",
   "execution_count": 94,
   "id": "8e041c59-92e7-4ee5-8b37-06250a421ef9",
   "metadata": {
    "tags": []
   },
   "outputs": [
    {
     "name": "stdout",
     "output_type": "stream",
     "text": [
      "['h', 'u', 'm', 'a', 'n']\n"
     ]
    }
   ],
   "source": [
    "# list comprehension vs Lambda Function (anonymous function)\n",
    "\n",
    "h_letters = list(map(lambda x : x, 'human'))\n",
    "print(h_letters)"
   ]
  },
  {
   "cell_type": "code",
   "execution_count": 87,
   "id": "6b3f2bac-3adf-492e-82f5-7bc752c27e00",
   "metadata": {
    "tags": []
   },
   "outputs": [
    {
     "name": "stdout",
     "output_type": "stream",
     "text": [
      "[0, 2, 4, 6, 8, 10, 12, 14, 16, 18]\n"
     ]
    }
   ],
   "source": [
    "# if with list comprehension\n",
    "number_list = [x for x in range(20) if x%2 ==0]\n",
    "print(number_list)"
   ]
  },
  {
   "cell_type": "code",
   "execution_count": 89,
   "id": "93b56961-84ef-4d25-b249-979c008dd200",
   "metadata": {
    "tags": []
   },
   "outputs": [
    {
     "name": "stdout",
     "output_type": "stream",
     "text": [
      "[0, 10, 20, 30, 40, 50, 60, 70, 80, 90]\n"
     ]
    }
   ],
   "source": [
    "# Nested if with list comprehension\n",
    "numb_list = [y for y in range(100) if y%2 ==0 if y% 5 == 0 ]\n",
    "print(numb_list)"
   ]
  },
  {
   "cell_type": "code",
   "execution_count": 92,
   "id": "2a562b7e-71f0-497e-9aa4-769234db4980",
   "metadata": {
    "tags": []
   },
   "outputs": [
    {
     "name": "stdout",
     "output_type": "stream",
     "text": [
      "['Even', 'Odd', 'Even', 'Odd', 'Even', 'Odd', 'Even', 'Odd', 'Even', 'Odd']\n"
     ]
    }
   ],
   "source": [
    "# if..Else with list comprehension\n",
    "obj = ['Even' if i%2 ==0  else \"Odd\" for i in range(10) ]\n",
    "print(obj)"
   ]
  },
  {
   "cell_type": "code",
   "execution_count": 93,
   "id": "2506bcf0-fbf3-44e7-802e-4f9c1a2d5546",
   "metadata": {
    "tags": []
   },
   "outputs": [
    {
     "name": "stdout",
     "output_type": "stream",
     "text": [
      "[[1, 3, 5, 7], [2, 4, 6, 8]]\n"
     ]
    }
   ],
   "source": [
    "# Transposing a matric=x using list comprehension\n",
    "matrix = [[1,2],[3,4],[5,6],[7,8]]\n",
    "transpose =  [[row[i] for row in matrix] for i in range(2)]\n",
    "print(transpose)"
   ]
  },
  {
   "cell_type": "markdown",
   "id": "f3445b67-d164-4e12-906f-62f2f4bcd8d5",
   "metadata": {},
   "source": [
    "# Python Recursion"
   ]
  },
  {
   "cell_type": "code",
   "execution_count": 99,
   "id": "4be50a24-cddc-48bb-9f79-8fc29410adc3",
   "metadata": {
    "tags": []
   },
   "outputs": [
    {
     "name": "stdout",
     "output_type": "stream",
     "text": [
      "Fcatorial of 5 is  120\n"
     ]
    }
   ],
   "source": [
    "def fact(n):\n",
    "    if n <= 1 :\n",
    "        return 1\n",
    "    return n * fact(n-1)\n",
    "\n",
    "print(\"Fcatorial of 5 is \",fact(5))"
   ]
  },
  {
   "cell_type": "markdown",
   "id": "9208e11e-4ad4-4547-9707-f20ed0fffc9b",
   "metadata": {},
   "source": [
    "# Python Input Output and Import"
   ]
  },
  {
   "cell_type": "code",
   "execution_count": 100,
   "id": "94fe2cff-fc2f-4042-9fec-6145b4503077",
   "metadata": {
    "tags": []
   },
   "outputs": [
    {
     "name": "stdout",
     "output_type": "stream",
     "text": [
      "This sentence is output to the screen\n",
      "The value of a is : 5\n",
      "1 2 3 4\n"
     ]
    }
   ],
   "source": [
    "# print function and it's usage\n",
    "\n",
    "print('This sentence is output to the screen')\n",
    "# Output : This sentence is output to the screen\n",
    "\n",
    "a = 5 \n",
    "\n",
    "print('The value of a is :',a)\n",
    "# Output : The value of a is : 5\n",
    "\n",
    "print(1,2,3,4)\n",
    "# Output : 1 2 3 4 "
   ]
  },
  {
   "cell_type": "code",
   "execution_count": 107,
   "id": "201181a7-b2c0-4e70-a345-f0352a662ffa",
   "metadata": {
    "tags": []
   },
   "outputs": [
    {
     "name": "stdout",
     "output_type": "stream",
     "text": [
      "1*2*3*4\n",
      "1*2*3*4&\n",
      "I love bread & and butter\n",
      "I love butter & and bread\n"
     ]
    }
   ],
   "source": [
    "print(1,2,3,4,sep='*')\n",
    "# Output : 1*2*3*4\n",
    "\n",
    "print(1,2,3,4,sep='*', end='&')\n",
    "# Output : 1*2*3*4&\n",
    "\n",
    "print()\n",
    "print('I love {0} & and {1}'.format('bread','butter'))\n",
    "# Output : I love bread & and butter\n",
    "\n",
    "print('I love {1} & and {0}'.format('bread','butter'))\n",
    "# Output : I love butter & and bread"
   ]
  },
  {
   "cell_type": "code",
   "execution_count": 112,
   "id": "3d656ad0-ba05-43b1-a236-fb54d877a901",
   "metadata": {
    "tags": []
   },
   "outputs": [
    {
     "name": "stdin",
     "output_type": "stream",
     "text": [
      "Please enter any number 5\n"
     ]
    },
    {
     "name": "stdout",
     "output_type": "stream",
     "text": [
      "5\n"
     ]
    },
    {
     "name": "stdin",
     "output_type": "stream",
     "text": [
      "Please enter any number 4\n"
     ]
    },
    {
     "name": "stdout",
     "output_type": "stream",
     "text": [
      "4\n",
      "9\n"
     ]
    }
   ],
   "source": [
    "# input\n",
    "\n",
    "x = input('Please enter any number')\n",
    "print(x)\n",
    "\n",
    "y = int(input('Please enter any number'))\n",
    "print(y)\n",
    "print(int(x) + y )"
   ]
  },
  {
   "cell_type": "code",
   "execution_count": 113,
   "id": "95610f3f-eb37-4d5c-a9a3-78305aa16ec0",
   "metadata": {
    "tags": []
   },
   "outputs": [
    {
     "name": "stdout",
     "output_type": "stream",
     "text": [
      "25.0\n"
     ]
    }
   ],
   "source": [
    "# importing module\n",
    "import math # mainly done at the top of the program\n",
    "print(math.pow(int(x),2))"
   ]
  },
  {
   "cell_type": "markdown",
   "id": "d3d0f463-1d82-406e-a8ae-30e5d005a4de",
   "metadata": {},
   "source": [
    "# Read and Write Operations File"
   ]
  },
  {
   "cell_type": "markdown",
   "id": "acd80fb6-4147-4da5-8d33-14b51289ddbb",
   "metadata": {
    "tags": []
   },
   "source": []
  },
  {
   "cell_type": "markdown",
   "id": "c09e007a-75c2-4e15-b697-6b2c149333f9",
   "metadata": {},
   "source": [
    "# Python Shallow and Deep Copy"
   ]
  },
  {
   "cell_type": "code",
   "execution_count": 116,
   "id": "37fb8a8e-a43b-469d-b4ae-3ae6b5fe2a12",
   "metadata": {
    "tags": []
   },
   "outputs": [
    {
     "name": "stdout",
     "output_type": "stream",
     "text": [
      "List1 -> [[1, 2, 3], [4, 5, 6], [7, 8, 9]]\n",
      "List2 -> [[1, 2, 3], [4, 5, 6], [7, 8, 9]]\n",
      "id of List1 -> 2008967057864\n",
      "id of List2 -> 2008967057864\n",
      "List1 -> [[1, 2, 3], [4, 5, 6], [7, 8, 9], [10, 11, 12]]\n",
      "List2 -> [[1, 2, 3], [4, 5, 6], [7, 8, 9], [10, 11, 12]]\n"
     ]
    }
   ],
   "source": [
    "list1 = [[1,2,3],[4,5,6],[7,8,9]]\n",
    "list2 = list1\n",
    "print(\"List1 ->\", list1)\n",
    "print(\"List2 ->\", list2)\n",
    "print(\"id of List1 ->\", id(list1))\n",
    "print(\"id of List2 ->\", id(list2))\n",
    "\n",
    "list1.append([10,11,12])\n",
    "print(\"List1 ->\", list1)\n",
    "print(\"List2 ->\", list2)"
   ]
  },
  {
   "cell_type": "code",
   "execution_count": 120,
   "id": "d28e0037-1fd8-48c7-b235-ca945ed2b2b0",
   "metadata": {
    "tags": []
   },
   "outputs": [
    {
     "name": "stdout",
     "output_type": "stream",
     "text": [
      "old_list : [[1, 2, 3], [4, 5, 6], [7, 8, 9]]\n",
      "new_list : [[1, 2, 3], [4, 5, 6], [7, 8, 9]]\n"
     ]
    }
   ],
   "source": [
    "# Creating a copy ussing Shaloow Copy\n",
    "import copy\n",
    "\n",
    "old_list = [[1,2,3],[4,5,6],[7,8,9]]\n",
    "new_list = copy.copy(old_list)\n",
    "\n",
    "print(\"old_list :\", old_list)\n",
    "print(\"new_list :\", new_list)"
   ]
  },
  {
   "cell_type": "code",
   "execution_count": 121,
   "id": "961c1960-7045-478a-a430-669b4dc6e812",
   "metadata": {
    "tags": []
   },
   "outputs": [
    {
     "name": "stdout",
     "output_type": "stream",
     "text": [
      "Old list: [[1, 2, 3], [4, 5, 6], [7, 8, 9], [4, 4, 4]]\n",
      "new_list: [[1, 2, 3], [4, 5, 6], [7, 8, 9]]\n",
      "Old list: [[1, 2, 3], [4, 'AA', 6], [7, 8, 9], [4, 4, 4]]\n",
      "new_list: [[1, 2, 3], [4, 'AA', 6], [7, 8, 9]]\n",
      "Old list: [[1, 2, 3], [4, 'AA', 6], [7, 8, 9], [4, 'BB', 4]]\n",
      "new_list: [[1, 2, 3], [4, 'AA', 6], [7, 8, 9]]\n"
     ]
    }
   ],
   "source": [
    "# Adding elements to the old_list using shallow copy\n",
    "old_list.append([4,4,4])\n",
    "print(\"Old list:\",old_list)\n",
    "print(\"new_list:\",new_list)\n",
    "\n",
    "# Adding new nested object using shallow copy\n",
    "old_list[1][1] = 'AA'\n",
    "print(\"Old list:\",old_list)\n",
    "print(\"new_list:\",new_list)\n",
    "\n",
    "old_list[3][1] = 'BB'\n",
    "print(\"Old list:\",old_list)\n",
    "print(\"new_list:\",new_list)"
   ]
  },
  {
   "cell_type": "code",
   "execution_count": 123,
   "id": "10724028-c136-401c-aca0-ce7215643915",
   "metadata": {
    "tags": []
   },
   "outputs": [
    {
     "name": "stdout",
     "output_type": "stream",
     "text": [
      "id of old_list -> 2008966832648\n",
      "id of old_list -> 2008966867464\n",
      "Old list: [[1, 1, 1], [2, 2, 2], [3, 3, 3]]\n",
      "new_list: [[1, 1, 1], [2, 2, 2], [3, 3, 3]]\n"
     ]
    }
   ],
   "source": [
    "# Copying a list using deepcopy()\n",
    "import copy\n",
    "old_list = [[1,1,1],[2,2,2],[3,3,3]]\n",
    "new_list = copy.deepcopy(old_list)\n",
    "\n",
    "print(\"id of old_list ->\", id(old_list))\n",
    "print(\"id of old_list ->\", id(new_list))\n",
    "\n",
    "print(\"Old list:\",old_list)\n",
    "print(\"new_list:\",new_list)"
   ]
  },
  {
   "cell_type": "code",
   "execution_count": 124,
   "id": "453fa896-b23d-4e84-bb42-1609c865aa37",
   "metadata": {
    "tags": []
   },
   "outputs": [
    {
     "name": "stdout",
     "output_type": "stream",
     "text": [
      "Old list: [[1, 1, 1], ['BB', 2, 2], [3, 3, 3]]\n",
      "new_list: [[1, 1, 1], [2, 2, 2], [3, 3, 3]]\n"
     ]
    }
   ],
   "source": [
    "# Adding a new nested object in the list using Deep Copy\n",
    "old_list[1][0] = 'BB'\n",
    "\n",
    "print(\"Old list:\",old_list)\n",
    "print(\"new_list:\",new_list)"
   ]
  },
  {
   "cell_type": "markdown",
   "id": "43a9be01-0189-477c-82ca-96312fa23d39",
   "metadata": {},
   "source": [
    "# Python lambda Functions"
   ]
  },
  {
   "cell_type": "code",
   "execution_count": 129,
   "id": "719a3ada-3aa8-4943-a347-12cf56e69b11",
   "metadata": {
    "tags": []
   },
   "outputs": [
    {
     "name": "stdout",
     "output_type": "stream",
     "text": [
      "Double of 10 is  20\n"
     ]
    }
   ],
   "source": [
    "a = lambda x : x*2\n",
    "                # In python, anonymous function is a function that is defined without a name.\n",
    "                # It is defined by lambda\n",
    "print(\"Double of 10 is \",a(10))"
   ]
  },
  {
   "cell_type": "code",
   "execution_count": 131,
   "id": "641045e6-9f56-4891-aad6-7686b30fb1d7",
   "metadata": {
    "tags": []
   },
   "outputs": [
    {
     "name": "stdout",
     "output_type": "stream",
     "text": [
      "[4, 6, 8, 12]\n"
     ]
    }
   ],
   "source": [
    "# Making a new list by taking only the even numbers from the old list\n",
    "\n",
    "my_list = [1,5,4,6,8,11,3,12]\n",
    "new_list = list(filter(lambda x : (x%2==0),my_list))\n",
    "            # filter function is called with all the items in the list and a new list\n",
    "            # is returned which contains items for which the function evaluats to True.\n",
    "    \n",
    "    # Output : [4, 6, 8, 12]\n",
    "    \n",
    "print(new_list)"
   ]
  },
  {
   "cell_type": "code",
   "execution_count": 132,
   "id": "602cf880-13d3-49a7-9c42-0e2bd720d011",
   "metadata": {
    "tags": []
   },
   "outputs": [
    {
     "name": "stdout",
     "output_type": "stream",
     "text": [
      "[2, 10, 8, 12, 16, 22, 6, 24]\n"
     ]
    }
   ],
   "source": [
    "# Programm to double each item in a list using map()\n",
    "\n",
    "my_list = [1,5,4,6,8,11,3,12]\n",
    "\n",
    "new_list = list(map(lambda x: x * 2, my_list))\n",
    "\n",
    "# Output : [2,10,8,12,16,22,6,24]\n",
    "\n",
    "print(new_list)"
   ]
  },
  {
   "cell_type": "markdown",
   "id": "9cb51768-a6ab-413d-8dd9-859fefa116bc",
   "metadata": {},
   "source": [
    "# Python Assertion"
   ]
  },
  {
   "cell_type": "code",
   "execution_count": 134,
   "id": "c4f367ed-f795-427a-ab84-72d9f5fef03a",
   "metadata": {
    "tags": []
   },
   "outputs": [
    {
     "name": "stdout",
     "output_type": "stream",
     "text": [
      "Average of mark1:  22.0\n"
     ]
    },
    {
     "ename": "AssertionError",
     "evalue": "",
     "output_type": "error",
     "traceback": [
      "\u001b[1;31m---------------------------------------------------------------------------\u001b[0m",
      "\u001b[1;31mAssertionError\u001b[0m                            Traceback (most recent call last)",
      "\u001b[1;32m~\\AppData\\Local\\Temp\\ipykernel_8916\\443304637.py\u001b[0m in \u001b[0;36m<module>\u001b[1;34m\u001b[0m\n\u001b[0;32m     10\u001b[0m \u001b[1;33m\u001b[0m\u001b[0m\n\u001b[0;32m     11\u001b[0m \u001b[0mmark1\u001b[0m \u001b[1;33m=\u001b[0m \u001b[1;33m[\u001b[0m\u001b[1;33m]\u001b[0m\u001b[1;33m\u001b[0m\u001b[1;33m\u001b[0m\u001b[0m\n\u001b[1;32m---> 12\u001b[1;33m \u001b[0mprint\u001b[0m\u001b[1;33m(\u001b[0m\u001b[1;34m\"Average of mark1: \"\u001b[0m\u001b[1;33m,\u001b[0m\u001b[0mavg\u001b[0m\u001b[1;33m(\u001b[0m\u001b[0mmark1\u001b[0m\u001b[1;33m)\u001b[0m\u001b[1;33m)\u001b[0m\u001b[1;33m\u001b[0m\u001b[1;33m\u001b[0m\u001b[0m\n\u001b[0m",
      "\u001b[1;32m~\\AppData\\Local\\Temp\\ipykernel_8916\\443304637.py\u001b[0m in \u001b[0;36mavg\u001b[1;34m(marks)\u001b[0m\n\u001b[0;32m      3\u001b[0m \u001b[1;33m\u001b[0m\u001b[0m\n\u001b[0;32m      4\u001b[0m \u001b[1;32mdef\u001b[0m \u001b[0mavg\u001b[0m\u001b[1;33m(\u001b[0m\u001b[0mmarks\u001b[0m\u001b[1;33m)\u001b[0m\u001b[1;33m:\u001b[0m\u001b[1;33m\u001b[0m\u001b[1;33m\u001b[0m\u001b[0m\n\u001b[1;32m----> 5\u001b[1;33m     \u001b[1;32massert\u001b[0m \u001b[0mlen\u001b[0m\u001b[1;33m(\u001b[0m\u001b[0mmarks\u001b[0m\u001b[1;33m)\u001b[0m \u001b[1;33m!=\u001b[0m\u001b[1;36m0\u001b[0m  \u001b[1;31m# if condition is true not assertion but isn't true assertion throws an exception\u001b[0m\u001b[1;33m\u001b[0m\u001b[1;33m\u001b[0m\u001b[0m\n\u001b[0m\u001b[0;32m      6\u001b[0m     \u001b[1;32mreturn\u001b[0m \u001b[0msum\u001b[0m\u001b[1;33m(\u001b[0m\u001b[0mmarks\u001b[0m\u001b[1;33m)\u001b[0m\u001b[1;33m/\u001b[0m\u001b[0mlen\u001b[0m\u001b[1;33m(\u001b[0m\u001b[0mmarks\u001b[0m\u001b[1;33m)\u001b[0m\u001b[1;33m\u001b[0m\u001b[1;33m\u001b[0m\u001b[0m\n\u001b[0;32m      7\u001b[0m \u001b[1;33m\u001b[0m\u001b[0m\n",
      "\u001b[1;31mAssertionError\u001b[0m: "
     ]
    }
   ],
   "source": [
    "# Assertion without error message\n",
    "\n",
    "\n",
    "def avg(marks):\n",
    "    assert len(marks) !=0  # if condition is true not assertion but isn't true assertion throws an exception\n",
    "    return sum(marks)/len(marks)\n",
    "               \n",
    "mark1 = [11,22,33]\n",
    "print(\"Average of mark1: \",avg(mark1))\n",
    "\n",
    "mark1 = []\n",
    "print(\"Average of mark1: \",avg(mark1))"
   ]
  },
  {
   "cell_type": "code",
   "execution_count": 136,
   "id": "d701dde1-7b7c-440a-b3fd-16e9802f8c20",
   "metadata": {
    "tags": []
   },
   "outputs": [
    {
     "name": "stdout",
     "output_type": "stream",
     "text": [
      "Average of mark2:  78.2\n"
     ]
    },
    {
     "ename": "AssertionError",
     "evalue": "List is empty",
     "output_type": "error",
     "traceback": [
      "\u001b[1;31m---------------------------------------------------------------------------\u001b[0m",
      "\u001b[1;31mAssertionError\u001b[0m                            Traceback (most recent call last)",
      "\u001b[1;32m~\\AppData\\Local\\Temp\\ipykernel_8916\\324120490.py\u001b[0m in \u001b[0;36m<module>\u001b[1;34m\u001b[0m\n\u001b[0;32m      8\u001b[0m \u001b[1;33m\u001b[0m\u001b[0m\n\u001b[0;32m      9\u001b[0m \u001b[0mmark1\u001b[0m \u001b[1;33m=\u001b[0m \u001b[1;33m[\u001b[0m\u001b[1;33m]\u001b[0m\u001b[1;33m\u001b[0m\u001b[1;33m\u001b[0m\u001b[0m\n\u001b[1;32m---> 10\u001b[1;33m \u001b[0mprint\u001b[0m\u001b[1;33m(\u001b[0m\u001b[1;34m\"Average of mark2: \"\u001b[0m\u001b[1;33m,\u001b[0m\u001b[0mavg\u001b[0m\u001b[1;33m(\u001b[0m\u001b[0mmark1\u001b[0m\u001b[1;33m)\u001b[0m\u001b[1;33m)\u001b[0m\u001b[1;33m\u001b[0m\u001b[1;33m\u001b[0m\u001b[0m\n\u001b[0m",
      "\u001b[1;32m~\\AppData\\Local\\Temp\\ipykernel_8916\\324120490.py\u001b[0m in \u001b[0;36mavg\u001b[1;34m(marks)\u001b[0m\n\u001b[0;32m      1\u001b[0m \u001b[1;31m# Using assert with error message\u001b[0m\u001b[1;33m\u001b[0m\u001b[1;33m\u001b[0m\u001b[1;33m\u001b[0m\u001b[0m\n\u001b[0;32m      2\u001b[0m \u001b[1;32mdef\u001b[0m \u001b[0mavg\u001b[0m\u001b[1;33m(\u001b[0m\u001b[0mmarks\u001b[0m\u001b[1;33m)\u001b[0m\u001b[1;33m:\u001b[0m\u001b[1;33m\u001b[0m\u001b[1;33m\u001b[0m\u001b[0m\n\u001b[1;32m----> 3\u001b[1;33m     \u001b[1;32massert\u001b[0m \u001b[0mlen\u001b[0m\u001b[1;33m(\u001b[0m\u001b[0mmarks\u001b[0m\u001b[1;33m)\u001b[0m \u001b[1;33m!=\u001b[0m\u001b[1;36m0\u001b[0m\u001b[1;33m,\u001b[0m \u001b[1;34m\"List is empty\"\u001b[0m\u001b[1;33m\u001b[0m\u001b[1;33m\u001b[0m\u001b[0m\n\u001b[0m\u001b[0;32m      4\u001b[0m     \u001b[1;32mreturn\u001b[0m \u001b[0msum\u001b[0m\u001b[1;33m(\u001b[0m\u001b[0mmarks\u001b[0m\u001b[1;33m)\u001b[0m\u001b[1;33m/\u001b[0m\u001b[0mlen\u001b[0m\u001b[1;33m(\u001b[0m\u001b[0mmarks\u001b[0m\u001b[1;33m)\u001b[0m\u001b[1;33m\u001b[0m\u001b[1;33m\u001b[0m\u001b[0m\n\u001b[0;32m      5\u001b[0m \u001b[1;33m\u001b[0m\u001b[0m\n",
      "\u001b[1;31mAssertionError\u001b[0m: List is empty"
     ]
    }
   ],
   "source": [
    "# Using assert with error message\n",
    "def avg(marks):\n",
    "    assert len(marks) !=0, \"List is empty\" # Optional message\n",
    "    return sum(marks)/len(marks)\n",
    "               \n",
    "mark2 = [55,88,79,90,79]\n",
    "print(\"Average of mark2: \",avg(mark2))\n",
    "\n",
    "mark1 = []\n",
    "print(\"Average of mark2: \",avg(mark1))"
   ]
  },
  {
   "cell_type": "code",
   "execution_count": null,
   "id": "5cd73929-dee6-4fa0-9d17-e99033c7da35",
   "metadata": {},
   "outputs": [],
   "source": []
  }
 ],
 "metadata": {
  "kernelspec": {
   "display_name": "Python 3 (ipykernel)",
   "language": "python",
   "name": "python3"
  },
  "language_info": {
   "codemirror_mode": {
    "name": "ipython",
    "version": 3
   },
   "file_extension": ".py",
   "mimetype": "text/x-python",
   "name": "python",
   "nbconvert_exporter": "python",
   "pygments_lexer": "ipython3",
   "version": "3.7.4"
  },
  "toc-autonumbering": true,
  "toc-showcode": false,
  "toc-showtags": false,
  "vscode": {
   "interpreter": {
    "hash": "275ca96c9c85a6acf6f3d36c1f564a5e4305dc5d7ed195c1247128487e4bef14"
   }
  }
 },
 "nbformat": 4,
 "nbformat_minor": 5
}
