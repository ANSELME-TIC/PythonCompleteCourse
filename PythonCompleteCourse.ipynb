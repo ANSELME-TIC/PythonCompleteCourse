{
 "cells": [
  {
   "cell_type": "code",
   "execution_count": 1,
   "id": "fee0a1c8-427a-4485-91ed-ec61ae3e98cd",
   "metadata": {},
   "outputs": [],
   "source": [
    "# Declaring and assigning value to constant\n",
    "PI = 3.14\n",
    "GRAVITY = 9.8"
   ]
  },
  {
   "cell_type": "code",
   "execution_count": 2,
   "id": "dc7059e4-6cf1-45f5-bba6-3b1c8c252b4d",
   "metadata": {},
   "outputs": [
    {
     "name": "stdout",
     "output_type": "stream",
     "text": [
      "Apple\n",
      "Aeroplane\n",
      "100\n",
      "1 2.5 Hello\n",
      "5 5 5\n"
     ]
    }
   ],
   "source": [
    "# Declaring and assigning value to constant\n",
    "\n",
    "a = \"Apple\"\n",
    "print(a)\n",
    "\n",
    "# Changing value of a variable\n",
    "\n",
    "a = \"Aeroplane\"\n",
    "print(a)\n",
    "\n",
    "a = 100\n",
    "print(a)\n",
    "\n",
    "# Python is a dynamic type language\n",
    "\n",
    "#Assigning Multiple values to a variable\n",
    "\n",
    "b,c,d = 1,2.5, \"Hello\"\n",
    "print(b,c,d)\n",
    "\n",
    "# Assigning same value to multiple variables\n",
    "b = c = d = 5\n",
    "print(b,c,d)"
   ]
  },
  {
   "cell_type": "code",
   "execution_count": 12,
   "id": "4b63aef2-2819-4bec-af93-949cd3101c16",
   "metadata": {},
   "outputs": [],
   "source": [
    "#Learn Class and object\n",
    "class MyComplexNumber:\n",
    "    #Constructor methods\n",
    "    def __init__(self,real = 0, imag = 0):\n",
    "        print(\"MyComplexNumber constructor executing....\")\n",
    "        self.real_part = real\n",
    "        self.imag_part = imag\n",
    "        \n",
    "    def displayComplex(self):\n",
    "        print(\"{0} + {1}j\".format(self.real_part,self.imag_part))"
   ]
  },
  {
   "cell_type": "code",
   "execution_count": 13,
   "id": "6f0f5f29-9787-47fa-a4d6-15d096afcd47",
   "metadata": {},
   "outputs": [
    {
     "name": "stdout",
     "output_type": "stream",
     "text": [
      "MyComplexNumber constructor executing....\n",
      "40 + 50j\n"
     ]
    }
   ],
   "source": [
    "# Create a new object against MyComplexNumber class\n",
    "cmplx1 = MyComplexNumber(40,50)\n",
    "\n",
    "#Calling displayComplex() function\n",
    "#Output: 40 + 50j\n",
    "\n",
    "cmplx1.displayComplex()"
   ]
  },
  {
   "cell_type": "code",
   "execution_count": 14,
   "id": "1a3420d9-8cca-4236-9511-f11cc511726b",
   "metadata": {},
   "outputs": [
    {
     "name": "stdout",
     "output_type": "stream",
     "text": [
      "MyComplexNumber constructor executing....\n",
      "60 + 75j\n",
      "(60, 75, 90)\n"
     ]
    }
   ],
   "source": [
    "# Create another object against MyComplexNumber class\n",
    "# and create a new attribute 'new_attribute'\n",
    "\n",
    "cmplx2 = MyComplexNumber(60,75)\n",
    "cmplx2.new_attribute = 90\n",
    "cmplx2.displayComplex()\n",
    "#Output: (60, 75, 90 )\n",
    "print((cmplx2.real_part,cmplx2.imag_part,cmplx2.new_attribute))"
   ]
  },
  {
   "cell_type": "code",
   "execution_count": 15,
   "id": "6b16b42a-0516-4a20-8caf-eb3afd89a242",
   "metadata": {},
   "outputs": [
    {
     "ename": "AttributeError",
     "evalue": "'MyComplexNumber' object has no attribute 'new_attribute'",
     "output_type": "error",
     "traceback": [
      "\u001b[1;31m---------------------------------------------------------------------------\u001b[0m",
      "\u001b[1;31mAttributeError\u001b[0m                            Traceback (most recent call last)",
      "\u001b[1;32m~\\AppData\\Local\\Temp\\ipykernel_12776\\3914347207.py\u001b[0m in \u001b[0;36m<module>\u001b[1;34m\u001b[0m\n\u001b[0;32m      1\u001b[0m \u001b[1;31m#But cmpx1 doesn't new attribute 'new_attribute'\u001b[0m\u001b[1;33m\u001b[0m\u001b[1;33m\u001b[0m\u001b[1;33m\u001b[0m\u001b[0m\n\u001b[0;32m      2\u001b[0m \u001b[1;31m# AttributeError: 'MyComplexNumber' object has no attribute 'new_attribute'\u001b[0m\u001b[1;33m\u001b[0m\u001b[1;33m\u001b[0m\u001b[1;33m\u001b[0m\u001b[0m\n\u001b[1;32m----> 3\u001b[1;33m \u001b[0mcmplx1\u001b[0m\u001b[1;33m.\u001b[0m\u001b[0mnew_attribute\u001b[0m\u001b[1;33m\u001b[0m\u001b[1;33m\u001b[0m\u001b[0m\n\u001b[0m",
      "\u001b[1;31mAttributeError\u001b[0m: 'MyComplexNumber' object has no attribute 'new_attribute'"
     ]
    }
   ],
   "source": [
    "#But cmpx1 doesn't new attribute 'new_attribute'\n",
    "# AttributeError: 'MyComplexNumber' object has no attribute 'new_attribute'\n",
    "cmplx1.new_attribute"
   ]
  },
  {
   "cell_type": "code",
   "execution_count": 16,
   "id": "d5ea2782-78ef-4e19-91d5-c9fa096ddee5",
   "metadata": {},
   "outputs": [],
   "source": [
    "# Deleting object attributes and the object\n",
    "del cmplx1.real_part\n",
    "del cmplx1"
   ]
  },
  {
   "cell_type": "code",
   "execution_count": 17,
   "id": "d8e57e94-5fbd-4722-a779-b174c460f437",
   "metadata": {},
   "outputs": [
    {
     "ename": "NameError",
     "evalue": "name 'cmplx1' is not defined",
     "output_type": "error",
     "traceback": [
      "\u001b[1;31m---------------------------------------------------------------------------\u001b[0m",
      "\u001b[1;31mNameError\u001b[0m                                 Traceback (most recent call last)",
      "\u001b[1;32m~\\AppData\\Local\\Temp\\ipykernel_12776\\787859639.py\u001b[0m in \u001b[0;36m<module>\u001b[1;34m\u001b[0m\n\u001b[1;32m----> 1\u001b[1;33m \u001b[0mprint\u001b[0m\u001b[1;33m(\u001b[0m\u001b[0mcmplx1\u001b[0m\u001b[1;33m)\u001b[0m\u001b[1;33m\u001b[0m\u001b[1;33m\u001b[0m\u001b[0m\n\u001b[0m",
      "\u001b[1;31mNameError\u001b[0m: name 'cmplx1' is not defined"
     ]
    }
   ],
   "source": [
    "print(cmplx1)"
   ]
  },
  {
   "cell_type": "code",
   "execution_count": null,
   "id": "ba107e15-a120-440e-bafc-0a26bf82d588",
   "metadata": {},
   "outputs": [],
   "source": []
  }
 ],
 "metadata": {
  "kernelspec": {
   "display_name": "Python 3 (ipykernel)",
   "language": "python",
   "name": "python3"
  },
  "language_info": {
   "codemirror_mode": {
    "name": "ipython",
    "version": 3
   },
   "file_extension": ".py",
   "mimetype": "text/x-python",
   "name": "python",
   "nbconvert_exporter": "python",
   "pygments_lexer": "ipython3",
   "version": "3.7.4"
  }
 },
 "nbformat": 4,
 "nbformat_minor": 5
}
