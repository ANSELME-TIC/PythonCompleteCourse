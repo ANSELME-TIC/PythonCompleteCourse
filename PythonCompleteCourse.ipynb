{
 "cells": [
  {
   "cell_type": "markdown",
   "id": "94c4ae42-8ce1-4e77-b6d7-ba586ffc40a6",
   "metadata": {},
   "source": [
    "# Variables and Constantes"
   ]
  },
  {
   "cell_type": "code",
   "execution_count": null,
   "id": "ba12bdd9-1bae-498a-ac51-f734f5a96082",
   "metadata": {},
   "outputs": [],
   "source": [
    "# Declaring and assigning value to constant\n",
    "PI = 3.14\n",
    "GRAVITY = 9.8"
   ]
  },
  {
   "cell_type": "code",
   "execution_count": 2,
   "id": "dc7059e4-6cf1-45f5-bba6-3b1c8c252b4d",
   "metadata": {},
   "outputs": [
    {
     "name": "stdout",
     "output_type": "stream",
     "text": [
      "Apple\n",
      "Aeroplane\n",
      "100\n",
      "1 2.5 Hello\n",
      "5 5 5\n"
     ]
    }
   ],
   "source": [
    "# Declaring and assigning value to constant\n",
    "\n",
    "a = \"Apple\"\n",
    "print(a)\n",
    "\n",
    "# Changing value of a variable\n",
    "\n",
    "a = \"Aeroplane\"\n",
    "print(a)\n",
    "\n",
    "a = 100\n",
    "print(a)\n",
    "\n",
    "# Python is a dynamic type language\n",
    "\n",
    "#Assigning Multiple values to a variable\n",
    "\n",
    "b,c,d = 1,2.5, \"Hello\"\n",
    "print(b,c,d)\n",
    "\n",
    "# Assigning same value to multiple variables\n",
    "b = c = d = 5\n",
    "print(b,c,d)"
   ]
  },
  {
   "cell_type": "markdown",
   "id": "138917f5-e8bb-4a08-ac9c-fe9c3bead7a9",
   "metadata": {},
   "source": [
    "# Class and Object"
   ]
  },
  {
   "cell_type": "code",
   "execution_count": 12,
   "id": "4b63aef2-2819-4bec-af93-949cd3101c16",
   "metadata": {},
   "outputs": [],
   "source": [
    "#Learn Class and object\n",
    "class MyComplexNumber:\n",
    "    #Constructor methods\n",
    "    def __init__(self,real = 0, imag = 0):\n",
    "        print(\"MyComplexNumber constructor executing....\")\n",
    "        self.real_part = real\n",
    "        self.imag_part = imag\n",
    "        \n",
    "    def displayComplex(self):\n",
    "        print(\"{0} + {1}j\".format(self.real_part,self.imag_part))"
   ]
  },
  {
   "cell_type": "code",
   "execution_count": 13,
   "id": "6f0f5f29-9787-47fa-a4d6-15d096afcd47",
   "metadata": {},
   "outputs": [
    {
     "name": "stdout",
     "output_type": "stream",
     "text": [
      "MyComplexNumber constructor executing....\n",
      "40 + 50j\n"
     ]
    }
   ],
   "source": [
    "# Create a new object against MyComplexNumber class\n",
    "cmplx1 = MyComplexNumber(40,50)\n",
    "\n",
    "#Calling displayComplex() function\n",
    "#Output: 40 + 50j\n",
    "\n",
    "cmplx1.displayComplex()"
   ]
  },
  {
   "cell_type": "code",
   "execution_count": 14,
   "id": "1a3420d9-8cca-4236-9511-f11cc511726b",
   "metadata": {},
   "outputs": [
    {
     "name": "stdout",
     "output_type": "stream",
     "text": [
      "MyComplexNumber constructor executing....\n",
      "60 + 75j\n",
      "(60, 75, 90)\n"
     ]
    }
   ],
   "source": [
    "# Create another object against MyComplexNumber class\n",
    "# and create a new attribute 'new_attribute'\n",
    "\n",
    "cmplx2 = MyComplexNumber(60,75)\n",
    "cmplx2.new_attribute = 90\n",
    "cmplx2.displayComplex()\n",
    "#Output: (60, 75, 90 )\n",
    "print((cmplx2.real_part,cmplx2.imag_part,cmplx2.new_attribute))"
   ]
  },
  {
   "cell_type": "code",
   "execution_count": 15,
   "id": "6b16b42a-0516-4a20-8caf-eb3afd89a242",
   "metadata": {},
   "outputs": [
    {
     "ename": "AttributeError",
     "evalue": "'MyComplexNumber' object has no attribute 'new_attribute'",
     "output_type": "error",
     "traceback": [
      "\u001b[1;31m---------------------------------------------------------------------------\u001b[0m",
      "\u001b[1;31mAttributeError\u001b[0m                            Traceback (most recent call last)",
      "\u001b[1;32m~\\AppData\\Local\\Temp\\ipykernel_12776\\3914347207.py\u001b[0m in \u001b[0;36m<module>\u001b[1;34m\u001b[0m\n\u001b[0;32m      1\u001b[0m \u001b[1;31m#But cmpx1 doesn't new attribute 'new_attribute'\u001b[0m\u001b[1;33m\u001b[0m\u001b[1;33m\u001b[0m\u001b[1;33m\u001b[0m\u001b[0m\n\u001b[0;32m      2\u001b[0m \u001b[1;31m# AttributeError: 'MyComplexNumber' object has no attribute 'new_attribute'\u001b[0m\u001b[1;33m\u001b[0m\u001b[1;33m\u001b[0m\u001b[1;33m\u001b[0m\u001b[0m\n\u001b[1;32m----> 3\u001b[1;33m \u001b[0mcmplx1\u001b[0m\u001b[1;33m.\u001b[0m\u001b[0mnew_attribute\u001b[0m\u001b[1;33m\u001b[0m\u001b[1;33m\u001b[0m\u001b[0m\n\u001b[0m",
      "\u001b[1;31mAttributeError\u001b[0m: 'MyComplexNumber' object has no attribute 'new_attribute'"
     ]
    }
   ],
   "source": [
    "#But cmpx1 doesn't new attribute 'new_attribute'\n",
    "# AttributeError: 'MyComplexNumber' object has no attribute 'new_attribute'\n",
    "cmplx1.new_attribute"
   ]
  },
  {
   "cell_type": "code",
   "execution_count": 16,
   "id": "d5ea2782-78ef-4e19-91d5-c9fa096ddee5",
   "metadata": {},
   "outputs": [],
   "source": [
    "# Deleting object attributes and the object\n",
    "del cmplx1.real_part\n",
    "del cmplx1"
   ]
  },
  {
   "cell_type": "code",
   "execution_count": 17,
   "id": "d8e57e94-5fbd-4722-a779-b174c460f437",
   "metadata": {},
   "outputs": [
    {
     "ename": "NameError",
     "evalue": "name 'cmplx1' is not defined",
     "output_type": "error",
     "traceback": [
      "\u001b[1;31m---------------------------------------------------------------------------\u001b[0m",
      "\u001b[1;31mNameError\u001b[0m                                 Traceback (most recent call last)",
      "\u001b[1;32m~\\AppData\\Local\\Temp\\ipykernel_12776\\787859639.py\u001b[0m in \u001b[0;36m<module>\u001b[1;34m\u001b[0m\n\u001b[1;32m----> 1\u001b[1;33m \u001b[0mprint\u001b[0m\u001b[1;33m(\u001b[0m\u001b[0mcmplx1\u001b[0m\u001b[1;33m)\u001b[0m\u001b[1;33m\u001b[0m\u001b[1;33m\u001b[0m\u001b[0m\n\u001b[0m",
      "\u001b[1;31mNameError\u001b[0m: name 'cmplx1' is not defined"
     ]
    }
   ],
   "source": [
    "print(cmplx1)"
   ]
  },
  {
   "cell_type": "markdown",
   "id": "57c7aff7-d776-440c-8766-424acc85c1dc",
   "metadata": {},
   "source": [
    "# Array .. List"
   ]
  },
  {
   "cell_type": "code",
   "execution_count": 19,
   "id": "ba107e15-a120-440e-bafc-0a26bf82d588",
   "metadata": {},
   "outputs": [
    {
     "name": "stdout",
     "output_type": "stream",
     "text": [
      "[10, 20, 30, 40, 50]\n",
      "10\n",
      "20\n",
      "30\n",
      "50\n",
      "40\n"
     ]
    }
   ],
   "source": [
    "# Defining and declaring and array\n",
    "arr = [10,20,30,40,50]\n",
    "print(arr)\n",
    "\n",
    "# Accessing Array elements\n",
    "print(arr[0])\n",
    "print(arr[1])\n",
    "print(arr[2])\n",
    "print(arr[-1]) # Negative index\n",
    "print(arr[-2]) # Negative index\n"
   ]
  },
  {
   "cell_type": "code",
   "execution_count": 20,
   "id": "847d5e00-2aa0-40a5-ae0c-29c017d885b1",
   "metadata": {},
   "outputs": [
    {
     "name": "stdout",
     "output_type": "stream",
     "text": [
      "['cake', 'Apple', 'Google', 'Microsoft', 'Toyota']\n",
      "5\n",
      "['cake', 'Apple', 'Google', 'Microsoft', 'Toyota', 'Intel']\n"
     ]
    }
   ],
   "source": [
    "brands = [\"cake\",\"Apple\",\"Google\",\"Microsoft\",\"Toyota\"]\n",
    "print(brands)\n",
    "\n",
    "# Finding the length of array\n",
    "num_brands = len(brands)\n",
    "print(num_brands)\n",
    "\n",
    "# Adding an element to an array using append ()\n",
    "brands.append(\"Intel\")\n",
    "print(brands)"
   ]
  },
  {
   "cell_type": "code",
   "execution_count": 22,
   "id": "e5654aa0-2ca6-4ef0-ab02-b8d6ff4d57ea",
   "metadata": {},
   "outputs": [
    {
     "name": "stdout",
     "output_type": "stream",
     "text": [
      "['violet', 'indigo', 'blue', 'green', 'orange', 'red']\n",
      "['violet', 'indigo', 'green', 'orange', 'red']\n",
      "['violet', 'indigo', 'green', 'red']\n"
     ]
    }
   ],
   "source": [
    "# Removing elements from an array\n",
    "colors = [\"violet\",\"indigo\",\"blue\",\"green\",\"yellow\",\"orange\",\"red\"]\n",
    "del colors[4]\n",
    "print(colors)\n",
    "\n",
    "colors.remove(\"blue\")\n",
    "print(colors)\n",
    "\n",
    "colors.pop(3)\n",
    "print(colors)\n",
    "\n",
    "\n",
    "# Output [\"violet\",\"indigo\",\"green\",\"red\"]"
   ]
  },
  {
   "cell_type": "code",
   "execution_count": 24,
   "id": "b837f2b7-62f2-48c5-b937-7f51886331c6",
   "metadata": {},
   "outputs": [
    {
     "name": "stdout",
     "output_type": "stream",
     "text": [
      "['Apple', 'Banana', 'Mango', 'Grapes', 'Orange']\n",
      "['Apple', 'Pineapple', 'Mango', 'Grapes', 'Orange']\n",
      "['Apple', 'Pineapple', 'Mango', 'Grapes', 'Guava']\n"
     ]
    }
   ],
   "source": [
    "# Modifying elements of an array using indexing\n",
    "fruits = [\"Apple\",\"Banana\",\"Mango\",\"Grapes\",\"Orange\"]\n",
    "print(fruits)\n",
    "\n",
    "fruits[1] = \"Pineapple\"\n",
    "print(fruits)\n",
    "\n",
    "fruits[-1] = \"Guava\"\n",
    "print(fruits)"
   ]
  },
  {
   "cell_type": "code",
   "execution_count": 26,
   "id": "1f71e981-b6dc-4e7b-9807-560bf3e40c79",
   "metadata": {},
   "outputs": [
    {
     "name": "stdout",
     "output_type": "stream",
     "text": [
      "[1, 2, 3]\n",
      "[1, 2, 3]\n",
      "[1, 2, 3, 4, 5, 6]\n"
     ]
    }
   ],
   "source": [
    "# Concatenating two arrays using the + operator\n",
    "concat = [1,2,3]\n",
    "print (concat)\n",
    "\n",
    "concat + [4,5,6]\n",
    "print (concat)\n",
    "\n",
    "#updating variable concat\n",
    "concat = concat + [4,5,6]\n",
    "print (concat)"
   ]
  },
  {
   "cell_type": "code",
   "execution_count": 27,
   "id": "d7a1701e-054e-4a56-9dfc-c3b3e41c5e2f",
   "metadata": {},
   "outputs": [
    {
     "name": "stdout",
     "output_type": "stream",
     "text": [
      "['a']\n",
      "['a', 'a', 'a', 'a', 'a']\n"
     ]
    }
   ],
   "source": [
    "# Repeating element in an array\n",
    "repeat = [\"a\"]\n",
    "print(repeat)\n",
    "\n",
    "#updating variable repeat\n",
    "repeat = repeat * 5\n",
    "print(repeat)"
   ]
  },
  {
   "cell_type": "code",
   "execution_count": 32,
   "id": "a6fc29b6-0ca3-4ddd-9eaa-e343e6dfab63",
   "metadata": {},
   "outputs": [
    {
     "name": "stdout",
     "output_type": "stream",
     "text": [
      "['Apple', 'Banana', 'Mango', 'Grapes', 'Orange']\n",
      "['Banana', 'Mango', 'Grapes']\n",
      "['Apple', 'Banana', 'Mango']\n",
      "['Banana', 'Mango', 'Grapes', 'Orange']\n",
      "['Mango', 'Grapes']\n"
     ]
    }
   ],
   "source": [
    "#Slicing (couper en tranche) an array\n",
    "fruits = [\"Apple\",\"Banana\",\"Mango\",\"Grapes\",\"Orange\"]\n",
    "print(fruits)\n",
    "print(fruits[1:4])\n",
    "print(fruits[:3]) # [0:3]\n",
    "print(fruits[-4:])\n",
    "print(fruits[-3:-1]) # -1 End element"
   ]
  },
  {
   "cell_type": "code",
   "execution_count": 36,
   "id": "c0f5544b-8750-4015-826e-516a016d2048",
   "metadata": {},
   "outputs": [
    {
     "name": "stdout",
     "output_type": "stream",
     "text": [
      "[[1, 2], [3, 4], [5, 6], [7, 8]]\n",
      "[1, 2]\n",
      "[7, 8]\n",
      "6\n",
      "7\n"
     ]
    }
   ],
   "source": [
    "#Declaring and defininf=g multidimentional array\n",
    "multd = [[1,2], [3,4], [5,6], [7,8]]\n",
    "print(multd)\n",
    "print(multd[0])\n",
    "print(multd[3])\n",
    "print(multd[2][1])\n",
    "print(multd[3][0])"
   ]
  },
  {
   "cell_type": "markdown",
   "id": "0f16c120-ef1a-4363-aa89-68bd3072a0a0",
   "metadata": {},
   "source": [
    "# Python keywords"
   ]
  },
  {
   "cell_type": "code",
   "execution_count": 39,
   "id": "a2199de2-e24d-426a-8d10-d45bab3b2d9a",
   "metadata": {},
   "outputs": [
    {
     "name": "stdout",
     "output_type": "stream",
     "text": [
      "True\n",
      "False\n"
     ]
    }
   ],
   "source": [
    "#True False\n",
    "print(5 == 5)\n",
    "print(5>5)"
   ]
  },
  {
   "cell_type": "code",
   "execution_count": 41,
   "id": "aee57c19-eac2-4b2d-b1ab-3f3169de3b58",
   "metadata": {},
   "outputs": [
    {
     "name": "stdout",
     "output_type": "stream",
     "text": [
      "False\n",
      "True\n"
     ]
    }
   ],
   "source": [
    "# None\n",
    "print(None == 0)\n",
    "print(None == None)"
   ]
  },
  {
   "cell_type": "code",
   "execution_count": 43,
   "id": "edb953d4-9d4d-43bb-8ccf-8d6c8214c4ce",
   "metadata": {},
   "outputs": [
    {
     "name": "stdout",
     "output_type": "stream",
     "text": [
      "None\n"
     ]
    }
   ],
   "source": [
    "#function \n",
    "def a_void_function():\n",
    "    a = 1\n",
    "    b = 2\n",
    "    c = a + b\n",
    "x = a_void_function()\n",
    "print(x)"
   ]
  },
  {
   "cell_type": "code",
   "execution_count": 46,
   "id": "faa0759e-2f16-4ae6-9ea2-9a47768b0940",
   "metadata": {},
   "outputs": [
    {
     "name": "stdout",
     "output_type": "stream",
     "text": [
      "False\n",
      "True\n",
      "True\n"
     ]
    }
   ],
   "source": [
    "#and or not\n",
    "print(True and False)\n",
    "print(True or False)\n",
    "print(not False)"
   ]
  },
  {
   "cell_type": "code",
   "execution_count": 47,
   "id": "e9aa1de9-324d-49d3-ba17-1a092d71b9c3",
   "metadata": {},
   "outputs": [
    {
     "name": "stdout",
     "output_type": "stream",
     "text": [
      "-1.0\n"
     ]
    }
   ],
   "source": [
    "# as\n",
    "import math as myMath\n",
    "print(myMath.cos(myMath.pi))"
   ]
  },
  {
   "cell_type": "code",
   "execution_count": 50,
   "id": "328845c1-025e-4ba7-83c6-5c138cbfc587",
   "metadata": {},
   "outputs": [],
   "source": [
    "# assert\n",
    "\n",
    "assert 5 > 4\n",
    "assert 5 == 5"
   ]
  },
  {
   "cell_type": "code",
   "execution_count": 52,
   "id": "b923a922-618c-424c-b1f5-e27f099a2645",
   "metadata": {},
   "outputs": [
    {
     "name": "stdout",
     "output_type": "stream",
     "text": [
      "1\n",
      "2\n",
      "3\n",
      "4\n",
      "5\n",
      "6\n"
     ]
    }
   ],
   "source": [
    "#break\n",
    "for i in range(1,11):\n",
    "    if i == 7:\n",
    "        break # terminate loop\n",
    "    print(i)"
   ]
  },
  {
   "cell_type": "code",
   "execution_count": 54,
   "id": "442cf7eb-ddd3-49d7-ad3b-18fac6bc995d",
   "metadata": {},
   "outputs": [
    {
     "name": "stdout",
     "output_type": "stream",
     "text": [
      "1\n",
      "2\n",
      "3\n",
      "4\n",
      "6\n",
      "7\n"
     ]
    }
   ],
   "source": [
    "# continue\n",
    "for i in range(1,8):\n",
    "    if i == 5:\n",
    "       continue # saute une execution de boucle\n",
    "    print(i)"
   ]
  },
  {
   "cell_type": "code",
   "execution_count": 55,
   "id": "ffa113ca-a4aa-41c3-b8d1-340d79f66541",
   "metadata": {},
   "outputs": [
    {
     "name": "stdout",
     "output_type": "stream",
     "text": [
      "function1() executing...\n",
      "function2() executing...\n"
     ]
    }
   ],
   "source": [
    "# class\n",
    "class ExampleClass:\n",
    "    def function1(parameters):\n",
    "        print(\"function1() executing...\")\n",
    "    def function2(parameters):\n",
    "        print(\"function2() executing...\")\n",
    "ob1 = ExampleClass()\n",
    "ob1.function1()\n",
    "ob1.function2()"
   ]
  },
  {
   "cell_type": "code",
   "execution_count": 57,
   "id": "cde8fbbd-1c9a-456a-9e2c-ea6b57830bc3",
   "metadata": {},
   "outputs": [],
   "source": [
    "#def\n",
    "def function_name(parameters):\n",
    "    pass # not outcome\n",
    "function_name(10)"
   ]
  },
  {
   "cell_type": "code",
   "execution_count": 58,
   "id": "a85c58cb-7a80-4fab-a030-98a394e37716",
   "metadata": {},
   "outputs": [
    {
     "name": "stdout",
     "output_type": "stream",
     "text": [
      "10\n"
     ]
    },
    {
     "ename": "NameError",
     "evalue": "name 'a' is not defined",
     "output_type": "error",
     "traceback": [
      "\u001b[1;31m---------------------------------------------------------------------------\u001b[0m",
      "\u001b[1;31mNameError\u001b[0m                                 Traceback (most recent call last)",
      "\u001b[1;32m~\\AppData\\Local\\Temp\\ipykernel_12776\\236235000.py\u001b[0m in \u001b[0;36m<module>\u001b[1;34m\u001b[0m\n\u001b[0;32m      3\u001b[0m \u001b[0mprint\u001b[0m\u001b[1;33m(\u001b[0m\u001b[0ma\u001b[0m\u001b[1;33m)\u001b[0m\u001b[1;33m\u001b[0m\u001b[1;33m\u001b[0m\u001b[0m\n\u001b[0;32m      4\u001b[0m \u001b[1;32mdel\u001b[0m \u001b[0ma\u001b[0m\u001b[1;33m\u001b[0m\u001b[1;33m\u001b[0m\u001b[0m\n\u001b[1;32m----> 5\u001b[1;33m \u001b[0mprint\u001b[0m\u001b[1;33m(\u001b[0m\u001b[0ma\u001b[0m\u001b[1;33m)\u001b[0m\u001b[1;33m\u001b[0m\u001b[1;33m\u001b[0m\u001b[0m\n\u001b[0m",
      "\u001b[1;31mNameError\u001b[0m: name 'a' is not defined"
     ]
    }
   ],
   "source": [
    "#del\n",
    "a = 10\n",
    "print(a)\n",
    "del a\n",
    "print(a)"
   ]
  },
  {
   "cell_type": "code",
   "execution_count": 59,
   "id": "bc4e1a00-1dd9-4df8-b4fa-212ef7e68555",
   "metadata": {},
   "outputs": [
    {
     "name": "stdout",
     "output_type": "stream",
     "text": [
      "Two\n"
     ]
    }
   ],
   "source": [
    "# if... elif..else\n",
    "num = 2\n",
    "if num == 1:\n",
    "    print('one')\n",
    "elif num == 2:\n",
    "    print(\"Two\")\n",
    "else:\n",
    "    print('Something else')"
   ]
  },
  {
   "cell_type": "code",
   "execution_count": 61,
   "id": "75cf9622-4d52-47f9-9be4-b707ee77c59f",
   "metadata": {},
   "outputs": [
    {
     "name": "stdout",
     "output_type": "stream",
     "text": [
      "Execution Successfully\n"
     ]
    }
   ],
   "source": [
    "#try ...raise .. catch .. finally\n",
    "\n",
    "try:\n",
    "    x = 9\n",
    "    #raise ZeroDivisionError\n",
    "except ZeroDivisionError:\n",
    "    print(\"Division cannot be performed\")\n",
    "finally:\n",
    "    print(\"Execution Successfully\")"
   ]
  },
  {
   "cell_type": "code",
   "execution_count": 65,
   "id": "15b43932-a813-4994-bf8a-af152113e453",
   "metadata": {},
   "outputs": [
    {
     "name": "stdout",
     "output_type": "stream",
     "text": [
      "1\n",
      "2\n",
      "3\n",
      "4\n",
      "5\n",
      "6\n",
      "7\n",
      "8\n",
      "9\n"
     ]
    }
   ],
   "source": [
    "# for\n",
    "for i in range(1,10):\n",
    "    print(i)"
   ]
  },
  {
   "cell_type": "code",
   "execution_count": 66,
   "id": "b5492991-9c13-48f5-836a-2823bc928656",
   "metadata": {},
   "outputs": [
    {
     "data": {
      "text/plain": [
       "-1.0"
      ]
     },
     "execution_count": 66,
     "metadata": {},
     "output_type": "execute_result"
    }
   ],
   "source": [
    "# from .. import\n",
    "\n",
    "import math\n",
    "\n",
    "from math import cos,pi # use function directly\n",
    "\n",
    "cos(pi)"
   ]
  },
  {
   "cell_type": "raw",
   "id": "26fccd39-945b-4709-abdf-574376ef99ec",
   "metadata": {},
   "source": []
  },
  {
   "cell_type": "code",
   "execution_count": null,
   "id": "d32bbcbd-9d93-439b-aa0f-2b341df107d5",
   "metadata": {},
   "outputs": [],
   "source": []
  },
  {
   "cell_type": "code",
   "execution_count": 70,
   "id": "15e9da43-51d2-4939-8fff-309862119cf1",
   "metadata": {},
   "outputs": [
    {
     "name": "stdout",
     "output_type": "stream",
     "text": [
      "10\n",
      "5\n",
      "5\n"
     ]
    }
   ],
   "source": [
    "# global\n",
    "globvar = 10\n",
    "def read1():\n",
    "    print(globvar)\n",
    "def write1():\n",
    "    global globvar\n",
    "    globvar = 5\n",
    "def write2():\n",
    "    globvar = 15\n",
    "\n",
    "read1()\n",
    "write1()\n",
    "read1()\n",
    "write2()\n",
    "read1()"
   ]
  },
  {
   "cell_type": "code",
   "execution_count": 73,
   "id": "12c28c3d-0edf-4e43-aa5c-93e0bef86435",
   "metadata": {},
   "outputs": [
    {
     "name": "stdout",
     "output_type": "stream",
     "text": [
      "True\n"
     ]
    }
   ],
   "source": [
    "# in use to see one element match in the list\n",
    "a = [1,2,3,4]\n",
    "print(4 in a)"
   ]
  },
  {
   "cell_type": "code",
   "execution_count": 76,
   "id": "d418c702-56a5-4405-9265-907ca4e17fa6",
   "metadata": {},
   "outputs": [
    {
     "name": "stdout",
     "output_type": "stream",
     "text": [
      "True\n"
     ]
    }
   ],
   "source": [
    "#is\n",
    "print (True is True)"
   ]
  },
  {
   "cell_type": "code",
   "execution_count": 79,
   "id": "76d2e88d-7635-47a8-b0cb-ec1b1d7075ed",
   "metadata": {},
   "outputs": [
    {
     "name": "stdout",
     "output_type": "stream",
     "text": [
      "2\n",
      "4\n",
      "6\n",
      "8\n",
      "10\n"
     ]
    }
   ],
   "source": [
    "# lambda # anonymous fonction no name like def\n",
    "\n",
    "a = lambda x: x*2\n",
    "for i in range(1,6):\n",
    "    print(a(i))"
   ]
  },
  {
   "cell_type": "code",
   "execution_count": 85,
   "id": "dfee4be6-80c7-4d1b-8861-4454caf18d09",
   "metadata": {},
   "outputs": [
    {
     "name": "stdout",
     "output_type": "stream",
     "text": [
      "Inner function:  10\n",
      "Outer function:  10\n"
     ]
    }
   ],
   "source": [
    "#nonlocal\n",
    "def outer_function():\n",
    "    a = 5\n",
    "    def inner_function():\n",
    "        nonlocal a # a is non local\n",
    "        a = 10\n",
    "        print(\"Inner function: \",a)\n",
    "    inner_function()\n",
    "    print('Outer function: ',a)\n",
    "outer_function()"
   ]
  },
  {
   "cell_type": "code",
   "execution_count": 87,
   "id": "d6064fbc-085d-4823-859e-28133e6b4ee7",
   "metadata": {},
   "outputs": [],
   "source": [
    "#pass\n",
    "def function(args):\n",
    "    pass\n",
    "\n",
    "#use to add more instruction later\n",
    "function(5)"
   ]
  },
  {
   "cell_type": "code",
   "execution_count": 88,
   "id": "7e833360-86af-4e76-854e-d3bdaa3e28f6",
   "metadata": {},
   "outputs": [
    {
     "name": "stdout",
     "output_type": "stream",
     "text": [
      "1\n"
     ]
    }
   ],
   "source": [
    "#return\n",
    "\n",
    "def func_return():\n",
    "    a = 1\n",
    "    return a\n",
    "print(func_return())"
   ]
  },
  {
   "cell_type": "code",
   "execution_count": 89,
   "id": "8b7f6948-05a6-4ea5-8651-54726cd8f8da",
   "metadata": {},
   "outputs": [
    {
     "name": "stdout",
     "output_type": "stream",
     "text": [
      "5\n",
      "4\n",
      "3\n",
      "2\n",
      "1\n"
     ]
    }
   ],
   "source": [
    "# while\n",
    "i = 5\n",
    "while (i>0):\n",
    "    print(i)\n",
    "    i -= 1"
   ]
  },
  {
   "cell_type": "code",
   "execution_count": 90,
   "id": "15d4fb86-82d0-4852-b426-b31b5b2ddc90",
   "metadata": {},
   "outputs": [],
   "source": [
    "# with \n",
    "\n",
    "with open('example.txt','w') as my_file:\n",
    "    my_file.write('Hello word!')"
   ]
  },
  {
   "cell_type": "code",
   "execution_count": 93,
   "id": "9661a8c4-8b81-4ce2-a8a6-24f8f4a3907a",
   "metadata": {},
   "outputs": [
    {
     "name": "stdout",
     "output_type": "stream",
     "text": [
      "0\n",
      "1\n",
      "4\n",
      "9\n",
      "16\n",
      "25\n"
     ]
    }
   ],
   "source": [
    "# yield\n",
    "def generator():\n",
    "    for i in range(6):\n",
    "        yield i*i\n",
    "g = generator()\n",
    "for i in g:\n",
    "    print(i)"
   ]
  },
  {
   "cell_type": "markdown",
   "id": "c473c2c2-a55f-4fea-825e-fb76457d0688",
   "metadata": {},
   "source": [
    "# Tuples"
   ]
  },
  {
   "cell_type": "code",
   "execution_count": 94,
   "id": "7309d839-baf6-4001-b3a5-4fc94323a37b",
   "metadata": {},
   "outputs": [
    {
     "name": "stdout",
     "output_type": "stream",
     "text": [
      "()\n",
      "(1, 2, 3)\n",
      "(103, 'Anirban', 20000.0, 'HR Dept')\n"
     ]
    }
   ],
   "source": [
    " # creating an empty tuple\n",
    "tuple1 = ()\n",
    "print(tuple1)\n",
    "\n",
    "# creating tuples with integer éléments\n",
    "tuple2 = (1,2,3)\n",
    "print(tuple2)\n",
    "\n",
    "#Tuples with mixed datatypes\n",
    "tuple3 = (103,\"Anirban\", 20000.00, \"HR Dept\")\n",
    "print(tuple3)"
   ]
  },
  {
   "cell_type": "code",
   "execution_count": 98,
   "id": "b59589ad-99af-4bfc-b92f-37ca6eee6e71",
   "metadata": {},
   "outputs": [
    {
     "name": "stdout",
     "output_type": "stream",
     "text": [
      "('points', [1, 4, 3], (7, 8, 6))\n",
      "(101, 'Anirban', 20000.0, 'HR Dep')\n",
      "101\n",
      "Anirban\n",
      "20000.0\n",
      "HR Dep\n",
      "<class 'tuple'>\n"
     ]
    }
   ],
   "source": [
    "# creation of nested tuple\n",
    "tuple4 = (\"points\",[1,4,3],(7,8,6))\n",
    "print(tuple4)\n",
    "\n",
    "# tuple can be created without any parentheses\n",
    "tuple5 = 101, \"Anirban\",20000.00,\"HR Dep\"\n",
    "print(tuple5)\n",
    "\n",
    "# tuple unpacking is also possible\n",
    "empid,empname,empsal,empdept = tuple5\n",
    "print(empid)\n",
    "print(empname)\n",
    "print(empsal)\n",
    "print(empdept)\n",
    "print(type(tuple5))"
   ]
  },
  {
   "cell_type": "code",
   "execution_count": 99,
   "id": "67b2dbda-2969-4b6a-9a39-75c6809c408f",
   "metadata": {},
   "outputs": [
    {
     "name": "stdout",
     "output_type": "stream",
     "text": [
      "('w', 'e', 'l', 'c', 'o', 'm', 'e')\n",
      "e\n",
      "l\n",
      "m\n",
      "('points', [1, 3, 4], (8, 7, 9))\n",
      "n\n",
      "4\n",
      "9\n"
     ]
    }
   ],
   "source": [
    "# accessing elements in a tuple\n",
    "tuple1 = ('w','e','l','c','o','m','e')\n",
    "print(tuple1)\n",
    "print(tuple1[1])\n",
    "print(tuple1[2])\n",
    "print(tuple1[5])\n",
    "\n",
    "# nested tuple\n",
    "\n",
    "nest_tuple2 = (\"points\",[1,3,4],(8,7,9))\n",
    "print(nest_tuple2)\n",
    "print(nest_tuple2[0][3])\n",
    "print(nest_tuple2[1][2])\n",
    "print(nest_tuple2[2][2])\n"
   ]
  },
  {
   "cell_type": "code",
   "execution_count": 100,
   "id": "d66e22c7-f02e-422e-b915-961f743db6a1",
   "metadata": {},
   "outputs": [
    {
     "name": "stdout",
     "output_type": "stream",
     "text": [
      "('e', 'l')\n",
      "('w', 'e', 'l', 'c')\n",
      "('c', 'o', 'm', 'e')\n",
      "('w', 'e', 'l', 'c', 'o', 'm', 'e')\n"
     ]
    }
   ],
   "source": [
    "# slicing tuple contents\n",
    "tuple1 = ('w','e','l','c','o','m','e')\n",
    "\n",
    "print(tuple1[1:3]) # last is not include so output 1 and 2 only\n",
    "\n",
    "print(tuple1[:-3])\n",
    "\n",
    "print(tuple1[3:])\n",
    "\n",
    "print(tuple1[:])"
   ]
  },
  {
   "cell_type": "code",
   "execution_count": 104,
   "id": "9f75d0f7-35c5-430e-9881-c93285d68182",
   "metadata": {},
   "outputs": [
    {
     "name": "stdout",
     "output_type": "stream",
     "text": [
      "('w', 'e', 'l', 'c', 'o', 'm', 'e')\n",
      "('g', 'o', 'o', 'd', 'b', 'y', 'e')\n"
     ]
    }
   ],
   "source": [
    " # tuple elements are immutable\n",
    "tuple1 = ('w','e','l','c','o','m','e')\n",
    "print(tuple1)\n",
    "#tuple1[2] = 'x'  #error\n",
    "\n",
    "# tuples can be reassigned\n",
    "\n",
    "tuple1 =('g','o','o','d','b','y','e')\n",
    "print(tuple1)"
   ]
  },
  {
   "cell_type": "code",
   "execution_count": 108,
   "id": "a6231b52-522f-49ed-9355-eb28bc54fe6a",
   "metadata": {},
   "outputs": [
    {
     "name": "stdout",
     "output_type": "stream",
     "text": [
      "('w', 'e', 'l')\n",
      "('c', 'o', 'm', 'e')\n",
      "('w', 'e', 'l', 'c', 'o', 'm', 'e')\n",
      "('again', 'again', 'again', 'again')\n"
     ]
    }
   ],
   "source": [
    "# concatenation of tuples\n",
    "\n",
    "tuple2 = ('w','e','l')\n",
    "tuple3 = ('c','o','m','e')\n",
    "print(tuple2)\n",
    "print(tuple3)\n",
    "print(tuple2+tuple3)\n",
    "print((\"again\",)*4)"
   ]
  },
  {
   "cell_type": "code",
   "execution_count": 113,
   "id": "5130463e-6c64-4326-acfc-a8e8ba45248c",
   "metadata": {},
   "outputs": [
    {
     "ename": "TypeError",
     "evalue": "'tuple' object doesn't support item deletion",
     "output_type": "error",
     "traceback": [
      "\u001b[1;31m---------------------------------------------------------------------------\u001b[0m",
      "\u001b[1;31mTypeError\u001b[0m                                 Traceback (most recent call last)",
      "\u001b[1;32m~\\AppData\\Local\\Temp\\ipykernel_12776\\2399647503.py\u001b[0m in \u001b[0;36m<module>\u001b[1;34m\u001b[0m\n\u001b[0;32m      3\u001b[0m \u001b[1;33m\u001b[0m\u001b[0m\n\u001b[0;32m      4\u001b[0m \u001b[1;31m# as immutable so elements can not be deleted\u001b[0m\u001b[1;33m\u001b[0m\u001b[1;33m\u001b[0m\u001b[1;33m\u001b[0m\u001b[0m\n\u001b[1;32m----> 5\u001b[1;33m \u001b[1;32mdel\u001b[0m \u001b[0mtuple4\u001b[0m\u001b[1;33m[\u001b[0m\u001b[1;36m2\u001b[0m\u001b[1;33m]\u001b[0m\u001b[1;33m\u001b[0m\u001b[1;33m\u001b[0m\u001b[0m\n\u001b[0m\u001b[0;32m      6\u001b[0m \u001b[1;33m\u001b[0m\u001b[0m\n\u001b[0;32m      7\u001b[0m \u001b[1;31m# but can delete entire tuple\u001b[0m\u001b[1;33m\u001b[0m\u001b[1;33m\u001b[0m\u001b[1;33m\u001b[0m\u001b[0m\n",
      "\u001b[1;31mTypeError\u001b[0m: 'tuple' object doesn't support item deletion"
     ]
    }
   ],
   "source": [
    "# deletion  operation on a tuple\n",
    "tuple4 = ('w','e','l','c','o','m','e')\n",
    "\n",
    "# as immutable so elements can not be deleted\n",
    "#del tuple4[2]\n",
    "\n",
    "# but can delete entire tuple\n",
    "\n",
    "#del tuple4\n",
    "\n",
    "print(tuple4)\n"
   ]
  },
  {
   "cell_type": "code",
   "execution_count": 115,
   "id": "f72fd89e-fcca-4b2b-8eea-257d4059978e",
   "metadata": {},
   "outputs": [
    {
     "name": "stdout",
     "output_type": "stream",
     "text": [
      "2\n",
      "3\n"
     ]
    }
   ],
   "source": [
    "# Tuple methods\n",
    "\n",
    "tuple5 = ('w','e','l','c','o','m','e')\n",
    "print(tuple5.count('e'))\n",
    "print(tuple5.index('c')) # first element found"
   ]
  },
  {
   "cell_type": "code",
   "execution_count": 117,
   "id": "7c0b8d6f-7942-4c31-bc2a-79b71179ef81",
   "metadata": {},
   "outputs": [
    {
     "name": "stdout",
     "output_type": "stream",
     "text": [
      "('w', 'e', 'l', 'c', 'o', 'm', 'e')\n",
      "True\n",
      "False\n",
      "False\n",
      "True\n"
     ]
    }
   ],
   "source": [
    "# Tuple operation\n",
    "tuple6 = ('w','e','l','c','o','m','e')\n",
    "print(tuple6)\n",
    "\n",
    "#membership\n",
    "print ('c' in tuple6)\n",
    "print ('c' not in tuple6)\n",
    "print ('a' in tuple6)\n",
    "print ('a' not in tuple6)\n",
    "\n",
    "# Output : True, False, False, True"
   ]
  },
  {
   "cell_type": "code",
   "execution_count": 118,
   "id": "3fd3e299-1464-44f0-9f8a-0079412cee4e",
   "metadata": {},
   "outputs": [
    {
     "name": "stdout",
     "output_type": "stream",
     "text": [
      "letter is ->  w\n",
      "letter is ->  e\n",
      "letter is ->  l\n",
      "letter is ->  c\n",
      "letter is ->  o\n",
      "letter is ->  m\n",
      "letter is ->  e\n"
     ]
    }
   ],
   "source": [
    "# iteration through tuple elements\n",
    "tuple6 = ('w','e','l','c','o','m','e')\n",
    "for letters in tuple6:\n",
    "    print(\"letter is -> \",letters)\n"
   ]
  },
  {
   "cell_type": "code",
   "execution_count": 122,
   "id": "66b31664-c9af-450d-b5ea-dde8a14aa93d",
   "metadata": {},
   "outputs": [
    {
     "name": "stdout",
     "output_type": "stream",
     "text": [
      "(22, 33, 55, 44, 77, 66, 11)\n",
      "77\n",
      "11\n",
      "[11, 22, 33, 44, 55, 66, 77]\n",
      "7\n",
      "308\n"
     ]
    }
   ],
   "source": [
    "# Built-in function with tuple\n",
    "tuple7 = (22,33,55,44,77,66,11)\n",
    "print(tuple7)\n",
    "\n",
    "print(max(tuple7))\n",
    "print(min(tuple7))\n",
    "print(sorted(tuple7))\n",
    "print(len(tuple7))\n",
    "print(sum(tuple7))"
   ]
  },
  {
   "cell_type": "markdown",
   "id": "c92dfc1b-6322-4c28-b504-381b54cbef31",
   "metadata": {},
   "source": [
    "# Learn Sets"
   ]
  },
  {
   "cell_type": "code",
   "execution_count": 6,
   "id": "08645b4d-15a8-4312-a631-b8875e9f48fc",
   "metadata": {},
   "outputs": [
    {
     "name": "stdout",
     "output_type": "stream",
     "text": [
      "{33, 66, 11, 44, 22, 55}\n",
      "{(21, 2, 1994), 101, 'Agnibha'}\n",
      "{33, 11, 44, 22}\n",
      "{1, 2, 3}\n",
      "<class 'set'>\n",
      "[33, 11, 44, 22]\n",
      "<class 'list'>\n"
     ]
    }
   ],
   "source": [
    "# creating sets\n",
    "# set og integers\n",
    "\n",
    "my_set1 = {11,33,66,55,44,22}\n",
    "print(my_set1)\n",
    "\n",
    "# set of mixed datatypes\n",
    "my_set2 = {101,\"Agnibha\",(21,2,1994)}\n",
    "print(my_set2)\n",
    "\n",
    "# Duplicate values are not allowed\n",
    "my_set3 = {11,22,33,33,44,22}\n",
    "print(my_set3)\n",
    "\n",
    "# set cannot have mutable items\n",
    "#my_set4 = {1,2,[3,4]}\n",
    "\n",
    "# we can make set from a list\n",
    "my_set5 = set([1,2,3,2])\n",
    "print((my_set5))\n",
    "print(type(my_set5))\n",
    "\n",
    "# we can make list from a set\n",
    "\n",
    "my_list1 = list({11,22,33,44})\n",
    "print(my_list1)\n",
    "print(type(my_list1))"
   ]
  },
  {
   "cell_type": "code",
   "execution_count": 10,
   "id": "995a4423-0b1b-4d09-8a06-f7b925fe94ed",
   "metadata": {},
   "outputs": [
    {
     "name": "stdout",
     "output_type": "stream",
     "text": [
      "{33, 66, 11, 44, 22, 55}\n",
      "{33, 66, 11, 44, 77, 22, 55}\n",
      "{33, 66, 99, 11, 44, 77, 22, 55, 88}\n",
      "{33, 66, 99, 100, 102, 103, 104, 105, 11, 44, 77, 22, 55, 88}\n"
     ]
    }
   ],
   "source": [
    "# operations on sets\n",
    "my_set1 = {11,33,66,55,44,22}\n",
    "print(my_set1)\n",
    "\n",
    "# 'set' object does not support indexing\n",
    "\n",
    "#my_set1[0]\n",
    "\n",
    "# add an element\n",
    "my_set1.add(77)\n",
    "print(my_set1)\n",
    "\n",
    "#add multiple elements\n",
    "my_set1.update([88,99,22])\n",
    "print(my_set1)\n",
    "\n",
    "# add list and set\n",
    "my_set1.update([100,102],{103,104,105})\n",
    "print(my_set1)"
   ]
  },
  {
   "cell_type": "code",
   "execution_count": 15,
   "id": "58d4d80b-d84a-4b27-981e-9cad5835e0dc",
   "metadata": {},
   "outputs": [
    {
     "name": "stdout",
     "output_type": "stream",
     "text": [
      "{33, 66, 11, 44, 55}\n",
      "{33, 66, 11, 44, 55}\n",
      "{33, 66, 11, 44, 55}\n",
      "{33, 66, 11, 55}\n",
      "{33, 66, 11}\n"
     ]
    }
   ],
   "source": [
    "# remove and discard\n",
    "# initialize my_set1\n",
    "my_set1 = {11,33,44,66,55}\n",
    "print(my_set1)\n",
    "\n",
    "# discard an element which is not present, not error\n",
    "my_set1.discard(4)\n",
    "print(my_set1)\n",
    "\n",
    "# remove an element which is not present, error raised\n",
    "#my_set1.remove(6)\n",
    "print(my_set1)\n",
    "\n",
    "# discard an element\n",
    "my_set1.discard(44)\n",
    "print(my_set1)\n",
    "my_set1.remove(55)\n",
    "print(my_set1)"
   ]
  },
  {
   "cell_type": "code",
   "execution_count": 16,
   "id": "b9d6b5e6-8ff3-4374-adf0-055b676bb8af",
   "metadata": {},
   "outputs": [
    {
     "name": "stdout",
     "output_type": "stream",
     "text": [
      "{33, 66, 11, 44, 55}\n",
      "33\n",
      "66\n",
      "{11, 44, 55}\n",
      "set()\n"
     ]
    }
   ],
   "source": [
    "# using pop()\n",
    "# initialize my_set1\n",
    "my_set1 = {11,33,44,66,55}\n",
    "print(my_set1)\n",
    "\n",
    "# pop an element\n",
    "print(my_set1.pop())\n",
    "\n",
    "# pop another element, delete element arbitrary\n",
    "print(my_set1.pop())\n",
    "print(my_set1)\n",
    "\n",
    "# clear my_set\n",
    "my_set1.clear()\n",
    "print(my_set1)"
   ]
  },
  {
   "cell_type": "code",
   "execution_count": 17,
   "id": "4050cd7e-daa2-446f-bad0-25ed6277b310",
   "metadata": {},
   "outputs": [
    {
     "name": "stdout",
     "output_type": "stream",
     "text": [
      "{0, 1, 2, 3, 4, 5}\n",
      "{4, 5, 6, 7, 8, 9}\n",
      "{0, 1, 2, 3, 4, 5, 6, 7, 8, 9}\n",
      "{0, 1, 2, 3, 4, 5, 6, 7, 8, 9}\n",
      "{0, 1, 2, 3, 4, 5, 6, 7, 8, 9}\n",
      "{0, 1, 2, 3, 4, 5, 6, 7, 8, 9}\n"
     ]
    }
   ],
   "source": [
    "# set operations - union\n",
    "myset1 = {0,1,2,3,4,5}\n",
    "myset2 = {4,5,6,7,8,9}\n",
    "print(myset1)\n",
    "print(myset2)\n",
    "\n",
    "# use | operator for union\n",
    "print(myset1 | myset2)\n",
    "print(myset2 | myset1)\n",
    "print(myset1.union(myset2))\n",
    "print(myset2.union(myset1))"
   ]
  },
  {
   "cell_type": "code",
   "execution_count": 18,
   "id": "027554e7-dd84-4882-8998-862b4cf55b2b",
   "metadata": {},
   "outputs": [
    {
     "name": "stdout",
     "output_type": "stream",
     "text": [
      "{0, 1, 2, 3, 4, 5}\n",
      "{4, 5, 6, 7, 8, 9}\n",
      "{4, 5}\n",
      "{4, 5}\n",
      "{4, 5}\n",
      "{4, 5}\n"
     ]
    }
   ],
   "source": [
    "# set operations - intersection\n",
    "myset1 = {0,1,2,3,4,5}\n",
    "myset2 = {4,5,6,7,8,9}\n",
    "print(myset1)\n",
    "print(myset2)\n",
    "\n",
    "# use & operator for intersection commun elements betwen myset1 and myset2\n",
    "\n",
    "print(myset1 & myset2)\n",
    "print(myset2 & myset1)\n",
    "print(myset1.intersection(myset2))\n",
    "print(myset2.intersection(myset1))"
   ]
  },
  {
   "cell_type": "code",
   "execution_count": 19,
   "id": "544eff9d-8d54-4e0b-b53d-a1b7ec3697da",
   "metadata": {},
   "outputs": [
    {
     "name": "stdout",
     "output_type": "stream",
     "text": [
      "{0, 1, 2, 3, 4, 5}\n",
      "{4, 5, 6, 7, 8, 9}\n",
      "{0, 1, 2, 3}\n",
      "{8, 9, 6, 7}\n",
      "{0, 1, 2, 3}\n",
      "{8, 9, 6, 7}\n"
     ]
    }
   ],
   "source": [
    "# set operations - set difference\n",
    "myset1 = {0,1,2,3,4,5}\n",
    "myset2 = {4,5,6,7,8,9}\n",
    "print(myset1)\n",
    "print(myset2)\n",
    "\n",
    "# use - operator for difference\n",
    "\n",
    "print(myset1 - myset2)\n",
    "print(myset2 - myset1)\n",
    "print(myset1.difference(myset2))\n",
    "print(myset2.difference(myset1))"
   ]
  },
  {
   "cell_type": "code",
   "execution_count": 20,
   "id": "9590f96a-4754-4d3e-845e-5d8fd3778f0a",
   "metadata": {},
   "outputs": [
    {
     "name": "stdout",
     "output_type": "stream",
     "text": [
      "{0, 1, 2, 3, 4, 5}\n",
      "{4, 5, 6, 7, 8, 9}\n",
      "{0, 1, 2, 3, 6, 7, 8, 9}\n",
      "{0, 1, 2, 3, 6, 7, 8, 9}\n",
      "{0, 1, 2, 3, 6, 7, 8, 9}\n",
      "{0, 1, 2, 3, 6, 7, 8, 9}\n"
     ]
    }
   ],
   "source": [
    "# set operations - symmetric difference\n",
    "myset1 = {0,1,2,3,4,5}\n",
    "myset2 = {4,5,6,7,8,9}\n",
    "print(myset1)\n",
    "print(myset2)\n",
    "\n",
    "# use ^ ooperator for symmetric difference\n",
    "print(myset1 ^ myset2)\n",
    "print(myset2 ^ myset1)\n",
    "print(myset1.symmetric_difference(myset2))\n",
    "print(myset2.symmetric_difference(myset1))"
   ]
  },
  {
   "cell_type": "code",
   "execution_count": 21,
   "id": "86815e68-557d-47a9-b8d3-c6b7638c13a1",
   "metadata": {},
   "outputs": [
    {
     "name": "stdout",
     "output_type": "stream",
     "text": [
      "True\n",
      "False\n",
      "False\n",
      "True\n"
     ]
    }
   ],
   "source": [
    "# set membership\n",
    "myset1 = {0,1,2,3,4,5}\n",
    "print(2 in myset1)\n",
    "print(6 in myset1)\n",
    "print(2 not in myset1)\n",
    "print(6 not in myset1)\n",
    "\n",
    "# Output true,False,False,True"
   ]
  },
  {
   "cell_type": "code",
   "execution_count": 23,
   "id": "849f5c8e-3a3e-4ec6-807e-ccaa15e1714d",
   "metadata": {},
   "outputs": [
    {
     "name": "stdout",
     "output_type": "stream",
     "text": [
      "w\n",
      "c\n",
      "o\n",
      "m\n",
      "e\n",
      "l\n"
     ]
    }
   ],
   "source": [
    "# iterating through a set\n",
    "for letter in set(\"welcome\"):\n",
    "    print (letter)"
   ]
  },
  {
   "cell_type": "code",
   "execution_count": 24,
   "id": "5663d7c3-708a-473a-97f2-a78b3805280d",
   "metadata": {},
   "outputs": [
    {
     "name": "stdout",
     "output_type": "stream",
     "text": [
      "6\n",
      "5\n",
      "0\n",
      "[0, 1, 2, 3, 4, 5]\n"
     ]
    }
   ],
   "source": [
    "# built-in function with set\n",
    "myset1 = {0,1,2,3,4,5}\n",
    "print(len(myset1))\n",
    "print(max(myset1))\n",
    "print(min(myset1))\n",
    "print(sorted(myset1))"
   ]
  },
  {
   "cell_type": "code",
   "execution_count": 27,
   "id": "03a7b033-1fce-4e05-b5d8-28cae540ff10",
   "metadata": {},
   "outputs": [
    {
     "name": "stdout",
     "output_type": "stream",
     "text": [
      "frozenset({1, 2, 3, 4})\n",
      "frozenset({3, 4, 5, 6})\n",
      "frozenset({1, 2})\n",
      "frozenset({1, 2, 3, 4, 5, 6})\n",
      "frozenset({3, 4})\n",
      "frozenset({1, 2, 5, 6})\n"
     ]
    }
   ],
   "source": [
    "# Python frozenset\n",
    "# frozenset in a new class that has the characteristics\n",
    "# of a set, but its elements cannot be chance once assigned\n",
    "# while tuples are immutable lists, frozensets are immutable sets.\n",
    "# initialize A and B\n",
    "myset1 = frozenset([1,2,3,4])\n",
    "myset2 = frozenset([3,4,5,6])\n",
    "print(myset1)\n",
    "print(myset2)\n",
    "print(myset1.difference(myset2))\n",
    "print(myset1.union(myset2))\n",
    "print(myset1.intersection(myset2))\n",
    "print(myset1.symmetric_difference(myset2))\n",
    "#myset1.add(10) frozenset has not add attribute"
   ]
  },
  {
   "cell_type": "markdown",
   "id": "fd2b8cf6-3508-4283-832a-6f3feb430ed5",
   "metadata": {},
   "source": [
    " # Python Module"
   ]
  },
  {
   "cell_type": "code",
   "execution_count": 28,
   "id": "5d63dd0f-504e-4151-a358-91d0e26f6531",
   "metadata": {},
   "outputs": [
    {
     "name": "stdout",
     "output_type": "stream",
     "text": [
      "The value of pi is 3.141592653589793\n"
     ]
    }
   ],
   "source": [
    "# importing module as well renaming it\n",
    "import math as m\n",
    "\n",
    "print(\"The value of pi is\",m.pi)"
   ]
  },
  {
   "cell_type": "code",
   "execution_count": 29,
   "id": "30d7da36-b868-429c-a47c-19f37712f3a9",
   "metadata": {},
   "outputs": [
    {
     "name": "stdout",
     "output_type": "stream",
     "text": [
      "The value of pi is 3.141592653589793\n"
     ]
    }
   ],
   "source": [
    "# Usage of from\n",
    "from math import pi\n",
    "print(\"The value of pi is\",pi)\n",
    "# use directly variable pi"
   ]
  },
  {
   "cell_type": "code",
   "execution_count": 31,
   "id": "46506e43-1ea6-47c1-b492-55266320bb97",
   "metadata": {},
   "outputs": [
    {
     "name": "stdout",
     "output_type": "stream",
     "text": [
      "The value of pi is 3.141592653589793\n"
     ]
    }
   ],
   "source": [
    "# import all names from the standard module math\n",
    "from math import *\n",
    "print(\"The value of pi is\",pi)"
   ]
  },
  {
   "cell_type": "markdown",
   "id": "217562ad-085a-4f58-a675-224ed1864a7d",
   "metadata": {},
   "source": [
    "# Python Directory and File Management"
   ]
  },
  {
   "cell_type": "code",
   "execution_count": 2,
   "id": "8628490a-c824-4e03-8b2b-8ef92c88d978",
   "metadata": {},
   "outputs": [
    {
     "name": "stdout",
     "output_type": "stream",
     "text": [
      "C:\\Users\\Admin\\Documents\\DIT\\PythonCompleteCourse\n",
      "b'C:\\\\Users\\\\Admin\\\\Documents\\\\DIT\\\\PythonCompleteCourse'\n"
     ]
    },
    {
     "name": "stderr",
     "output_type": "stream",
     "text": [
      "C:\\Users\\Admin\\Documents\\DIT\\PythonCompleteCourse\\env\\lib\\site-packages\\ipykernel_launcher.py:4: DeprecationWarning: The Windows bytes API has been deprecated, use Unicode filenames instead\n",
      "  after removing the cwd from sys.path.\n"
     ]
    }
   ],
   "source": [
    "# import module os\n",
    "import os\n",
    "print(os.getcwd())      #Returns the present working directory\n",
    "print(os.getcwdb())      #Returns the present working directory as a byte object"
   ]
  },
  {
   "cell_type": "code",
   "execution_count": 5,
   "id": "c92e6c53-d0f1-4a57-bba4-e6c1ed821f88",
   "metadata": {},
   "outputs": [
    {
     "name": "stdout",
     "output_type": "stream",
     "text": [
      "['.ipynb_checkpoints', 'a.txt', 'b.txt', 'c.txt']\n",
      "C:\\Users\\Admin\\Documents\\DIT\\PythonCompleteCourse\\FileTest\n"
     ]
    }
   ],
   "source": [
    "os.chdir('C:\\\\Users\\\\Admin\\\\Documents\\\\DIT\\\\PythonCompleteCourse\\FileTest')   #use to change directory\n",
    "print(os.listdir())                                                           # All files and sub directories inside a directory\n",
    "                                                                              # can be known using the lisdir() method\n",
    "print(os.getcwd())                                                            #Returns the present working directory"
   ]
  },
  {
   "cell_type": "code",
   "execution_count": 6,
   "id": "78c37d93-d696-4451-848e-436a4ec1901f",
   "metadata": {},
   "outputs": [],
   "source": [
    "# used to make a new directory\n",
    "os.mkdir('test')"
   ]
  },
  {
   "cell_type": "code",
   "execution_count": 7,
   "id": "00320fc5-f356-4db0-a7d6-151b8c3dfc22",
   "metadata": {},
   "outputs": [],
   "source": [
    "# used to rename a directory\n",
    "os.rename('test', 'New_One')"
   ]
  },
  {
   "cell_type": "code",
   "execution_count": 8,
   "id": "66ff33b6-bcb3-4d82-994d-19b177e08a0f",
   "metadata": {},
   "outputs": [],
   "source": [
    "# Removing a file and directory\n",
    "os.remove('a.txt')               # use to remove a file\n",
    "os.rmdir('New_One')                  # use to remove a directory"
   ]
  },
  {
   "cell_type": "code",
   "execution_count": 9,
   "id": "83f9fdfc-d6e0-48e3-abf2-3357dbbd50e5",
   "metadata": {},
   "outputs": [],
   "source": [
    "os.chdir('C:\\\\Users\\\\Admin\\\\Documents\\\\DIT\\\\PythonCompleteCourse')"
   ]
  },
  {
   "cell_type": "code",
   "execution_count": 10,
   "id": "46d49221-54fa-4aed-8a69-c0007169dd0f",
   "metadata": {},
   "outputs": [
    {
     "name": "stdout",
     "output_type": "stream",
     "text": [
      "C:\\Users\\Admin\\Documents\\DIT\\PythonCompleteCourse\n"
     ]
    }
   ],
   "source": [
    "print(os.getcwd())"
   ]
  },
  {
   "cell_type": "markdown",
   "id": "e1836ce4-9e51-4e37-924b-345036ba554d",
   "metadata": {
    "tags": []
   },
   "source": [
    "# Python Dictionary "
   ]
  },
  {
   "cell_type": "code",
   "execution_count": 2,
   "id": "f2d40ed6-4b5d-4d13-a366-5a09dfe153dd",
   "metadata": {},
   "outputs": [
    {
     "name": "stdout",
     "output_type": "stream",
     "text": [
      "{1: 'Hello', 2: 'hi', 3: 'Hola'}\n",
      "Hello\n",
      "Hello\n",
      "{1: 'key', 2: 'hi', 3: 'Hola'}\n",
      "{1: 'key', 2: 'hi', 3: 'Hola', 4: 'Namaste'}\n"
     ]
    }
   ],
   "source": [
    "# Accessing elements from a dictionary 3\n",
    "new_dict = {1 : \"Hello\", 2: \"hi\", 3: \"Hola\"}\n",
    "print(new_dict)\n",
    "print(new_dict[1]) # raise except when key doesn't find\n",
    "print(new_dict.get(1)) # None when key doesn't find\n",
    "\n",
    "\n",
    "# Updating value  \n",
    "new_dict[1] = \"key\"\n",
    "print(new_dict)\n",
    "\n",
    "# Adding value\n",
    "new_dict[4] = \"Namaste\"\n",
    "print(new_dict)"
   ]
  },
  {
   "cell_type": "code",
   "execution_count": 4,
   "id": "3f22de59-40d2-45ce-8e58-2d5bf4ac3697",
   "metadata": {},
   "outputs": [
    {
     "name": "stdout",
     "output_type": "stream",
     "text": [
      "{1: 1, 2: 4, 3: 9, 4: 16, 5: 25}\n",
      "16\n",
      "{1: 1, 2: 4, 3: 9, 5: 25}\n",
      "(5, 25)\n",
      "{1: 1, 2: 4, 3: 9}\n",
      "{2: 4, 3: 9}\n"
     ]
    }
   ],
   "source": [
    "# Creating a new dictionary\n",
    "squares = {1:1, 2:4, 3:9, 4:16, 5:25}\n",
    "print(squares)\n",
    "\n",
    "# remove a particular item\n",
    "print(squares.pop(4)) # return value\n",
    "print(squares)\n",
    "\n",
    "# Remove an arbitrary item\n",
    "print(squares.popitem()) # return key and value\n",
    "print(squares)\n",
    "\n",
    "# Delete a particular item\n",
    "\n",
    "del squares[1]\n",
    "\n",
    "print (squares)"
   ]
  },
  {
   "cell_type": "code",
   "execution_count": 6,
   "id": "88dcb008-a67e-4cd6-b986-81216f77f69c",
   "metadata": {},
   "outputs": [
    {
     "name": "stdout",
     "output_type": "stream",
     "text": [
      "{1: 1, 2: 4, 3: 9, 4: 16, 5: 25}\n",
      "{}\n"
     ]
    },
    {
     "ename": "NameError",
     "evalue": "name 'squares' is not defined",
     "output_type": "error",
     "traceback": [
      "\u001b[1;31m---------------------------------------------------------------------------\u001b[0m",
      "\u001b[1;31mNameError\u001b[0m                                 Traceback (most recent call last)",
      "\u001b[1;32m~\\AppData\\Local\\Temp\\ipykernel_10536\\2099726711.py\u001b[0m in \u001b[0;36m<module>\u001b[1;34m\u001b[0m\n\u001b[0;32m     13\u001b[0m \u001b[1;33m\u001b[0m\u001b[0m\n\u001b[0;32m     14\u001b[0m \u001b[1;31m# Throws Error as the dictionary has been deleted\u001b[0m\u001b[1;33m\u001b[0m\u001b[1;33m\u001b[0m\u001b[1;33m\u001b[0m\u001b[0m\n\u001b[1;32m---> 15\u001b[1;33m \u001b[0mprint\u001b[0m\u001b[1;33m(\u001b[0m\u001b[0msquares\u001b[0m\u001b[1;33m)\u001b[0m\u001b[1;33m\u001b[0m\u001b[1;33m\u001b[0m\u001b[0m\n\u001b[0m",
      "\u001b[1;31mNameError\u001b[0m: name 'squares' is not defined"
     ]
    }
   ],
   "source": [
    "# Creating a new dictionary\n",
    "squares = {1:1, 2:4, 3:9, 4:16, 5:25}\n",
    "print(squares)\n",
    "\n",
    "# remove all items\n",
    "squares.clear()\n",
    "\n",
    "# Output {}\n",
    "print(squares)\n",
    "\n",
    "# delete the dictionary itself\n",
    "del squares\n",
    "\n",
    "# Throws Error as the dictionary has been deleted\n",
    "print(squares)"
   ]
  },
  {
   "cell_type": "code",
   "execution_count": 7,
   "id": "c1a32d00-bd42-48d3-99a4-bed21abd19e7",
   "metadata": {},
   "outputs": [
    {
     "name": "stdout",
     "output_type": "stream",
     "text": [
      "{0: 0, 1: 1, 2: 4, 3: 9, 4: 16, 5: 25}\n",
      "True\n",
      "True\n",
      "False\n"
     ]
    }
   ],
   "source": [
    "# Creating a new dictionary using comprehension (les listes comprehensions)\n",
    "squares = {x : x*x for x in range (6)}\n",
    "print(squares)\n",
    "\n",
    "# Dictionary Membership test (appartenance au dictionnaire)\n",
    "squares = {1:1, 3:9, 5:25, 7:49, 8:81}\n",
    "\n",
    "print(1 in squares)\n",
    "\n",
    "print(2 not in squares)\n",
    "\n",
    "# Membership tests for key only not value\n",
    "print(49 in squares)"
   ]
  },
  {
   "cell_type": "code",
   "execution_count": 8,
   "id": "82e7c776-8766-46e8-b5e4-4e432d832fa5",
   "metadata": {},
   "outputs": [
    {
     "name": "stdout",
     "output_type": "stream",
     "text": [
      "1\n",
      "9\n",
      "25\n",
      "49\n",
      "81\n",
      "5\n",
      "[1, 3, 5, 7, 8]\n"
     ]
    }
   ],
   "source": [
    "# Iterating through Dictionary\n",
    "squares = {1:1, 3:9, 5:25, 7:49, 8:81}\n",
    "for i in squares:\n",
    "    print(squares[i])\n",
    "\n",
    "# Use buit-in functions in a dictionary\n",
    "squares = {1:1, 3:9, 5:25, 7:49, 8:81}\n",
    "\n",
    "print(len(squares)) # Prints the length of the dictionary\n",
    "\n",
    "print(sorted(squares))  # Prints the dictionary in sorted order"
   ]
  },
  {
   "cell_type": "markdown",
   "id": "2115bd67-e0a8-4b30-9a15-65706c098952",
   "metadata": {},
   "source": [
    "# Python String"
   ]
  },
  {
   "cell_type": "code",
   "execution_count": 9,
   "id": "5c9cf1c7-9346-4575-bb11-86db4439281b",
   "metadata": {},
   "outputs": [
    {
     "name": "stdout",
     "output_type": "stream",
     "text": [
      "Welcome\n",
      "Welcome\n",
      "Welcome\n",
      "to the world of Python Programming\n"
     ]
    }
   ],
   "source": [
    "# Different ways to define a string in Python\n",
    "mystr1 = 'Welcome'\n",
    "print(mystr1)\n",
    "\n",
    "mystr2 = \"Welcome\"\n",
    "print(mystr2)\n",
    "\n",
    "mystr3 = '''Welcome'''\n",
    "\n",
    "# Triple quotes string can extend multiple lines\n",
    "mystr3 = \"\"\"Welcome\n",
    "to the world of Python Programming\"\"\"\n",
    "print(mystr3)"
   ]
  },
  {
   "cell_type": "code",
   "execution_count": 13,
   "id": "a7f3968d-61c5-47f1-bde0-418280756690",
   "metadata": {},
   "outputs": [
    {
     "name": "stdout",
     "output_type": "stream",
     "text": [
      "mystr =  language\n",
      "mystr[0] =  l\n",
      "mystr[-1] =  e\n",
      "mystr[1:5] =  angu\n",
      "mystr[5:-2] =  ag\n"
     ]
    }
   ],
   "source": [
    "# Accessing characters in a string\n",
    "mystr = 'language'\n",
    "print('mystr = ',mystr)\n",
    "\n",
    "print('mystr[0] = ',mystr[0])\n",
    "print('mystr[-1] = ',mystr[-1])\n",
    "print('mystr[1:5] = ',mystr[1:5]) # 5 not here\n",
    "print('mystr[5:-2] = ',mystr[5:-1]) # exclusif\n",
    "#print('mystr[10] = ',mystr[10]) # error index out"
   ]
  },
  {
   "cell_type": "code",
   "execution_count": 17,
   "id": "7ac1a5b9-b567-4fe7-a31f-c118cdfd8646",
   "metadata": {},
   "outputs": [
    {
     "name": "stdout",
     "output_type": "stream",
     "text": [
      "language\n",
      "Programming\n"
     ]
    },
    {
     "ename": "TypeError",
     "evalue": "'str' object does not support item assignment",
     "output_type": "error",
     "traceback": [
      "\u001b[1;31m---------------------------------------------------------------------------\u001b[0m",
      "\u001b[1;31mTypeError\u001b[0m                                 Traceback (most recent call last)",
      "\u001b[1;32m~\\AppData\\Local\\Temp\\ipykernel_10536\\3666737656.py\u001b[0m in \u001b[0;36m<module>\u001b[1;34m\u001b[0m\n\u001b[0;32m      7\u001b[0m \u001b[0mprint\u001b[0m\u001b[1;33m(\u001b[0m\u001b[0mmystr\u001b[0m\u001b[1;33m)\u001b[0m\u001b[1;33m\u001b[0m\u001b[1;33m\u001b[0m\u001b[0m\n\u001b[0;32m      8\u001b[0m \u001b[1;33m\u001b[0m\u001b[0m\n\u001b[1;32m----> 9\u001b[1;33m \u001b[0mmystr\u001b[0m\u001b[1;33m[\u001b[0m\u001b[1;36m3\u001b[0m\u001b[1;33m]\u001b[0m \u001b[1;33m=\u001b[0m \u001b[1;34m'x'\u001b[0m\u001b[1;33m\u001b[0m\u001b[1;33m\u001b[0m\u001b[0m\n\u001b[0m",
      "\u001b[1;31mTypeError\u001b[0m: 'str' object does not support item assignment"
     ]
    }
   ],
   "source": [
    "# String are immutable\n",
    "# but different strings can be assigned\n",
    "mystr = 'language'\n",
    "print(mystr)\n",
    "\n",
    "mystr = 'Programming'\n",
    "print(mystr)\n",
    "\n",
    "mystr[3] = 'x'"
   ]
  },
  {
   "cell_type": "code",
   "execution_count": 20,
   "id": "f714ec82-85c3-469f-83c0-83a06bd76871",
   "metadata": {},
   "outputs": [
    {
     "name": "stdout",
     "output_type": "stream",
     "text": [
      "mystr1 + mystr2 =  Welcome to all\n",
      "mystr1 * 3= WelcomeWelcomeWelcome\n"
     ]
    }
   ],
   "source": [
    "# Concatenation of strings\n",
    "mystr1 = 'Welcome'\n",
    "mystr2 = ' to all'\n",
    "\n",
    "#Using +\n",
    "print('mystr1 + mystr2 = ',mystr1+mystr2 )\n",
    "\n",
    "# Using *\n",
    "print('mystr1 * 3=',mystr1*3 )"
   ]
  },
  {
   "cell_type": "code",
   "execution_count": 21,
   "id": "d80c1906-e9da-4fc8-a305-83278d0cb85a",
   "metadata": {},
   "outputs": [
    {
     "name": "stdout",
     "output_type": "stream",
     "text": [
      "3 times l letter has been found\n"
     ]
    }
   ],
   "source": [
    "# iterating through a string\n",
    "letter_count = 0\n",
    "for letters in 'Hello World':\n",
    "    if (letters == 'l'):\n",
    "        letter_count +=1\n",
    "print(letter_count,'times l letter has been found')"
   ]
  },
  {
   "cell_type": "code",
   "execution_count": 24,
   "id": "271361bb-6924-44ee-8722-94354474f822",
   "metadata": {},
   "outputs": [
    {
     "name": "stdout",
     "output_type": "stream",
     "text": [
      "True\n",
      "False\n",
      "False\n",
      "True\n"
     ]
    }
   ],
   "source": [
    "# String Membership\n",
    "print('l' in \"hello\")\n",
    "print('l' not in \"hello\")\n",
    "print('b' in \"hello\")\n",
    "print('b' not in  \"hello\")"
   ]
  },
  {
   "cell_type": "code",
   "execution_count": 29,
   "id": "598bf2f3-754c-4cbc-b5b9-f16069a1d9b7",
   "metadata": {},
   "outputs": [
    {
     "name": "stdout",
     "output_type": "stream",
     "text": [
      "list(enumerate(mystr)  [(0, 'u'), (1, 'n'), (2, 'i'), (3, 'v'), (4, 'e'), (5, 'r'), (6, 's'), (7, 'i'), (8, 't'), (9, 'y')]\n",
      "len(mystr) =  10\n"
     ]
    }
   ],
   "source": [
    "# buil-in functions\n",
    "mystr = 'university'\n",
    "\n",
    "# using enumerate()\n",
    "my_list_enumerate = list(enumerate(mystr))\n",
    "print('list(enumerate(mystr) ',my_list_enumerate)\n",
    "\n",
    "#using character count\n",
    "print('len(mystr) = ', len(mystr))"
   ]
  },
  {
   "cell_type": "code",
   "execution_count": 40,
   "id": "e3d847b3-7fd4-4213-a0b8-7bd5eb2b49d6",
   "metadata": {},
   "outputs": [
    {
     "name": "stdout",
     "output_type": "stream",
     "text": [
      "tell me \"what's your name ?\"\n",
      "tell me \"What's your name?\"\n",
      "tell me 'What's your name?'\n",
      "tell me \"What's your name?\"\n"
     ]
    }
   ],
   "source": [
    "# String formatting using escape sequence*\n",
    "#print(\"tell me \"What's your name ?\"\")\n",
    "\n",
    "# using triple quotes\n",
    "print('''tell me \"what's your name ?\"''')\n",
    "\n",
    "# escaping single quotes\n",
    "print('tell me \"What\\'s your name?\"')\n",
    "\n",
    "# escaping single quotes\n",
    "print(\"tell me 'What\\'s your name?'\")\n",
    "\n",
    "# escaping double quote\n",
    "print(\"tell me \\\"What's your name?\\\"\")"
   ]
  },
  {
   "cell_type": "code",
   "execution_count": 46,
   "id": "29e313a9-6ca5-496c-9a5d-2cf2b19920de",
   "metadata": {},
   "outputs": [
    {
     "name": "stdout",
     "output_type": "stream",
     "text": [
      "c:\\User\\user\\mydata.txt\n",
      "This line is having a new line \n",
      "character\n",
      "This line is having a tab \t character\n",
      "ABC written in ABC (HEX) representation\n"
     ]
    }
   ],
   "source": [
    "print(\"c:\\\\User\\\\user\\\\mydata.txt\")\n",
    "print(\"This line is having a new line \\ncharacter\")\n",
    "print(\"This line is having a tab \\t character\")\n",
    "print(\"ABC written in \\x41\\x42\\x43 (HEX) representation\")"
   ]
  },
  {
   "cell_type": "code",
   "execution_count": 45,
   "id": "a331baca-6859-451e-9442-fed3a59c5a75",
   "metadata": {},
   "outputs": [
    {
     "name": "stdout",
     "output_type": "stream",
     "text": [
      "Today is and Sunday\n",
      "Today is and Sunday\n",
      "Today is and Sunday\n"
     ]
    }
   ],
   "source": [
    "# Format () method \n",
    "# Default (implicit) order\n",
    "default_order = \"{} {} and {}\".format('Today','is','Sunday')\n",
    "print(default_order)\n",
    "\n",
    "# Order using positional argument\n",
    "positional_order = \"{1} {0} and {2}\".format('is','Today','Sunday')\n",
    "print(default_order)\n",
    "\n",
    "# Order using keyword argument\n",
    "keyword_order = \"{t} {i} and {s}\".format(i='is',t='today', s = 'Sunday')\n",
    "print(default_order)"
   ]
  },
  {
   "cell_type": "code",
   "execution_count": 48,
   "id": "d9909b15-aeb5-4efd-877d-4045f91c08ca",
   "metadata": {},
   "outputs": [
    {
     "name": "stdout",
     "output_type": "stream",
     "text": [
      "Required binary representation of 20 is 10100\n",
      "Exponent representation : 1.566345e+03\n",
      "One third is 0.3333333333333333 is 0.333\n"
     ]
    }
   ],
   "source": [
    "# Formatting numbers\n",
    "print(\"Required binary representation of {0} is {0:b}\".format(20))\n",
    "\n",
    "# Formatting floats\n",
    "print(\"Exponent representation : {0:e}\".format(1566.345))\n",
    "\n",
    "\n",
    "# Round off\n",
    "print(\"One third is {0} is {0:.3f}\".format(1/3))"
   ]
  },
  {
   "cell_type": "code",
   "execution_count": 53,
   "id": "4f9a792f-3860-41c1-90b1-3ce514efb617",
   "metadata": {},
   "outputs": [
    {
     "name": "stdout",
     "output_type": "stream",
     "text": [
      "good morning to all\n",
      "GOOD MORNING TO ALL\n",
      "13\n",
      "-1\n",
      "gOOD moRNING tO everybody\n",
      "gOOD moRNING tO aLl\n"
     ]
    }
   ],
   "source": [
    " # String methods \n",
    "print(\"gOOD moRNING tO aLl\".lower())\n",
    "print(\"gOOD moRNING tO aLl\".upper())\n",
    "print(\"gOOD moRNING tO aLl\".find('tO'))\n",
    "print(\"gOOD moRNING tO aLl\".find('to')) # not match\n",
    "print(\"gOOD moRNING tO aLl\".replace('aLl','everybody'))\n",
    "print(\"gOOD moRNING tO aLl\".replace('all','everybody')) # not match"
   ]
  },
  {
   "cell_type": "markdown",
   "id": "17cc95cb-0298-4a1b-9b66-650895491f47",
   "metadata": {},
   "source": [
    "# Datatype Conversion in Python"
   ]
  },
  {
   "cell_type": "code",
   "execution_count": 54,
   "id": "806728a4-d2e4-4256-a868-229da159eeb0",
   "metadata": {},
   "outputs": [
    {
     "name": "stdout",
     "output_type": "stream",
     "text": [
      "datatype of num_int: <class 'int'>\n",
      "datatype of num_flo: <class 'float'>\n",
      "Value of num_new: 124.23\n",
      "datatype of num_new: <class 'float'>\n"
     ]
    }
   ],
   "source": [
    "# Implicit Type conversion\n",
    "num_int = 123\n",
    "num_flo = 1.23\n",
    "\n",
    "num_new = num_int + num_flo\n",
    "\n",
    "print(\"datatype of num_int:\",type(num_int))\n",
    "print(\"datatype of num_flo:\",type(num_flo))\n",
    "\n",
    "print(\"Value of num_new:\",num_new)\n",
    "print(\"datatype of num_new:\",type(num_new))"
   ]
  },
  {
   "cell_type": "code",
   "execution_count": 56,
   "id": "c30c20e1-d8bd-403d-8415-c887578e9d6b",
   "metadata": {},
   "outputs": [
    {
     "name": "stdout",
     "output_type": "stream",
     "text": [
      "Data type of num_int: <class 'int'>\n",
      "Data type of num_str: <class 'str'>\n"
     ]
    },
    {
     "ename": "TypeError",
     "evalue": "unsupported operand type(s) for +: 'int' and 'str'",
     "output_type": "error",
     "traceback": [
      "\u001b[1;31m---------------------------------------------------------------------------\u001b[0m",
      "\u001b[1;31mTypeError\u001b[0m                                 Traceback (most recent call last)",
      "\u001b[1;32m~\\AppData\\Local\\Temp\\ipykernel_10536\\1447606530.py\u001b[0m in \u001b[0;36m<module>\u001b[1;34m\u001b[0m\n\u001b[0;32m      6\u001b[0m \u001b[0mprint\u001b[0m\u001b[1;33m(\u001b[0m\u001b[1;34m\"Data type of num_str:\"\u001b[0m\u001b[1;33m,\u001b[0m\u001b[0mtype\u001b[0m\u001b[1;33m(\u001b[0m\u001b[0mnum_str\u001b[0m\u001b[1;33m)\u001b[0m\u001b[1;33m)\u001b[0m\u001b[1;33m\u001b[0m\u001b[1;33m\u001b[0m\u001b[0m\n\u001b[0;32m      7\u001b[0m \u001b[1;31m# Error : implicit conversiion will not work here\u001b[0m\u001b[1;33m\u001b[0m\u001b[1;33m\u001b[0m\u001b[1;33m\u001b[0m\u001b[0m\n\u001b[1;32m----> 8\u001b[1;33m \u001b[0mprint\u001b[0m\u001b[1;33m(\u001b[0m\u001b[0mnum_int\u001b[0m \u001b[1;33m+\u001b[0m \u001b[0mnum_str\u001b[0m\u001b[1;33m)\u001b[0m\u001b[1;33m\u001b[0m\u001b[1;33m\u001b[0m\u001b[0m\n\u001b[0m",
      "\u001b[1;31mTypeError\u001b[0m: unsupported operand type(s) for +: 'int' and 'str'"
     ]
    }
   ],
   "source": [
    "# Addition of string(higher) data type and integer (lower) datatype\n",
    "num_int = 123\n",
    "num_str = \"456\"\n",
    "\n",
    "print(\"Data type of num_int:\",type(num_int))\n",
    "print(\"Data type of num_str:\",type(num_str))\n",
    "# Error : implicit conversiion will not work here\n",
    "print(num_int + num_str)"
   ]
  },
  {
   "cell_type": "code",
   "execution_count": 58,
   "id": "69d248ae-97f3-4c25-8eac-fd6ddbcd4feb",
   "metadata": {},
   "outputs": [
    {
     "name": "stdout",
     "output_type": "stream",
     "text": [
      "Data type of num_int: <class 'int'>\n",
      "Data type of num_str before Type Casting: <class 'str'>\n",
      "Data type of num_str after Type Casting: <class 'int'>\n",
      "Sum of num_int and num_str: 579\n",
      "Data type of the sum: <class 'int'>\n"
     ]
    }
   ],
   "source": [
    "# Implicit Type conversion\n",
    "num_int = 123\n",
    "num_str = \"456\"\n",
    "\n",
    "print(\"Data type of num_int:\",type(num_int))\n",
    "print(\"Data type of num_str before Type Casting:\",type(num_str))\n",
    "\n",
    "num_str = int(num_str) # convert string to int\n",
    "print(\"Data type of num_str after Type Casting:\",type(num_str))\n",
    "\n",
    "num_sum = num_int + num_str\n",
    "\n",
    "print(\"Sum of num_int and num_str:\",num_sum)\n",
    "\n",
    "print(\"Data type of the sum:\",type(num_sum))"
   ]
  },
  {
   "cell_type": "markdown",
   "id": "8a9b6429-972b-4f4b-9f46-cd4633c31acd",
   "metadata": {},
   "source": [
    "# Type Numbers"
   ]
  },
  {
   "cell_type": "code",
   "execution_count": 1,
   "id": "34748acc-d3a1-446d-8490-e76ee39e6b6e",
   "metadata": {},
   "outputs": [
    {
     "name": "stdout",
     "output_type": "stream",
     "text": [
      "<class 'int'>\n",
      "True\n",
      "False\n",
      "False\n"
     ]
    }
   ],
   "source": [
    "value1 = 100\n",
    "print(type(value1))\n",
    "print(isinstance(value1,int))\n",
    "print(isinstance(value1,float))\n",
    "print(isinstance(value1,complex))"
   ]
  },
  {
   "cell_type": "code",
   "execution_count": 4,
   "id": "206d626e-4b4e-4d36-a2bb-42be4cd3a200",
   "metadata": {},
   "outputs": [
    {
     "name": "stdout",
     "output_type": "stream",
     "text": [
      "<class 'float'>\n",
      "False\n",
      "True\n",
      "False\n"
     ]
    }
   ],
   "source": [
    "value2 = 100.24\n",
    "print(type(value2))\n",
    "print(isinstance(value2,int))\n",
    "print(isinstance(value2,float))\n",
    "print(isinstance(value2,complex))"
   ]
  },
  {
   "cell_type": "code",
   "execution_count": 6,
   "id": "a6229787-e73b-4752-890e-3e3a99af5968",
   "metadata": {},
   "outputs": [
    {
     "name": "stdout",
     "output_type": "stream",
     "text": [
      "<class 'complex'>\n",
      "False\n",
      "False\n",
      "True\n"
     ]
    }
   ],
   "source": [
    "value3 = 50 + 6j\n",
    "print(type(value3))\n",
    "print(isinstance(value3,int))\n",
    "print(isinstance(value3,float))\n",
    "print(isinstance(value3,complex))"
   ]
  },
  {
   "cell_type": "code",
   "execution_count": 7,
   "id": "7aab1b1d-bc9d-40f6-8cb4-f2f8368d9a53",
   "metadata": {},
   "outputs": [
    {
     "name": "stdout",
     "output_type": "stream",
     "text": [
      "13\n",
      "171\n",
      "19\n"
     ]
    }
   ],
   "source": [
    "print(0b1101)\n",
    "print(0xab)\n",
    "print(0o23)"
   ]
  },
  {
   "cell_type": "code",
   "execution_count": 9,
   "id": "3ef57314-2406-4735-9077-d17bf354f53d",
   "metadata": {},
   "outputs": [
    {
     "name": "stdout",
     "output_type": "stream",
     "text": [
      "43.4\n"
     ]
    }
   ],
   "source": [
    "print(10 + 33.4) # implicit convert float"
   ]
  },
  {
   "cell_type": "code",
   "execution_count": 14,
   "id": "0724cbcd-92aa-4241-84f4-ad8e3ad43fae",
   "metadata": {},
   "outputs": [
    {
     "name": "stdout",
     "output_type": "stream",
     "text": [
      "10\n",
      "-20\n",
      "10.0\n"
     ]
    }
   ],
   "source": [
    "# Type conversion\n",
    "print(int(10.5))\n",
    "print(int(-20.99))\n",
    "print(float(10))"
   ]
  },
  {
   "cell_type": "code",
   "execution_count": 18,
   "id": "4dedb1ec-545a-48b8-a415-90e39ac119cd",
   "metadata": {},
   "outputs": [
    {
     "name": "stdout",
     "output_type": "stream",
     "text": [
      "0.30000000000000004\n",
      "3.0\n",
      "0.3\n",
      "3.00\n"
     ]
    }
   ],
   "source": [
    "# Python decimal\n",
    "data1 = 0.1 + 0.2 # error add\n",
    "print(data1)\n",
    "data1 = 1.20 * 2.50\n",
    "print(data1)\n",
    "from decimal import Decimal as D\n",
    "print(D('0.1') + D('0.2'))\n",
    "print(D('1.2')* D('2.5'))"
   ]
  },
  {
   "cell_type": "code",
   "execution_count": 19,
   "id": "cf6a4469-c6af-4294-aecc-41c43c4629bd",
   "metadata": {},
   "outputs": [
    {
     "name": "stdout",
     "output_type": "stream",
     "text": [
      "3/2\n",
      "5\n",
      "1/5\n"
     ]
    }
   ],
   "source": [
    "# Python fraction\n",
    "from fractions import Fraction as F\n",
    "print(F('1.5')) \n",
    "print(F('5')) \n",
    "print(F(1,5)) "
   ]
  },
  {
   "cell_type": "code",
   "execution_count": 21,
   "id": "7ab33b1a-a96b-4ed5-8f6e-ff40fdf7f04e",
   "metadata": {},
   "outputs": [
    {
     "name": "stdout",
     "output_type": "stream",
     "text": [
      "3.141592653589793\n",
      "-0.8390715290764524\n",
      "2.302585092994046\n",
      "1.0\n",
      "22026.465794806718\n",
      "120\n",
      "11013.232874703393\n"
     ]
    }
   ],
   "source": [
    "# Python math module\n",
    "import math\n",
    "print(math.pi) \n",
    "print(math.cos(10)) \n",
    "print(math.log(10)) \n",
    "print(math.log10(10)) \n",
    "print(math.exp(10))\n",
    "print(math.factorial(5)) \n",
    "print(math.sinh(10)) "
   ]
  },
  {
   "cell_type": "code",
   "execution_count": 34,
   "id": "a4f12e8a-fe90-42d5-852b-59e76a9c0bf7",
   "metadata": {},
   "outputs": [
    {
     "name": "stdout",
     "output_type": "stream",
     "text": [
      "Random number --->  9\n",
      "Random number --->  6\n",
      "Random number --->  10\n",
      "Random number --->  5\n",
      "Wed\n",
      "['Sun', 'Mon', 'Tue', 'Wed', 'Thu', 'Fri', 'Sat']\n",
      "['Sun', 'Thu', 'Wed', 'Sat', 'Fri', 'Mon', 'Tue']\n",
      "0.5156018208339357\n"
     ]
    }
   ],
   "source": [
    "# Python random module\n",
    "import random\n",
    "print ('Random number ---> ', random.randrange(5,15)) # start and stop value\n",
    "print ('Random number ---> ', random.randrange(5,15))\n",
    "print ('Random number ---> ', random.randrange(5,15))\n",
    "print ('Random number ---> ', random.randrange(5,15))\n",
    "\n",
    "day = ['Sun','Mon','Tue','Wed','Thu','Fri','Sat']\n",
    "print(random.choice(day))\n",
    "\n",
    "print (day)\n",
    "random.shuffle(day)\n",
    "print(day)\n",
    "\n",
    "# Print random element\n",
    "print(random.random())"
   ]
  },
  {
   "cell_type": "markdown",
   "id": "efb8f2f8-9339-40c3-8a38-0ab88400866d",
   "metadata": {},
   "source": [
    "# Namespace and Scope"
   ]
  },
  {
   "cell_type": "code",
   "execution_count": 6,
   "id": "9e362e13-3be4-44d2-9b10-1e052203c229",
   "metadata": {},
   "outputs": [
    {
     "name": "stdout",
     "output_type": "stream",
     "text": [
      "id(2) =  140709852377376\n",
      "id(2) =  140709852377376\n",
      "id(a) =  140709852377376\n",
      "id(a) =  140709852377408\n",
      "id(3) =  140709852377408\n",
      "id(2) =  140709852377376\n",
      "id(b) =  140709852377376\n"
     ]
    }
   ],
   "source": [
    "# Name (also called identifier) is simply a name given to object\n",
    "# We can get the adress (in Ram) of some object through the built-in function, id()\n",
    "# Note : You may get different walue of id\n",
    "\n",
    "a = 2\n",
    "# Output : id(2) = 10919424\n",
    "print('id(2) = ',id(2))\n",
    "\n",
    "# Output : id(2) = 10919424\n",
    "print('id(2) = ',id(2))\n",
    "\n",
    "a = 2\n",
    "# Output : id(2) = 10919424\n",
    "print('id(a) = ',id(a))\n",
    "\n",
    "a = a+1\n",
    "# Output : id(2) = 10919424\n",
    "print('id(a) = ',id(a))\n",
    "\n",
    "# Output : id(2) = 10919424\n",
    "print('id(3) = ',id(3))\n",
    "\n",
    "b = 2\n",
    "# Output : id(2) = 10919424\n",
    "print('id(2) = ',id(2))\n",
    "print('id(b) = ',id(b))"
   ]
  },
  {
   "cell_type": "code",
   "execution_count": 11,
   "id": "90781110-0985-40b4-a92f-a7327034db1f",
   "metadata": {},
   "outputs": [
    {
     "name": "stdout",
     "output_type": "stream",
     "text": [
      "a =  10\n",
      "a =  30\n",
      "a =  30\n",
      "a =  30\n"
     ]
    }
   ],
   "source": [
    "# Scope\n",
    "\n",
    "def outer_function():\n",
    "    global a\n",
    "    a =20\n",
    "    \n",
    "    def inner_function():\n",
    "        global a\n",
    "        a = 30\n",
    "        print('a = ', a)\n",
    "        \n",
    "    inner_function()\n",
    "    print('a = ', a)\n",
    "\n",
    "a = 10\n",
    "print('a = ', a)\n",
    "outer_function()\n",
    "print('a = ', a)"
   ]
  },
  {
   "cell_type": "markdown",
   "id": "da784842-bf8c-44be-a6e9-b5861cbad49e",
   "metadata": {},
   "source": [
    "# Python Global, Local and Nonlocal Variables"
   ]
  },
  {
   "cell_type": "code",
   "execution_count": 1,
   "id": "9ca0b7da-3dcc-48f1-9247-dde284518566",
   "metadata": {},
   "outputs": [
    {
     "name": "stdout",
     "output_type": "stream",
     "text": [
      "Global x =  global\n",
      "globalglobal\n",
      "local\n",
      "Global x =  globalglobal\n"
     ]
    }
   ],
   "source": [
    "# Global and local variable with different name\n",
    "\n",
    "x = \"global\" # Global variable can be accessed from anywhere\n",
    "\n",
    "def funct1():\n",
    "    global x\n",
    "    y = \"local\"\n",
    "    x = x * 2\n",
    "    print(x)\n",
    "    print(y)\n",
    "\n",
    "print(\"Global x = \",x)\n",
    "funct1()\n",
    "print(\"Global x = \",x)"
   ]
  },
  {
   "cell_type": "code",
   "execution_count": 2,
   "id": "978a1c44-43ee-4c2d-93f0-f64e59d89ff4",
   "metadata": {},
   "outputs": [
    {
     "name": "stdout",
     "output_type": "stream",
     "text": [
      "Global a =  5\n",
      "local a =  10\n",
      "Global a =  5\n"
     ]
    }
   ],
   "source": [
    "# Global and local variable with different name\n",
    "\n",
    "a = 5\n",
    "\n",
    "def funct2():\n",
    "    a=10 #local variable can be accessed from the block where it it defined only\n",
    "    print(\"local a = \",a) \n",
    "\n",
    "print(\"Global a = \",a)\n",
    "funct2()\n",
    "print(\"Global a = \",a)"
   ]
  },
  {
   "cell_type": "code",
   "execution_count": 3,
   "id": "6ed14efe-b5fd-4f85-8942-3b248d5a01e9",
   "metadata": {},
   "outputs": [
    {
     "name": "stdout",
     "output_type": "stream",
     "text": [
      "inner: nonlocal\n",
      "outer: nonlocal\n"
     ]
    }
   ],
   "source": [
    "# Creating and using a Non-local variable\n",
    "\n",
    "def outer():\n",
    "    x = \"local\"\n",
    "    \n",
    "    def inner():\n",
    "        nonlocal x # Nonlocal variable are used in nested function\n",
    "        x = \"nonlocal\"\n",
    "        print(\"inner:\",x)\n",
    "        \n",
    "    inner()\n",
    "    print(\"outer:\",x)\n",
    "    \n",
    "outer()"
   ]
  },
  {
   "cell_type": "markdown",
   "id": "9cd7e085-b7d7-48ff-af41-65395ff8bb9a",
   "metadata": {},
   "source": [
    "# Python Global Keyword"
   ]
  },
  {
   "cell_type": "code",
   "execution_count": 4,
   "id": "5909c12c-4a27-483f-8c66-90f3e6dcb69f",
   "metadata": {},
   "outputs": [
    {
     "name": "stdout",
     "output_type": "stream",
     "text": [
      "Before calling funct2 :  20\n",
      "Calling funct2 now \n",
      "After calling funct2 :  20\n",
      "x is main :  25\n"
     ]
    }
   ],
   "source": [
    "def funct1():\n",
    "    x = 20\n",
    "    \n",
    "    def funct2():\n",
    "        global x # Global keyword is used to modify a global variable\n",
    "        x = 25\n",
    "        \n",
    "    print(\"Before calling funct2 : \", x)\n",
    "    print(\"Calling funct2 now \")\n",
    "    funct2()\n",
    "    print(\"After calling funct2 : \",x)\n",
    "\n",
    "funct1()\n",
    "print(\"x is main : \",x)"
   ]
  },
  {
   "cell_type": "markdown",
   "id": "51074827-0769-49d3-9dec-e2b4627034ee",
   "metadata": {},
   "source": [
    "# Python Iterators "
   ]
  },
  {
   "cell_type": "code",
   "execution_count": 2,
   "id": "4801f530-a5e5-403f-8acb-c01fd999f397",
   "metadata": {},
   "outputs": [
    {
     "name": "stdout",
     "output_type": "stream",
     "text": [
      "44\n",
      "77\n",
      "11\n",
      "33\n"
     ]
    },
    {
     "ename": "StopIteration",
     "evalue": "",
     "output_type": "error",
     "traceback": [
      "\u001b[1;31m---------------------------------------------------------------------------\u001b[0m",
      "\u001b[1;31mStopIteration\u001b[0m                             Traceback (most recent call last)",
      "Input \u001b[1;32mIn [2]\u001b[0m, in \u001b[0;36m<module>\u001b[1;34m\u001b[0m\n\u001b[0;32m     23\u001b[0m \u001b[38;5;28mprint\u001b[39m(our_iter\u001b[38;5;241m.\u001b[39m\u001b[38;5;21m__next__\u001b[39m())\n\u001b[0;32m     25\u001b[0m \u001b[38;5;66;03m## This will raise error, no items left\u001b[39;00m\n\u001b[1;32m---> 26\u001b[0m \u001b[38;5;28;43mnext\u001b[39;49m\u001b[43m(\u001b[49m\u001b[43mour_iter\u001b[49m\u001b[43m)\u001b[49m\n",
      "\u001b[1;31mStopIteration\u001b[0m: "
     ]
    }
   ],
   "source": [
    "# definition a list\n",
    "our_list = [44,77,11,33]\n",
    "\n",
    "# get an iterator using iter() method\n",
    "our_iter = iter(our_list)\n",
    "\n",
    "## iterate through it using next() method\n",
    "\n",
    "## print 44\n",
    "print(next(our_iter))\n",
    "\n",
    "\n",
    "print(next(our_iter))\n",
    "\n",
    "## next(obj) is same as calling obj.__next__() method\n",
    "\n",
    "### iterate through it using next() method\n",
    "\n",
    "## print 11\n",
    "print(our_iter.__next__())\n",
    "\n",
    "## print 33\n",
    "print(our_iter.__next__())\n",
    "\n",
    "## This will raise error, no items left\n",
    "next(our_iter)"
   ]
  },
  {
   "cell_type": "code",
   "execution_count": 6,
   "id": "c37745fa-58ca-42d0-8e62-5bf4ad345237",
   "metadata": {},
   "outputs": [
    {
     "name": "stdout",
     "output_type": "stream",
     "text": [
      " class to implement an \n",
      "    iterator of powers of two \n",
      "1\n",
      "2\n",
      "4\n"
     ]
    }
   ],
   "source": [
    "# create  a custom iterrator\n",
    "\n",
    "class Pow_of_Two:\n",
    "    ''' class to implement an \n",
    "    iterator of powers of two '''\n",
    "   \n",
    "    #constructor with default value max contains 0\n",
    "    def __init__(self, max = 0):\n",
    "        self.max = max\n",
    "  \n",
    "    \n",
    "    def __iter__(self):\n",
    "        self.n = 0\n",
    "        return self\n",
    "    \n",
    "    def __next__(self):\n",
    "        if self.n<= self.max:\n",
    "            result = 2 ** self.n\n",
    "            self.n += 1\n",
    "            return result\n",
    "        else:\n",
    "            raise StopIteration\n",
    "\n",
    "print(Pow_of_Two.__doc__)\n",
    "\n",
    "a = Pow_of_Two(4)\n",
    "\n",
    "i = iter(a)\n",
    "print(next(i))\n",
    "print(i.__next__())\n",
    "#print(next(i))\n",
    "print(next(i))\n",
    "            "
   ]
  },
  {
   "cell_type": "code",
   "execution_count": 9,
   "id": "b7372260-570c-43df-b34d-69eee5d11120",
   "metadata": {},
   "outputs": [
    {
     "name": "stdout",
     "output_type": "stream",
     "text": [
      "1\n",
      "3\n",
      "5\n",
      "7\n",
      "9\n",
      "11\n",
      "13\n",
      "15\n",
      "17\n",
      "19\n",
      "21\n",
      "23\n"
     ]
    }
   ],
   "source": [
    "# creating a infinite custom iterrator\n",
    "\n",
    "class Infinite_Iter:\n",
    "    \"\"\" Infinite iterator to return all \n",
    "    odd numbers\"\"\"\n",
    "    \n",
    "    def __iter__(self):\n",
    "        self.num = 1\n",
    "        return self\n",
    "    \n",
    "    def __next__(self):\n",
    "        num = self.num\n",
    "        self.num +=2\n",
    "        return num\n",
    "\n",
    "i = Infinite_Iter()\n",
    "a = iter(i)\n",
    "print(next(a))\n",
    "print(next(a))\n",
    "print(next(a))\n",
    "print(next(a))\n",
    "print(next(a))\n",
    "print(next(a))\n",
    "print(next(a))\n",
    "print(next(a))\n",
    "print(next(a))\n",
    "print(next(a))\n",
    "print(next(a))\n",
    "print(next(a))"
   ]
  },
  {
   "cell_type": "code",
   "execution_count": null,
   "id": "4f259391-e9e4-49bc-aee3-01409c4500ee",
   "metadata": {},
   "outputs": [],
   "source": []
  }
 ],
 "metadata": {
  "kernelspec": {
   "display_name": "Python 3 (ipykernel)",
   "language": "python",
   "name": "python3"
  },
  "language_info": {
   "codemirror_mode": {
    "name": "ipython",
    "version": 3
   },
   "file_extension": ".py",
   "mimetype": "text/x-python",
   "name": "python",
   "nbconvert_exporter": "python",
   "pygments_lexer": "ipython3",
   "version": "3.10.2"
  }
 },
 "nbformat": 4,
 "nbformat_minor": 5
}
