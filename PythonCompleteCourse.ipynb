{
 "cells": [
  {
   "cell_type": "code",
   "execution_count": 1,
   "id": "fee0a1c8-427a-4485-91ed-ec61ae3e98cd",
   "metadata": {},
   "outputs": [],
   "source": [
    "# Declaring and assigning value to constant\n",
    "PI = 3.14\n",
    "GRAVITY = 9.8"
   ]
  },
  {
   "cell_type": "code",
   "execution_count": 2,
   "id": "dc7059e4-6cf1-45f5-bba6-3b1c8c252b4d",
   "metadata": {},
   "outputs": [
    {
     "name": "stdout",
     "output_type": "stream",
     "text": [
      "Apple\n",
      "Aeroplane\n",
      "100\n",
      "1 2.5 Hello\n",
      "5 5 5\n"
     ]
    }
   ],
   "source": [
    "# Declaring and assigning value to constant\n",
    "\n",
    "a = \"Apple\"\n",
    "print(a)\n",
    "\n",
    "# Changing value of a variable\n",
    "\n",
    "a = \"Aeroplane\"\n",
    "print(a)\n",
    "\n",
    "a = 100\n",
    "print(a)\n",
    "\n",
    "# Python is a dynamic type language\n",
    "\n",
    "#Assigning Multiple values to a variable\n",
    "\n",
    "b,c,d = 1,2.5, \"Hello\"\n",
    "print(b,c,d)\n",
    "\n",
    "# Assigning same value to multiple variables\n",
    "b = c = d = 5\n",
    "print(b,c,d)"
   ]
  },
  {
   "cell_type": "code",
   "execution_count": null,
   "id": "4b63aef2-2819-4bec-af93-949cd3101c16",
   "metadata": {},
   "outputs": [],
   "source": []
  }
 ],
 "metadata": {
  "kernelspec": {
   "display_name": "Python 3 (ipykernel)",
   "language": "python",
   "name": "python3"
  },
  "language_info": {
   "codemirror_mode": {
    "name": "ipython",
    "version": 3
   },
   "file_extension": ".py",
   "mimetype": "text/x-python",
   "name": "python",
   "nbconvert_exporter": "python",
   "pygments_lexer": "ipython3",
   "version": "3.7.4"
  }
 },
 "nbformat": 4,
 "nbformat_minor": 5
}
